{
  "cells": [
    {
      "cell_type": "markdown",
      "metadata": {
        "id": "ljw8dn3WuF0r"
      },
      "source": [
        "# Hands on Machine Learning (ML) for Materials\n",
        "\n",
        "[![Open In Colab](https://colab.research.google.com/assets/colab-badge.svg)](https://colab.research.google.com/github/paolodeangelis/AEM/blob/main/2_Hands_on_ML_for_Materials.ipynb)"
      ]
    },
    {
      "cell_type": "markdown",
      "metadata": {
        "id": "rPcM7-eWuF0w"
      },
      "source": [
        "# NN Model Regressor\n",
        "\n",
        "## Introduction\n",
        "\n",
        "In this hands-on tutorial, we will explore how to **predict the elastic properties** of crystalline materials using a machine learning approach. Specifically, we will show how to:\n",
        "\n",
        "1. Load a dataset of structures and their associated elastic tensors.\n",
        "2. Clean and preprocess the data (removing outliers, normalizing target values, etc.).\n",
        "3. Represent each structure with a **SOAP** (Smooth Overlap of Atomic Positions) descriptor.\n",
        "4. Train a simple **neural network** model in **PyTorch** to predict the diagonal components of the elastic tensor ($\\mathrm{C}_{11}, \\mathrm{C}_{22}, \\mathrm{C}_{33}, \\mathrm{C}_{44}, \\mathrm{C}_{55}, \\mathrm{C}_{66}$).\n",
        "5. Evaluate model performance using metrics such as **mean absolute error** (MAE) and **$R^2$**.\n",
        "6. [Optional] Compare these predictions with a direct **DFT-based approach** (via MACE) for calculating certain elastic constants."
      ]
    },
    {
      "cell_type": "markdown",
      "metadata": {
        "id": "QUpjaxVssoO_"
      },
      "source": [
        "## Theoretical Context\n",
        "\n",
        "### Elastic Tensor\n",
        "\n",
        "A second-order elastic stiffness tensor $\\mathbf{C}$ in 3D has 36 components, which are typically reduced to 21 independent components by symmetry. It generalizes **Hooke's law** and **completely** describes the elastic **behavior** of the material.\n",
        "\n",
        "$$\n",
        "    \\begin{pmatrix}\n",
        "    \\sigma_{11}\\\\[6pt]\n",
        "    \\sigma_{22}\\\\[6pt]\n",
        "    \\sigma_{33}\\\\[6pt]\n",
        "    \\sigma_{23}\\\\[6pt]\n",
        "    \\sigma_{13}\\\\[6pt]\n",
        "    \\sigma_{12}\n",
        "    \\end{pmatrix}\n",
        "    =\n",
        "    \\underbrace{\\begin{pmatrix}\n",
        "    C_{11} & C_{12} & C_{13} & C_{14} & C_{15} & C_{16}\\\\[6pt]\n",
        "    C_{21} & C_{22} & C_{23} & C_{24} & C_{25} & C_{26}\\\\[6pt]\n",
        "    C_{31} & C_{32} & C_{33} & C_{34} & C_{35} & C_{36}\\\\[6pt]\n",
        "    C_{41} & C_{42} & C_{43} & C_{44} & C_{45} & C_{46}\\\\[6pt]\n",
        "    C_{51} & C_{52} & C_{53} & C_{54} & C_{55} & C_{56}\\\\[6pt]\n",
        "    C_{61} & C_{62} & C_{63} & C_{64} & C_{65} & C_{66}\n",
        "    \\end{pmatrix}}_{\\displaystyle \\text{(6×6 stiffness matrix)}}\n",
        "    \\begin{pmatrix}\n",
        "    \\varepsilon_{11}\\\\[6pt]\n",
        "    \\varepsilon_{22}\\\\[6pt]\n",
        "    \\varepsilon_{33}\\\\[6pt]\n",
        "    2\\,\\varepsilon_{23}\\\\[6pt]\n",
        "    2\\,\\varepsilon_{13}\\\\[6pt]\n",
        "    2\\,\\varepsilon_{12}\n",
        "    \\end{pmatrix}.\n",
        "$$\n",
        "\n",
        "\n",
        "\n",
        "Here we focus on the diagonal components:\n",
        "\n",
        "$$\n",
        "C_{11}, \\quad C_{22}, \\quad C_{33}, \\quad C_{44}, \\quad C_{55}, \\quad C_{66}.\n",
        "$$\n",
        "\n",
        "In the most common engineering notation, the linear relation between stress $\\sigma$ and strain $\\varepsilon$ can be written as:\n",
        "\n",
        "$$\n",
        "\\sigma_{ij} = \\sum_{k, l} C_{ijkl} \\,\\varepsilon_{kl},\n",
        "$$\n",
        "\n",
        "where $\\sigma_{ij}$ is the stress tensor, $\\varepsilon_{kl}$ is the strain tensor, and $C_{ijkl}$ are the elastic stiffness constants."
      ]
    },
    {
      "cell_type": "markdown",
      "metadata": {
        "id": "bB1Z1lyDyE18"
      },
      "source": [
        "## [Step 1]: Install library and download data"
      ]
    },
    {
      "cell_type": "code",
      "execution_count": 1,
      "metadata": {
        "colab": {
          "base_uri": "https://localhost:8080/"
        },
        "id": "hiquS3tdAtIk",
        "outputId": "5bd1bafe-a2e1-4259-c593-837cadaf90f0"
      },
      "outputs": [
        {
          "output_type": "stream",
          "name": "stdout",
          "text": [
            "Requirement already satisfied: torch in /usr/local/lib/python3.11/dist-packages (2.6.0+cu124)\n",
            "Requirement already satisfied: torchvision in /usr/local/lib/python3.11/dist-packages (0.21.0+cu124)\n",
            "Requirement already satisfied: matplotlib in /usr/local/lib/python3.11/dist-packages (3.10.0)\n",
            "Requirement already satisfied: pymatgen in /usr/local/lib/python3.11/dist-packages (2025.4.10)\n",
            "Requirement already satisfied: dscribe in /usr/local/lib/python3.11/dist-packages (2.1.1)\n",
            "Requirement already satisfied: scikit-learn in /usr/local/lib/python3.11/dist-packages (1.6.1)\n",
            "Requirement already satisfied: tqdm in /usr/local/lib/python3.11/dist-packages (4.67.1)\n",
            "Requirement already satisfied: mp-api in /usr/local/lib/python3.11/dist-packages (0.45.3)\n",
            "Requirement already satisfied: iterative-stratification in /usr/local/lib/python3.11/dist-packages (0.1.9)\n",
            "Requirement already satisfied: filelock in /usr/local/lib/python3.11/dist-packages (from torch) (3.18.0)\n",
            "Requirement already satisfied: typing-extensions>=4.10.0 in /usr/local/lib/python3.11/dist-packages (from torch) (4.13.1)\n",
            "Requirement already satisfied: networkx in /usr/local/lib/python3.11/dist-packages (from torch) (3.4.2)\n",
            "Requirement already satisfied: jinja2 in /usr/local/lib/python3.11/dist-packages (from torch) (3.1.6)\n",
            "Requirement already satisfied: fsspec in /usr/local/lib/python3.11/dist-packages (from torch) (2025.3.2)\n",
            "Requirement already satisfied: nvidia-cuda-nvrtc-cu12==12.4.127 in /usr/local/lib/python3.11/dist-packages (from torch) (12.4.127)\n",
            "Requirement already satisfied: nvidia-cuda-runtime-cu12==12.4.127 in /usr/local/lib/python3.11/dist-packages (from torch) (12.4.127)\n",
            "Requirement already satisfied: nvidia-cuda-cupti-cu12==12.4.127 in /usr/local/lib/python3.11/dist-packages (from torch) (12.4.127)\n",
            "Requirement already satisfied: nvidia-cudnn-cu12==9.1.0.70 in /usr/local/lib/python3.11/dist-packages (from torch) (9.1.0.70)\n",
            "Requirement already satisfied: nvidia-cublas-cu12==12.4.5.8 in /usr/local/lib/python3.11/dist-packages (from torch) (12.4.5.8)\n",
            "Requirement already satisfied: nvidia-cufft-cu12==11.2.1.3 in /usr/local/lib/python3.11/dist-packages (from torch) (11.2.1.3)\n",
            "Requirement already satisfied: nvidia-curand-cu12==10.3.5.147 in /usr/local/lib/python3.11/dist-packages (from torch) (10.3.5.147)\n",
            "Requirement already satisfied: nvidia-cusolver-cu12==11.6.1.9 in /usr/local/lib/python3.11/dist-packages (from torch) (11.6.1.9)\n",
            "Requirement already satisfied: nvidia-cusparse-cu12==12.3.1.170 in /usr/local/lib/python3.11/dist-packages (from torch) (12.3.1.170)\n",
            "Requirement already satisfied: nvidia-cusparselt-cu12==0.6.2 in /usr/local/lib/python3.11/dist-packages (from torch) (0.6.2)\n",
            "Requirement already satisfied: nvidia-nccl-cu12==2.21.5 in /usr/local/lib/python3.11/dist-packages (from torch) (2.21.5)\n",
            "Requirement already satisfied: nvidia-nvtx-cu12==12.4.127 in /usr/local/lib/python3.11/dist-packages (from torch) (12.4.127)\n",
            "Requirement already satisfied: nvidia-nvjitlink-cu12==12.4.127 in /usr/local/lib/python3.11/dist-packages (from torch) (12.4.127)\n",
            "Requirement already satisfied: triton==3.2.0 in /usr/local/lib/python3.11/dist-packages (from torch) (3.2.0)\n",
            "Requirement already satisfied: sympy==1.13.1 in /usr/local/lib/python3.11/dist-packages (from torch) (1.13.1)\n",
            "Requirement already satisfied: mpmath<1.4,>=1.1.0 in /usr/local/lib/python3.11/dist-packages (from sympy==1.13.1->torch) (1.3.0)\n",
            "Requirement already satisfied: numpy in /usr/local/lib/python3.11/dist-packages (from torchvision) (1.26.4)\n",
            "Requirement already satisfied: pillow!=8.3.*,>=5.3.0 in /usr/local/lib/python3.11/dist-packages (from torchvision) (11.1.0)\n",
            "Requirement already satisfied: contourpy>=1.0.1 in /usr/local/lib/python3.11/dist-packages (from matplotlib) (1.3.1)\n",
            "Requirement already satisfied: cycler>=0.10 in /usr/local/lib/python3.11/dist-packages (from matplotlib) (0.12.1)\n",
            "Requirement already satisfied: fonttools>=4.22.0 in /usr/local/lib/python3.11/dist-packages (from matplotlib) (4.57.0)\n",
            "Requirement already satisfied: kiwisolver>=1.3.1 in /usr/local/lib/python3.11/dist-packages (from matplotlib) (1.4.8)\n",
            "Requirement already satisfied: packaging>=20.0 in /usr/local/lib/python3.11/dist-packages (from matplotlib) (24.2)\n",
            "Requirement already satisfied: pyparsing>=2.3.1 in /usr/local/lib/python3.11/dist-packages (from matplotlib) (3.2.3)\n",
            "Requirement already satisfied: python-dateutil>=2.7 in /usr/local/lib/python3.11/dist-packages (from matplotlib) (2.8.2)\n",
            "Requirement already satisfied: joblib>=1 in /usr/local/lib/python3.11/dist-packages (from pymatgen) (1.4.2)\n",
            "Requirement already satisfied: monty>=2025.1.9 in /usr/local/lib/python3.11/dist-packages (from pymatgen) (2025.3.3)\n",
            "Requirement already satisfied: palettable>=3.3.3 in /usr/local/lib/python3.11/dist-packages (from pymatgen) (3.3.3)\n",
            "Requirement already satisfied: pandas>=2 in /usr/local/lib/python3.11/dist-packages (from pymatgen) (2.2.2)\n",
            "Requirement already satisfied: plotly>=5.0.0 in /usr/local/lib/python3.11/dist-packages (from pymatgen) (5.24.1)\n",
            "Requirement already satisfied: pybtex>=0.24.0 in /usr/local/lib/python3.11/dist-packages (from pymatgen) (0.24.0)\n",
            "Requirement already satisfied: requests>=2.32 in /usr/local/lib/python3.11/dist-packages (from pymatgen) (2.32.3)\n",
            "Requirement already satisfied: ruamel.yaml>=0.17.0 in /usr/local/lib/python3.11/dist-packages (from pymatgen) (0.18.10)\n",
            "Requirement already satisfied: scipy>=1.13.0 in /usr/local/lib/python3.11/dist-packages (from pymatgen) (1.14.1)\n",
            "Requirement already satisfied: spglib>=2.5 in /usr/local/lib/python3.11/dist-packages (from pymatgen) (2.6.0)\n",
            "Requirement already satisfied: tabulate>=0.9 in /usr/local/lib/python3.11/dist-packages (from pymatgen) (0.9.0)\n",
            "Requirement already satisfied: uncertainties>=3.1.4 in /usr/local/lib/python3.11/dist-packages (from pymatgen) (3.2.2)\n",
            "Requirement already satisfied: ase>=3.19.0 in /usr/local/lib/python3.11/dist-packages (from dscribe) (3.24.0)\n",
            "Requirement already satisfied: sparse in /usr/local/lib/python3.11/dist-packages (from dscribe) (0.16.0)\n",
            "Requirement already satisfied: threadpoolctl>=3.1.0 in /usr/local/lib/python3.11/dist-packages (from scikit-learn) (3.6.0)\n",
            "Requirement already satisfied: setuptools in /usr/local/lib/python3.11/dist-packages (from mp-api) (75.2.0)\n",
            "Requirement already satisfied: msgpack in /usr/local/lib/python3.11/dist-packages (from mp-api) (1.1.0)\n",
            "Requirement already satisfied: maggma>=0.57.1 in /usr/local/lib/python3.11/dist-packages (from mp-api) (0.71.5)\n",
            "Requirement already satisfied: emmet-core>=0.84.3rc6 in /usr/local/lib/python3.11/dist-packages (from mp-api) (0.84.7rc1)\n",
            "Requirement already satisfied: smart_open in /usr/local/lib/python3.11/dist-packages (from mp-api) (7.1.0)\n",
            "Requirement already satisfied: pydantic>=2.0 in /usr/local/lib/python3.11/dist-packages (from emmet-core>=0.84.3rc6->mp-api) (2.11.2)\n",
            "Requirement already satisfied: pydantic-settings>=2.0 in /usr/local/lib/python3.11/dist-packages (from emmet-core>=0.84.3rc6->mp-api) (2.8.1)\n",
            "Requirement already satisfied: pymongo<4.11,>=4.2.0 in /usr/local/lib/python3.11/dist-packages (from maggma>=0.57.1->mp-api) (4.10.1)\n",
            "Requirement already satisfied: mongomock>=3.10.0 in /usr/local/lib/python3.11/dist-packages (from maggma>=0.57.1->mp-api) (4.3.0)\n",
            "Requirement already satisfied: pydash>=4.1.0 in /usr/local/lib/python3.11/dist-packages (from maggma>=0.57.1->mp-api) (8.0.5)\n",
            "Requirement already satisfied: jsonschema>=3.1.1 in /usr/local/lib/python3.11/dist-packages (from maggma>=0.57.1->mp-api) (4.23.0)\n",
            "Requirement already satisfied: jsonlines>=4.0.0 in /usr/local/lib/python3.11/dist-packages (from maggma>=0.57.1->mp-api) (4.0.0)\n",
            "Requirement already satisfied: aioitertools>=0.5.1 in /usr/local/lib/python3.11/dist-packages (from maggma>=0.57.1->mp-api) (0.12.0)\n",
            "Requirement already satisfied: pyzmq>=25.1.1 in /usr/local/lib/python3.11/dist-packages (from maggma>=0.57.1->mp-api) (26.4.0)\n",
            "Requirement already satisfied: dnspython>=1.16.0 in /usr/local/lib/python3.11/dist-packages (from maggma>=0.57.1->mp-api) (2.7.0)\n",
            "Requirement already satisfied: sshtunnel>=0.1.5 in /usr/local/lib/python3.11/dist-packages (from maggma>=0.57.1->mp-api) (0.4.0)\n",
            "Requirement already satisfied: orjson>=3.9.0 in /usr/local/lib/python3.11/dist-packages (from maggma>=0.57.1->mp-api) (3.10.16)\n",
            "Requirement already satisfied: boto3>=1.20.41 in /usr/local/lib/python3.11/dist-packages (from maggma>=0.57.1->mp-api) (1.37.32)\n",
            "Requirement already satisfied: pytz>=2020.1 in /usr/local/lib/python3.11/dist-packages (from pandas>=2->pymatgen) (2025.2)\n",
            "Requirement already satisfied: tzdata>=2022.7 in /usr/local/lib/python3.11/dist-packages (from pandas>=2->pymatgen) (2025.2)\n",
            "Requirement already satisfied: tenacity>=6.2.0 in /usr/local/lib/python3.11/dist-packages (from plotly>=5.0.0->pymatgen) (9.1.2)\n",
            "Requirement already satisfied: PyYAML>=3.01 in /usr/local/lib/python3.11/dist-packages (from pybtex>=0.24.0->pymatgen) (6.0.2)\n",
            "Requirement already satisfied: latexcodec>=1.0.4 in /usr/local/lib/python3.11/dist-packages (from pybtex>=0.24.0->pymatgen) (3.0.0)\n",
            "Requirement already satisfied: six in /usr/local/lib/python3.11/dist-packages (from pybtex>=0.24.0->pymatgen) (1.17.0)\n",
            "Requirement already satisfied: charset-normalizer<4,>=2 in /usr/local/lib/python3.11/dist-packages (from requests>=2.32->pymatgen) (3.4.1)\n",
            "Requirement already satisfied: idna<4,>=2.5 in /usr/local/lib/python3.11/dist-packages (from requests>=2.32->pymatgen) (3.10)\n",
            "Requirement already satisfied: urllib3<3,>=1.21.1 in /usr/local/lib/python3.11/dist-packages (from requests>=2.32->pymatgen) (2.3.0)\n",
            "Requirement already satisfied: certifi>=2017.4.17 in /usr/local/lib/python3.11/dist-packages (from requests>=2.32->pymatgen) (2025.1.31)\n",
            "Requirement already satisfied: ruamel.yaml.clib>=0.2.7 in /usr/local/lib/python3.11/dist-packages (from ruamel.yaml>=0.17.0->pymatgen) (0.2.12)\n",
            "Requirement already satisfied: MarkupSafe>=2.0 in /usr/local/lib/python3.11/dist-packages (from jinja2->torch) (3.0.2)\n",
            "Requirement already satisfied: wrapt in /usr/local/lib/python3.11/dist-packages (from smart_open->mp-api) (1.17.2)\n",
            "Requirement already satisfied: numba>=0.49 in /usr/local/lib/python3.11/dist-packages (from sparse->dscribe) (0.60.0)\n",
            "Requirement already satisfied: botocore<1.38.0,>=1.37.32 in /usr/local/lib/python3.11/dist-packages (from boto3>=1.20.41->maggma>=0.57.1->mp-api) (1.37.32)\n",
            "Requirement already satisfied: jmespath<2.0.0,>=0.7.1 in /usr/local/lib/python3.11/dist-packages (from boto3>=1.20.41->maggma>=0.57.1->mp-api) (1.0.1)\n",
            "Requirement already satisfied: s3transfer<0.12.0,>=0.11.0 in /usr/local/lib/python3.11/dist-packages (from boto3>=1.20.41->maggma>=0.57.1->mp-api) (0.11.4)\n",
            "Requirement already satisfied: attrs>=19.2.0 in /usr/local/lib/python3.11/dist-packages (from jsonlines>=4.0.0->maggma>=0.57.1->mp-api) (25.3.0)\n",
            "Requirement already satisfied: jsonschema-specifications>=2023.03.6 in /usr/local/lib/python3.11/dist-packages (from jsonschema>=3.1.1->maggma>=0.57.1->mp-api) (2024.10.1)\n",
            "Requirement already satisfied: referencing>=0.28.4 in /usr/local/lib/python3.11/dist-packages (from jsonschema>=3.1.1->maggma>=0.57.1->mp-api) (0.36.2)\n",
            "Requirement already satisfied: rpds-py>=0.7.1 in /usr/local/lib/python3.11/dist-packages (from jsonschema>=3.1.1->maggma>=0.57.1->mp-api) (0.24.0)\n",
            "Requirement already satisfied: sentinels in /usr/local/lib/python3.11/dist-packages (from mongomock>=3.10.0->maggma>=0.57.1->mp-api) (1.0.0)\n",
            "Requirement already satisfied: llvmlite<0.44,>=0.43.0dev0 in /usr/local/lib/python3.11/dist-packages (from numba>=0.49->sparse->dscribe) (0.43.0)\n",
            "Requirement already satisfied: annotated-types>=0.6.0 in /usr/local/lib/python3.11/dist-packages (from pydantic>=2.0->emmet-core>=0.84.3rc6->mp-api) (0.7.0)\n",
            "Requirement already satisfied: pydantic-core==2.33.1 in /usr/local/lib/python3.11/dist-packages (from pydantic>=2.0->emmet-core>=0.84.3rc6->mp-api) (2.33.1)\n",
            "Requirement already satisfied: typing-inspection>=0.4.0 in /usr/local/lib/python3.11/dist-packages (from pydantic>=2.0->emmet-core>=0.84.3rc6->mp-api) (0.4.0)\n",
            "Requirement already satisfied: python-dotenv>=0.21.0 in /usr/local/lib/python3.11/dist-packages (from pydantic-settings>=2.0->emmet-core>=0.84.3rc6->mp-api) (1.1.0)\n",
            "Requirement already satisfied: paramiko>=2.7.2 in /usr/local/lib/python3.11/dist-packages (from sshtunnel>=0.1.5->maggma>=0.57.1->mp-api) (3.5.1)\n",
            "Requirement already satisfied: bcrypt>=3.2 in /usr/local/lib/python3.11/dist-packages (from paramiko>=2.7.2->sshtunnel>=0.1.5->maggma>=0.57.1->mp-api) (4.3.0)\n",
            "Requirement already satisfied: cryptography>=3.3 in /usr/local/lib/python3.11/dist-packages (from paramiko>=2.7.2->sshtunnel>=0.1.5->maggma>=0.57.1->mp-api) (43.0.3)\n",
            "Requirement already satisfied: pynacl>=1.5 in /usr/local/lib/python3.11/dist-packages (from paramiko>=2.7.2->sshtunnel>=0.1.5->maggma>=0.57.1->mp-api) (1.5.0)\n",
            "Requirement already satisfied: cffi>=1.12 in /usr/local/lib/python3.11/dist-packages (from cryptography>=3.3->paramiko>=2.7.2->sshtunnel>=0.1.5->maggma>=0.57.1->mp-api) (1.17.1)\n",
            "Requirement already satisfied: pycparser in /usr/local/lib/python3.11/dist-packages (from cffi>=1.12->cryptography>=3.3->paramiko>=2.7.2->sshtunnel>=0.1.5->maggma>=0.57.1->mp-api) (2.22)\n"
          ]
        }
      ],
      "source": [
        "%pip install torch torchvision matplotlib pymatgen dscribe scikit-learn tqdm mp-api iterative-stratification\n"
      ]
    },
    {
      "cell_type": "code",
      "source": [
        "from mp_api.client import MPRester\n",
        "import pandas as pd\n",
        "\n",
        "# Your Materials Project API key\n",
        "API_KEY = ''\n",
        "\n",
        "# Connect to Materials Project and retrieve elasticity data\n",
        "with MPRester(API_KEY) as mpr:\n",
        "    elasticity_docs = mpr.elasticity.search(fields=[\n",
        "        \"composition\",\n",
        "        \"composition_reduced\",\n",
        "        \"formula_pretty\",\n",
        "        \"chemsys\",\n",
        "        \"volume\",\n",
        "        \"density\",\n",
        "        \"density_atomic\",\n",
        "        \"symmetry\",\n",
        "        \"property_name\",\n",
        "        \"material_id\",\n",
        "        \"origins\",\n",
        "        \"warnings\",\n",
        "        \"structure\",\n",
        "        \"elastic_tensor\",\n",
        "        \"bulk_modulus\",\n",
        "        \"shear_modulus\",\n",
        "        \"sound_velocity\",\n",
        "        \"thermal_conductivity\",\n",
        "        \"young_modulus\"\n",
        "    ])\n",
        "\n",
        "# Prepare data for DataFrame\n",
        "data = []\n",
        "for doc in elasticity_docs:\n",
        "    data.append({\n",
        "        'Material ID': doc.material_id,\n",
        "        'Formula': doc.formula_pretty,\n",
        "        'Composition': doc.composition,\n",
        "        'Reduced Composition': doc.composition_reduced,\n",
        "        'Chemical System': doc.chemsys,\n",
        "        'Volume (Å³)': doc.volume,\n",
        "        'Density (g/cm³)': doc.density,\n",
        "        'Atomic Density (atoms/Å³)': doc.density_atomic,\n",
        "        'Symmetry': doc.symmetry,\n",
        "        'Property Name': doc.property_name,\n",
        "        'Origins': doc.origins,\n",
        "        'Warnings': doc.warnings,\n",
        "        'Structure': doc.structure if doc.structure else None,\n",
        "        'Elastic Tensor': doc.elastic_tensor.ieee_format if doc.elastic_tensor else None,\n",
        "        'Bulk Modulus (GPa)': doc.bulk_modulus,\n",
        "        'Shear Modulus (GPa)': doc.shear_modulus,\n",
        "        'Sound Velocity (m/s)': doc.sound_velocity,\n",
        "        'Thermal Conductivity (W/m·K)': doc.thermal_conductivity,\n",
        "        'Young\\'s Modulus (GPa)': doc.young_modulus\n",
        "    })\n",
        "\n",
        "# Convert to DataFrame\n",
        "df = pd.DataFrame(data)\n",
        "\n",
        "# Save to CSV file\n",
        "df.to_hdf('elasticity_full_properties.h5', key='df', mode='w')\n",
        "\n",
        "print(f\"Retrieved elasticity data for {len(df)} materials.\")"
      ],
      "metadata": {
        "colab": {
          "base_uri": "https://localhost:8080/",
          "height": 277,
          "referenced_widgets": [
            "78177ee30ce5479fa56ae70f06e94c93",
            "4d424656eb5942119269cc0510819f15",
            "7fac1fc52bc048e1a97da8f89c06a372",
            "75106de7748c489cb24a9e83de814136",
            "2328ed106d1c46ef9f5d0c04c301e92a",
            "d8ec7a903148469c80f6bf5cb8aee562",
            "b4aad4eb4b4d4e3c94b42e6d090cb7b3",
            "d663c2a6d9fd45c2acd499f325971673",
            "a6d6ebd07dd74ff0a94a144f08111f06",
            "6e856e09d4bf441ab716fea440ee9712",
            "2b0047e01eb74a08858d9b826665736d"
          ]
        },
        "id": "HXGlyVgSe6sh",
        "outputId": "9a82d2b2-48c6-4de4-feb8-a2fe96f50526"
      },
      "execution_count": 2,
      "outputs": [
        {
          "output_type": "stream",
          "name": "stderr",
          "text": [
            "<ipython-input-2-f50e21ac20c1>:9: DeprecationWarning: Accessing elasticity data through MPRester.elasticity is deprecated. Please use MPRester.materials.elasticity instead.\n",
            "  elasticity_docs = mpr.elasticity.search(fields=[\n",
            "/usr/local/lib/python3.11/dist-packages/mp_api/client/core/client.py:519: UserWarning: Ignoring `fields` argument: All fields are always included when no query is provided.\n",
            "  warnings.warn(\n"
          ]
        },
        {
          "output_type": "display_data",
          "data": {
            "text/plain": [
              "Retrieving ElasticityDoc documents:   0%|          | 0/13283 [00:00<?, ?it/s]"
            ],
            "application/vnd.jupyter.widget-view+json": {
              "version_major": 2,
              "version_minor": 0,
              "model_id": "78177ee30ce5479fa56ae70f06e94c93"
            }
          },
          "metadata": {}
        },
        {
          "output_type": "stream",
          "name": "stderr",
          "text": [
            "<ipython-input-2-f50e21ac20c1>:60: PerformanceWarning: \n",
            "your performance may suffer as PyTables will pickle object types that it cannot\n",
            "map directly to c-types [inferred_type->mixed,key->block1_values] [items->Index(['Material ID', 'Formula', 'Composition', 'Reduced Composition',\n",
            "       'Chemical System', 'Symmetry', 'Property Name', 'Origins', 'Warnings',\n",
            "       'Structure', 'Elastic Tensor', 'Bulk Modulus (GPa)',\n",
            "       'Shear Modulus (GPa)', 'Sound Velocity (m/s)',\n",
            "       'Thermal Conductivity (W/m·K)', 'Young's Modulus (GPa)'],\n",
            "      dtype='object')]\n",
            "\n",
            "  df.to_hdf('elasticity_full_properties.h5', key='df', mode='w')\n"
          ]
        },
        {
          "output_type": "stream",
          "name": "stdout",
          "text": [
            "Retrieved elasticity data for 13283 materials.\n"
          ]
        }
      ]
    },
    {
      "cell_type": "code",
      "execution_count": null,
      "metadata": {
        "id": "zzSjrLJ0AugJ"
      },
      "outputs": [],
      "source": [
        "import numpy as np\n",
        "import pandas as pd\n",
        "import torch\n",
        "from ase import Atoms\n",
        "from dscribe.descriptors import SOAP\n",
        "from iterstrat.ml_stratifiers import MultilabelStratifiedShuffleSplit\n",
        "from pymatgen.core import Composition, Structure\n",
        "from scipy.stats import zscore\n",
        "from torch.utils.data import DataLoader, Dataset"
      ]
    },
    {
      "cell_type": "markdown",
      "metadata": {
        "id": "HWdEP3WJYPWi"
      },
      "source": [
        "> **Note**: The following setting must be changed in the assignment."
      ]
    },
    {
      "cell_type": "code",
      "execution_count": null,
      "metadata": {
        "id": "pMDf8eEHSoNu"
      },
      "outputs": [],
      "source": [
        "N_SAMPLES = 5000  # Number of samples to use\n",
        "SEED = 42  # Random seed to ensure reproducibility\n",
        "BATCH_SIZE = 8  # Batch size\n",
        "\n",
        "np.random.seed(SEED)\n",
        "torch.manual_seed(SEED)\n",
        "torch.set_default_dtype(torch.float32)"
      ]
    },
    {
      "cell_type": "markdown",
      "metadata": {
        "id": "B6WnHiheYPWm"
      },
      "source": [
        "dowload data"
      ]
    },
    {
      "cell_type": "code",
      "execution_count": 5,
      "metadata": {
        "colab": {
          "base_uri": "https://localhost:8080/"
        },
        "id": "_0jX5ItRYPWn",
        "outputId": "95f97aac-205a-458f-d142-8b16b0e3572b"
      },
      "outputs": [
        {
          "output_type": "stream",
          "name": "stdout",
          "text": [
            "--2025-04-11 11:08:27--  https://github.com/paolodeangelis/AEM/raw/refs/heads/main/data/elasticity_full_properties.h5\n",
            "Resolving github.com (github.com)... 140.82.116.4\n",
            "Connecting to github.com (github.com)|140.82.116.4|:443... connected.\n",
            "HTTP request sent, awaiting response... 302 Found\n",
            "Location: https://raw.githubusercontent.com/paolodeangelis/AEM/refs/heads/main/data/elasticity_full_properties.h5 [following]\n",
            "--2025-04-11 11:08:28--  https://raw.githubusercontent.com/paolodeangelis/AEM/refs/heads/main/data/elasticity_full_properties.h5\n",
            "Resolving raw.githubusercontent.com (raw.githubusercontent.com)... 185.199.108.133, 185.199.109.133, 185.199.110.133, ...\n",
            "Connecting to raw.githubusercontent.com (raw.githubusercontent.com)|185.199.108.133|:443... connected.\n",
            "HTTP request sent, awaiting response... 200 OK\n",
            "Length: 30612792 (29M) [application/octet-stream]\n",
            "Saving to: ‘elasticity_full_properties.h5.1’\n",
            "\n",
            "elasticity_full_pro 100%[===================>]  29.19M  75.9MB/s    in 0.4s    \n",
            "\n",
            "2025-04-11 11:08:28 (75.9 MB/s) - ‘elasticity_full_properties.h5.1’ saved [30612792/30612792]\n",
            "\n"
          ]
        }
      ],
      "source": [
        "!wget https://github.com/paolodeangelis/AEM/raw/refs/heads/main/data/elasticity_full_properties.h5"
      ]
    },
    {
      "cell_type": "markdown",
      "metadata": {
        "id": "o8CMxlesYPWo"
      },
      "source": [
        "Load data:"
      ]
    },
    {
      "cell_type": "code",
      "execution_count": null,
      "metadata": {
        "id": "px-MEs6hSpkF"
      },
      "outputs": [],
      "source": [
        "# df_full = pd.read_hdf(\"elasticity_full_properties.h5.1\", key=\"df\")\n",
        "\n",
        "# df_full"
      ]
    },
    {
      "cell_type": "markdown",
      "metadata": {
        "id": "q-UlKdWAYPWp"
      },
      "source": [
        "## [Step 2]: Data cleaning & Downsampling\n",
        "\n",
        "**Data Cleaning Steps**:\n",
        "\n",
        "1. **Drop missing data** in `\"Structure\"` or `\"Elastic Tensor\"`.  \n",
        "2. **Extract diagonal components** $(C_{11}, C_{22}, \\ldots, C_{66})$ from the elastic tensor.  \n",
        "3. **Remove outliers** using the IQR method, filtering extreme values in each diagonal component.  \n",
        "4. **Shuffle** the remaining dataset randomly.  \n",
        "5. **Select** only the first `N_SAMPLES` rows for practical training.\n"
      ]
    },
    {
      "cell_type": "code",
      "execution_count": 7,
      "metadata": {
        "id": "fM0r3NNbYPWq"
      },
      "outputs": [],
      "source": [
        "# Drop missing data\n",
        "df_full = df_full.dropna(subset=[\"Structure\", \"Elastic Tensor\"])"
      ]
    },
    {
      "cell_type": "code",
      "execution_count": 8,
      "metadata": {
        "id": "hnX1LDxYDUzv",
        "colab": {
          "base_uri": "https://localhost:8080/"
        },
        "outputId": "8d49ab28-8b49-44a8-c2e8-4e49166fae98"
      },
      "outputs": [
        {
          "output_type": "stream",
          "name": "stderr",
          "text": [
            "<ipython-input-8-7bf45995ac65>:6: SettingWithCopyWarning: \n",
            "A value is trying to be set on a copy of a slice from a DataFrame.\n",
            "Try using .loc[row_indexer,col_indexer] = value instead\n",
            "\n",
            "See the caveats in the documentation: https://pandas.pydata.org/pandas-docs/stable/user_guide/indexing.html#returning-a-view-versus-a-copy\n",
            "  df_full[tensor_components[i]] = df_full[\"Elastic Tensor\"].apply(\n",
            "<ipython-input-8-7bf45995ac65>:6: SettingWithCopyWarning: \n",
            "A value is trying to be set on a copy of a slice from a DataFrame.\n",
            "Try using .loc[row_indexer,col_indexer] = value instead\n",
            "\n",
            "See the caveats in the documentation: https://pandas.pydata.org/pandas-docs/stable/user_guide/indexing.html#returning-a-view-versus-a-copy\n",
            "  df_full[tensor_components[i]] = df_full[\"Elastic Tensor\"].apply(\n",
            "<ipython-input-8-7bf45995ac65>:6: SettingWithCopyWarning: \n",
            "A value is trying to be set on a copy of a slice from a DataFrame.\n",
            "Try using .loc[row_indexer,col_indexer] = value instead\n",
            "\n",
            "See the caveats in the documentation: https://pandas.pydata.org/pandas-docs/stable/user_guide/indexing.html#returning-a-view-versus-a-copy\n",
            "  df_full[tensor_components[i]] = df_full[\"Elastic Tensor\"].apply(\n",
            "<ipython-input-8-7bf45995ac65>:6: SettingWithCopyWarning: \n",
            "A value is trying to be set on a copy of a slice from a DataFrame.\n",
            "Try using .loc[row_indexer,col_indexer] = value instead\n",
            "\n",
            "See the caveats in the documentation: https://pandas.pydata.org/pandas-docs/stable/user_guide/indexing.html#returning-a-view-versus-a-copy\n",
            "  df_full[tensor_components[i]] = df_full[\"Elastic Tensor\"].apply(\n",
            "<ipython-input-8-7bf45995ac65>:6: SettingWithCopyWarning: \n",
            "A value is trying to be set on a copy of a slice from a DataFrame.\n",
            "Try using .loc[row_indexer,col_indexer] = value instead\n",
            "\n",
            "See the caveats in the documentation: https://pandas.pydata.org/pandas-docs/stable/user_guide/indexing.html#returning-a-view-versus-a-copy\n",
            "  df_full[tensor_components[i]] = df_full[\"Elastic Tensor\"].apply(\n",
            "<ipython-input-8-7bf45995ac65>:6: SettingWithCopyWarning: \n",
            "A value is trying to be set on a copy of a slice from a DataFrame.\n",
            "Try using .loc[row_indexer,col_indexer] = value instead\n",
            "\n",
            "See the caveats in the documentation: https://pandas.pydata.org/pandas-docs/stable/user_guide/indexing.html#returning-a-view-versus-a-copy\n",
            "  df_full[tensor_components[i]] = df_full[\"Elastic Tensor\"].apply(\n"
          ]
        }
      ],
      "source": [
        "# Extract targets\n",
        "tensor_components = [\"C11\", \"C22\", \"C33\", \"C44\", \"C55\", \"C66\"]\n",
        "tensor_indices = [(0, 0), (1, 1), (2, 2), (3, 3), (4, 4), (5, 5)]\n",
        "\n",
        "for i, (r, c) in enumerate(tensor_indices):\n",
        "    df_full[tensor_components[i]] = df_full[\"Elastic Tensor\"].apply(\n",
        "        lambda x: np.array(x)[r, c]\n",
        "    )"
      ]
    },
    {
      "cell_type": "code",
      "execution_count": 9,
      "metadata": {
        "id": "g6I1qgI2RnHh"
      },
      "outputs": [],
      "source": [
        "# IQR-based outlier removal for each tensor component\n",
        "\n",
        "\n",
        "def remove_outliers_iqr(df, cols):\n",
        "    df_clean = df.copy()\n",
        "    for col in cols:\n",
        "        Q1 = df_clean[col].quantile(0.25)\n",
        "        Q3 = df_clean[col].quantile(0.75)\n",
        "        IQR = Q3 - Q1\n",
        "        lower_bound = Q1 - 1.5 * IQR\n",
        "        upper_bound = Q3 + 1.5 * IQR\n",
        "        df_clean = df_clean[\n",
        "            (df_clean[col] >= lower_bound) & (df_clean[col] <= upper_bound)\n",
        "        ]\n",
        "    return df_clean.reset_index(drop=True)"
      ]
    },
    {
      "cell_type": "code",
      "execution_count": 10,
      "metadata": {
        "id": "6aHZkr7pTBPP",
        "colab": {
          "base_uri": "https://localhost:8080/"
        },
        "outputId": "f62641a5-19d4-4ac7-dd90-f9272eb6b369"
      },
      "outputs": [
        {
          "output_type": "stream",
          "name": "stdout",
          "text": [
            "Removed 1730 outliers. Remaining data: 11552\n"
          ]
        }
      ],
      "source": [
        "df_clean = remove_outliers_iqr(df_full, tensor_components)\n",
        "print(f\"Removed {len(df_full)-len(df_clean)} outliers. Remaining data: {len(df_clean)}\")"
      ]
    },
    {
      "cell_type": "markdown",
      "metadata": {
        "id": "z1n4vj4bS-sB",
        "outputId": "59ed7ff2-2de6-4aca-ebfe-231e205bce4d"
      },
      "source": [
        "Downsampling"
      ]
    },
    {
      "cell_type": "code",
      "execution_count": 11,
      "metadata": {
        "colab": {
          "base_uri": "https://localhost:8080/"
        },
        "id": "k368GvcsTEQf",
        "outputId": "129f9e80-56de-476a-9277-ba0d1490878b"
      },
      "outputs": [
        {
          "output_type": "stream",
          "name": "stdout",
          "text": [
            "Final dataset size: 5000\n"
          ]
        }
      ],
      "source": [
        "df_clean_shuffled = df_clean.sample(frac=1, random_state=SEED).reset_index(drop=True)\n",
        "\n",
        "# Select only first N_SAMPLES\n",
        "df_final = df_clean_shuffled.iloc[:N_SAMPLES].reset_index(drop=True)\n",
        "print(f\"Final dataset size: {len(df_final)}\")"
      ]
    },
    {
      "cell_type": "markdown",
      "metadata": {
        "id": "KFpOfOGwre2s"
      },
      "source": [
        "## [Step 3]: Data Splitting\n",
        "\n",
        "Instead of a purely random split, we perform a **multilabel stratified split** based on the presence or absence of each chemical element in the structures. Here's why:\n",
        "\n",
        "1. **Element Distribution**: A simple random split may result in some elements being over-represented in either the training or test set (or missing entirely in one of them).  \n",
        "2. **Balanced Training**: By using a stratified approach, we ensure that each element’s frequency distribution is maintained across both sets, giving the model a more representative range of materials during training and an unbiased evaluation on the test set.  \n",
        "3. **Improved Robustness**: Preserving distribution across all labels (elements) reduces the risk of skewing the model toward certain compositions and thus generally improves its predictive robustness.\n"
      ]
    },
    {
      "cell_type": "code",
      "execution_count": 12,
      "metadata": {
        "colab": {
          "base_uri": "https://localhost:8080/"
        },
        "id": "U18L6914t9WJ",
        "outputId": "932695b9-b404-45de-decb-31fe8e9fcd0e"
      },
      "outputs": [
        {
          "output_type": "stream",
          "name": "stdout",
          "text": [
            "Train size: 3985, Test size: 1015\n"
          ]
        }
      ],
      "source": [
        "# Step 1: Get all unique elements\n",
        "all_elements = sorted(\n",
        "    {str(el) for s in df_final[\"Structure\"] for el in s.composition.elements}\n",
        ")\n",
        "element_to_idx = {el: i for i, el in enumerate(all_elements)}\n",
        "\n",
        "# Step 2: Build binary matrix (samples × elements)\n",
        "binary_matrix = np.zeros((len(df_final), len(all_elements)), dtype=int)\n",
        "\n",
        "for i, s in enumerate(df_final[\"Structure\"]):\n",
        "    comp = s.composition\n",
        "    for el in comp:\n",
        "        binary_matrix[i, element_to_idx[str(el)]] = 1\n",
        "\n",
        "# Step 3: Stratified multilabel split (preserves element distributions)\n",
        "sss = MultilabelStratifiedShuffleSplit(n_splits=1, test_size=0.2, random_state=SEED)\n",
        "train_idx, test_idx = next(sss.split(df_final, binary_matrix))\n",
        "\n",
        "print(f\"Train size: {len(train_idx)}, Test size: {len(test_idx)}\")"
      ]
    },
    {
      "cell_type": "markdown",
      "metadata": {
        "id": "eK-bBH2JYPWv"
      },
      "source": [
        "Plot frequency"
      ]
    },
    {
      "cell_type": "code",
      "execution_count": 13,
      "metadata": {
        "colab": {
          "base_uri": "https://localhost:8080/",
          "height": 507
        },
        "id": "G7Y0sS14uQjC",
        "outputId": "826261df-7869-4aa0-bc70-3ae489fe69a8"
      },
      "outputs": [
        {
          "output_type": "display_data",
          "data": {
            "text/plain": [
              "<Figure size 1400x500 with 1 Axes>"
            ],
            "image/png": "[encoded data removed]"
          },
          "metadata": {}
        }
      ],
      "source": [
        "def get_element_distribution(indices):\n",
        "    counter = {el: 0 for el in all_elements}\n",
        "    for s in df_final.iloc[indices][\"Structure\"]:\n",
        "        comp = s.composition\n",
        "        for el in comp:\n",
        "            counter[str(el)] += comp[el]\n",
        "    total = sum(counter.values())\n",
        "    return {el: counter[el] / total for el in counter}\n",
        "\n",
        "\n",
        "train_dist = get_element_distribution(train_idx)\n",
        "test_dist = get_element_distribution(test_idx)\n",
        "\n",
        "# Plot comparison\n",
        "import matplotlib.pyplot as plt\n",
        "\n",
        "plt.figure(figsize=(14, 5))\n",
        "x = np.arange(len(all_elements))\n",
        "train_vals = [train_dist[el] for el in all_elements]\n",
        "test_vals = [test_dist[el] for el in all_elements]\n",
        "\n",
        "plt.bar(x - 0.2, train_vals, width=0.4, label=\"Train\")\n",
        "plt.bar(x + 0.2, test_vals, width=0.4, label=\"Test\")\n",
        "plt.xticks(x, all_elements, rotation=90)\n",
        "plt.ylabel(\"Normalized Frequency\")\n",
        "plt.title(\"Element Frequency Distribution: Train vs Test\")\n",
        "plt.legend()\n",
        "plt.tight_layout()\n",
        "plt.show()"
      ]
    },
    {
      "cell_type": "markdown",
      "metadata": {
        "id": "_a7FKyp3YPWw"
      },
      "source": [
        "### `ElasticSOAPDataset`: On-the-Fly Feature Extraction\n",
        "\n",
        "The **`ElasticSOAPDataset`** class is a custom **PyTorch** dataset designed to:\n",
        "1. **Store the raw data** (each row’s `Structure` and corresponding target properties).\n",
        "2. **Generate SOAP descriptors** for each structure **on the fly**.\n",
        "\n",
        "Why generate features on the fly?\n",
        "- **Memory Efficiency**: Storing all SOAP vectors for large datasets can be highly memory-intensive. Creating them on demand avoids holding massive arrays in memory.  \n",
        "- **Flexibility**: If you wish to alter descriptor parameters (e.g., `r_cut`, `n_max`, `l_max`), the dataset can dynamically re-calculate descriptors without needing to rewrite the entire feature set.  \n",
        "- **Seamless Integration**: PyTorch’s **`DataLoader`** works seamlessly with datasets that compute features when needed (in each training batch), supporting parallel or background loading if desired.\n",
        "\n",
        "Overall, this approach keeps the pipeline **modular**, **efficient**, and **easy to maintain**.\n"
      ]
    },
    {
      "cell_type": "code",
      "execution_count": 14,
      "metadata": {
        "id": "kW5yw0i0YPWw"
      },
      "outputs": [],
      "source": [
        "class ElasticSOAPDataset(Dataset):\n",
        "    def __init__(self, dataframe, soap_params):\n",
        "        self.df = dataframe\n",
        "        self.soap = SOAP(**soap_params)\n",
        "\n",
        "    def __len__(self):\n",
        "        return len(self.df)\n",
        "\n",
        "    def __getitem__(self, idx):\n",
        "        structure = self.df.loc[idx, \"Structure\"]\n",
        "\n",
        "        ase_structure = Atoms(\n",
        "            symbols=[str(s.specie) for s in structure],\n",
        "            positions=structure.cart_coords,\n",
        "            cell=structure.lattice.matrix,\n",
        "            pbc=True,\n",
        "        )\n",
        "\n",
        "        feature = self.soap.create(ase_structure, n_jobs=1).flatten()\n",
        "\n",
        "        target = self.df.loc[\n",
        "            idx, [\"C11\", \"C22\", \"C33\", \"C44\", \"C55\", \"C66\"]\n",
        "        ].values.astype(float)\n",
        "\n",
        "        return torch.tensor(feature, dtype=torch.float32), torch.tensor(\n",
        "            target, dtype=torch.float32\n",
        "        )"
      ]
    },
    {
      "cell_type": "code",
      "execution_count": 15,
      "metadata": {
        "id": "M7LfqRTUDI5c"
      },
      "outputs": [],
      "source": [
        "# from sklearn.model_selection import train_test_split\n",
        "\n",
        "# indices = np.arange(len(df_final))\n",
        "# train_idx, test_idx = train_test_split(indices, test_size=0.2, random_state=42)\n",
        "\n",
        "\n",
        "species = list({str(el) for s in df_final[\"Structure\"] for el in s.species})\n",
        "\n",
        "soap_params = {\n",
        "    \"species\": species,\n",
        "    \"periodic\": True,\n",
        "    \"r_cut\": 6.0,\n",
        "    \"n_max\": 5,\n",
        "    \"l_max\": 2,\n",
        "    \"average\": \"inner\",\n",
        "}\n",
        "\n",
        "train_dataset = ElasticSOAPDataset(\n",
        "    df_final.iloc[train_idx].reset_index(drop=True), soap_params\n",
        ")\n",
        "test_dataset = ElasticSOAPDataset(\n",
        "    df_final.iloc[test_idx].reset_index(drop=True), soap_params\n",
        ")\n",
        "\n",
        "train_loader = DataLoader(train_dataset, batch_size=BATCH_SIZE, shuffle=True)\n",
        "test_loader = DataLoader(test_dataset, batch_size=BATCH_SIZE, shuffle=False)"
      ]
    },
    {
      "cell_type": "markdown",
      "metadata": {
        "id": "F-Yx_PR_YPWx"
      },
      "source": [
        "Plot Periodic Table with element couting"
      ]
    },
    {
      "cell_type": "code",
      "execution_count": 16,
      "metadata": {
        "colab": {
          "base_uri": "https://localhost:8080/",
          "height": 804
        },
        "id": "Q5vMhde4tZnn",
        "outputId": "e4ffb5a4-aeb2-4748-ee21-4238b4a2fcc0"
      },
      "outputs": [
        {
          "output_type": "display_data",
          "data": {
            "text/plain": [
              "<Figure size 1600x800 with 2 Axes>"
            ],
            "image/png": "[encoded data removed]"
          },
          "metadata": {}
        }
      ],
      "source": [
        "import matplotlib.colors as mcolors  # Import colors for LogNorm and explicit colors\n",
        "import matplotlib.patches as patches\n",
        "import matplotlib.pyplot as plt\n",
        "import numpy as np\n",
        "import pandas as pd\n",
        "from pymatgen.core import Composition, Lattice, Structure\n",
        "from pymatgen.core.periodic_table import Element, get_el_sp\n",
        "\n",
        "# 1. Count element frequencies\n",
        "element_counts = {}\n",
        "try:\n",
        "    for s in df_final.iloc[train_idx][\"Structure\"]:\n",
        "        comp = s.composition\n",
        "        for el_sym in comp.keys():  # Use element symbol object from composition\n",
        "            element = Element(el_sym.symbol)  # Get pymatgen Element from symbol string\n",
        "            element_counts[element] = element_counts.get(element, 0) + comp[el_sym]\n",
        "except Exception as e:\n",
        "    print(f\"Error processing structures: {e}. Check df_final format.\")\n",
        "    element_counts = {Element(\"H\"): 1, Element(\"O\"): 2}  # Minimal fallback data\n",
        "\n",
        "# 2. Normalize frequencies\n",
        "total_atoms = sum(element_counts.values())\n",
        "element_freq = {}\n",
        "if total_atoms > 0:\n",
        "    # element_freq = {el: count / total_atoms for el, count in element_counts.items()}\n",
        "    element_freq = {el: count for el, count in element_counts.items()}\n",
        "else:\n",
        "    print(\"Warning: No atoms found in the dataset.\")\n",
        "\n",
        "# --- Plotting Setup ---\n",
        "MAX_Z = 103  # Define the maximum atomic number to display (e.g., up to Lr)\n",
        "MISSING_FACE_COLOR = \"lightgrey\"\n",
        "MISSING_TEXT_COLOR = \"dimgray\"\n",
        "PRESENT_EDGE_COLOR = \"gray\"\n",
        "\n",
        "# 3. Prepare Colormap and Normalization for PRESENT elements\n",
        "cmap = plt.get_cmap(\"viridis\")\n",
        "norm = None\n",
        "min_freq = 1.0\n",
        "max_freq = 0.0\n",
        "\n",
        "if element_freq:\n",
        "    present_frequencies = [freq for freq in element_freq.values() if freq > 0]\n",
        "    if present_frequencies:\n",
        "        min_freq = min(present_frequencies)\n",
        "        max_freq = max(present_frequencies)\n",
        "        # Use LogNorm - ensure vmin is positive and slightly less than actual min\n",
        "        norm = mcolors.LogNorm(\n",
        "            vmin=min_freq * 0.9 if min_freq > 0 else 1e-9, vmax=max_freq\n",
        "        )\n",
        "    else:\n",
        "        print(\"Warning: All element frequencies are zero.\")\n",
        "else:\n",
        "    print(\"Warning: No element frequencies calculated.\")\n",
        "\n",
        "\n",
        "# 4. Helper function for element coordinates (includes Ln/Ac placement)\n",
        "def get_element_display_coords(element: Element):\n",
        "    \"\"\"Calculates display row and group for standard periodic table layout.\"\"\"\n",
        "    row = element.row\n",
        "    group = element.group\n",
        "\n",
        "    if 57 <= element.Z <= 71:  # Lanthanides (La-Lu) -> display row 9\n",
        "        display_row = 9\n",
        "        display_group = 3 + (\n",
        "            element.Z - 57\n",
        "        )  # Place sequentially starting in group 3 column space\n",
        "    elif 89 <= element.Z <= 103:  # Actinides (Ac-Lr) -> display row 10\n",
        "        display_row = 10\n",
        "        display_group = 3 + (\n",
        "            element.Z - 89\n",
        "        )  # Place sequentially starting in group 3 column space\n",
        "    else:\n",
        "        display_row = row\n",
        "        display_group = group\n",
        "\n",
        "    return display_row, display_group\n",
        "\n",
        "\n",
        "# 5. Plotting\n",
        "fig, ax = plt.subplots(figsize=(16, 8))\n",
        "ax.set_aspect(\"equal\")\n",
        "\n",
        "# Determine max plot dimensions based on MAX_Z elements' positions\n",
        "max_disp_row = 0\n",
        "max_disp_group = 0\n",
        "all_coords = {}\n",
        "for Z in range(1, MAX_Z + 1):\n",
        "    try:\n",
        "        element = Element.from_Z(Z)\n",
        "        disp_r, disp_g = get_element_display_coords(element)\n",
        "        all_coords[Z] = (disp_r, disp_g, element.symbol)\n",
        "        max_disp_row = max(max_disp_row, disp_r)\n",
        "        max_disp_group = max(max_disp_group, disp_g)\n",
        "    except ValueError:\n",
        "        print(f\"Warning: Could not get Element object for Z={Z}\")\n",
        "        continue  # Skip if pymatgen doesn't know the element\n",
        "\n",
        "ax.set_xlim(0, max_disp_group + 1)\n",
        "ax.set_ylim(max_disp_row + 1, 0)  # Set limits *before* inverting y-axis\n",
        "# ax.invert_yaxis()  # Ensure row 1 is at the top\n",
        "\n",
        "\n",
        "# --- Iterate through ALL elements up to MAX_Z ---\n",
        "for Z in range(1, MAX_Z + 1):\n",
        "    if Z not in all_coords:\n",
        "        continue  # Skip if coordinates weren't determined\n",
        "\n",
        "    disp_r, disp_g, symbol = all_coords[Z]\n",
        "    element_obj = Element(symbol)  # Get Element object for checking frequency dict\n",
        "\n",
        "    face_color = MISSING_FACE_COLOR\n",
        "    text_color = MISSING_TEXT_COLOR\n",
        "    edge_color = \"silver\"  # Lighter edge for missing elements\n",
        "    label = symbol  # Default label is just the symbol\n",
        "\n",
        "    # Check if this element is in our frequency data\n",
        "    if element_obj in element_freq and element_freq[element_obj] > 0 and norm:\n",
        "        freq_val = element_freq[element_obj]\n",
        "        face_color = cmap(norm(freq_val))\n",
        "        edge_color = PRESENT_EDGE_COLOR\n",
        "\n",
        "        # Determine text color based on background luminance\n",
        "        luminance = (\n",
        "            0.2126 * face_color[0] + 0.7152 * face_color[1] + 0.0722 * face_color[2]\n",
        "        )\n",
        "        text_color = \"white\" if luminance < 0.5 else \"black\"\n",
        "        # Optional: add frequency to label for present elements\n",
        "        # label = f\"{symbol}\\n{freq_val:.2e}\" # Show frequency in scientific notation\n",
        "\n",
        "    # Draw the rectangle (element cell)\n",
        "    rect = patches.Rectangle(\n",
        "        (disp_g - 0.5, disp_r - 0.5),\n",
        "        1,\n",
        "        1,\n",
        "        linewidth=0.5,\n",
        "        edgecolor=edge_color,\n",
        "        facecolor=face_color,\n",
        "    )\n",
        "    ax.add_patch(rect)\n",
        "\n",
        "    # Add element symbol (or label)\n",
        "    ax.text(\n",
        "        disp_g,\n",
        "        disp_r,\n",
        "        label,\n",
        "        ha=\"center\",\n",
        "        va=\"center\",\n",
        "        fontsize=9,\n",
        "        weight=\"bold\" if face_color != MISSING_FACE_COLOR else \"normal\",\n",
        "        color=text_color,\n",
        "    )\n",
        "\n",
        "# --- Add Group/Row Labels (Optional but Recommended) ---\n",
        "# Group numbers (columns 1-18)\n",
        "for i in range(1, max_disp_group + 1):\n",
        "    # Find the minimum display row for any element in this group (main block or Ln/Ac)\n",
        "    min_row_in_group = float(\"inf\")\n",
        "    has_element_in_group = False\n",
        "    for r, g, _ in all_coords.values():\n",
        "        if g == i:\n",
        "            min_row_in_group = min(min_row_in_group, r)\n",
        "            has_element_in_group = True\n",
        "\n",
        "    if has_element_in_group:\n",
        "        # Place label above the highest element in that column\n",
        "        ax.text(\n",
        "            i,\n",
        "            min_row_in_group - 0.8,\n",
        "            str(i),\n",
        "            ha=\"center\",\n",
        "            va=\"bottom\",\n",
        "            fontsize=9,\n",
        "            color=\"gray\",\n",
        "        )\n",
        "\n",
        "# Row numbers (periods 1-7, plus Ln/Ac labels)\n",
        "for i in range(1, max_disp_row + 1):\n",
        "    # Find the minimum display group for any element in this row\n",
        "    min_group_in_row = float(\"inf\")\n",
        "    has_element_in_row = False\n",
        "    label = str(i)  # Default label is row number\n",
        "    if i == 9:\n",
        "        label = \"Ln\"\n",
        "    if i == 10:\n",
        "        label = \"Ac\"\n",
        "\n",
        "    for r, g, _ in all_coords.values():\n",
        "        if r == i:\n",
        "            min_group_in_row = min(min_group_in_row, g)\n",
        "            has_element_in_row = True\n",
        "\n",
        "    if has_element_in_row:\n",
        "        # Place label left of the first element in that row\n",
        "        ax.text(\n",
        "            min_group_in_row - 0.8,\n",
        "            i,\n",
        "            label,\n",
        "            ha=\"right\",\n",
        "            va=\"center\",\n",
        "            fontsize=9,\n",
        "            color=\"gray\",\n",
        "        )\n",
        "\n",
        "\n",
        "# --- Final Aesthetics ---\n",
        "# ax.invert_yaxis() # Ensure row 1 is at the top *AFTER* setting limits and plotting\n",
        "plt.title(f\"Element Frequency in Training Set (Z=1-{MAX_Z}, Log Scale)\")\n",
        "plt.axis(\"off\")  # Turn off the outer axis border and ticks\n",
        "\n",
        "# Add color bar *only* if there were present elements to normalize\n",
        "if norm:\n",
        "    sm = plt.cm.ScalarMappable(cmap=cmap, norm=norm)\n",
        "    sm.set_array([])  # Required empty array\n",
        "    cbar = plt.colorbar(sm, ax=ax, shrink=0.7, aspect=20, pad=0.03)\n",
        "    cbar.set_label(\"Relative Element Frequency (Log Scale)\")\n",
        "else:\n",
        "    # Optional: Add a note if no frequency data is shown\n",
        "    ax.text(\n",
        "        0.5,\n",
        "        -0.05,\n",
        "        \"No frequency data to display.\",\n",
        "        transform=ax.transAxes,\n",
        "        ha=\"center\",\n",
        "        fontsize=10,\n",
        "        color=\"red\",\n",
        "    )\n",
        "\n",
        "\n",
        "plt.tight_layout()\n",
        "plt.show()"
      ]
    },
    {
      "cell_type": "markdown",
      "metadata": {
        "id": "9fWF-49vYPWz"
      },
      "source": [
        "## [Step 4]: Model Definition and Training\n",
        "\n",
        "### Network Architecture\n",
        "\n",
        "The `ElasticSOAPNet` class defines a simple **fully connected** neural network to predict six diagonal components $\\bigl(C_{11}, C_{22}, \\ldots, C_{66}\\bigr)$. Its key layers are:\n",
        "- An **input layer** matching the dimensionality of the SOAP descriptor.\n",
        "- Hidden layers of size 128, 32, and 16, each followed by a **ReLU** activation and **dropout** for regularization.\n",
        "- An **output layer** producing 6 predicted elastic constants.\n",
        "\n",
        "```python\n",
        "class ElasticSOAPNet(nn.Module):\n",
        "    def __init__(self, input_dim, output_dim=6):\n",
        "        super(ElasticSOAPNet, self).__init__()\n",
        "        self.fc = nn.Sequential(\n",
        "            nn.Linear(input_dim, 128),\n",
        "            nn.ReLU(),\n",
        "            nn.Dropout(0.5),\n",
        "            nn.Linear(128, 32),\n",
        "            nn.ReLU(),\n",
        "            nn.Dropout(0.5),\n",
        "            nn.Linear(32, 16),\n",
        "            nn.ReLU(),\n",
        "            nn.Dropout(0.5),\n",
        "            nn.Linear(16, output_dim),\n",
        "        )\n",
        "\n",
        "    def forward(self, x):\n",
        "        return self.fc(x)\n",
        "```\n",
        "\n",
        "### Loss Function\n",
        "\n",
        "We train the model to minimize the **Mean Squared Error (MSE)** between the predicted ($\\hat{\\mathbf{y}}_i$) and actual ($\\mathbf{y}_i$) elastic tensor components. Formally, for $N$ training samples:\n",
        "\n",
        "$$\n",
        "\\mathcal{L}(\\boldsymbol{\\theta}) \\;=\\; \\frac{1}{N} \\sum_{i=1}^N \\|\\mathbf{y}_i - \\hat{\\mathbf{y}}_i(\\boldsymbol{\\theta})\\|^2,\n",
        "$$\n",
        "\n",
        "where $\\boldsymbol{\\theta}$ represents all learnable parameters in the network.\n",
        "\n",
        "### Training Procedure\n",
        "\n",
        "1. **Model Initialization**  \n",
        "   - Instantiate `ElasticSOAPNet` with the input dimension equal to the SOAP descriptor size and `output_dim=6`.\n",
        "\n",
        "2. **Optimizer**  \n",
        "   - We use the **Adam** optimizer with a learning rate of `0.0005` and a small weight decay (`1e-4`) to help regularize the model parameters.\n",
        "\n",
        "3. **Forward Pass**  \n",
        "   - For each mini-batch, we compute predicted values $\\hat{\\mathbf{y}}_i$ by passing the SOAP features through the network.\n",
        "\n",
        "4. **Compute Loss**  \n",
        "   - Calculate MSE loss by comparing predictions to true targets for each batch.\n",
        "\n",
        "5. **Backward Pass**  \n",
        "   - Perform **backpropagation** to compute gradients with respect to all parameters.\n",
        "\n",
        "6. **Update Parameters**  \n",
        "   - The optimizer (Adam) updates each parameter based on the computed gradients.\n",
        "\n",
        "By iterating through these steps for each epoch, the network progressively **learns** to minimize the MSE loss and provide **accurate predictions** of the target elastic constants."
      ]
    },
    {
      "cell_type": "code",
      "execution_count": 17,
      "metadata": {
        "id": "x3VMgfEJDsup"
      },
      "outputs": [],
      "source": [
        "import torch.nn as nn\n",
        "\n",
        "\n",
        "class ElasticSOAPNet(nn.Module):\n",
        "    def __init__(self, input_dim, output_dim=6):\n",
        "        super().__init__()\n",
        "        self.fc = nn.Sequential(\n",
        "            nn.Linear(input_dim, 64),  ### <<<<<< TO CANGE\n",
        "            nn.ReLU(),\n",
        "            nn.Dropout(0.5),\n",
        "            nn.Linear(64, 32),\n",
        "            nn.ReLU(),\n",
        "            nn.Dropout(0.5),\n",
        "            nn.Linear(32, 16),\n",
        "            nn.ReLU(),\n",
        "            nn.Dropout(0.5),\n",
        "            nn.Linear(16, output_dim),\n",
        "        )\n",
        "\n",
        "    def forward(self, x):\n",
        "        return self.fc(x)"
      ]
    },
    {
      "cell_type": "code",
      "execution_count": 18,
      "metadata": {
        "colab": {
          "base_uri": "https://localhost:8080/"
        },
        "id": "8fcYGie4I0IZ",
        "outputId": "68c5679d-995b-4ba9-b533-61f763eaebbd"
      },
      "outputs": [
        {
          "output_type": "stream",
          "name": "stdout",
          "text": [
            "Using device: cpu\n"
          ]
        }
      ],
      "source": [
        "device = torch.device(\"cuda\" if torch.cuda.is_available() else \"cpu\")\n",
        "print(f\"Using device: {device}\")"
      ]
    },
    {
      "cell_type": "code",
      "execution_count": 19,
      "metadata": {
        "id": "KvpztchZI2vd"
      },
      "outputs": [],
      "source": [
        "sample_feature, _ = train_dataset[0]\n",
        "model = ElasticSOAPNet(input_dim=sample_feature.shape[0]).to(device)\n",
        "\n",
        "criterion = nn.MSELoss().to(device)\n",
        "optimizer = torch.optim.Adam(model.parameters(), lr=0.0005, weight_decay=1e-4)"
      ]
    },
    {
      "cell_type": "code",
      "execution_count": 20,
      "metadata": {
        "colab": {
          "base_uri": "https://localhost:8080/",
          "height": 391
        },
        "id": "y4g_PCpiFtOE",
        "outputId": "5b676a6c-78fd-4c4b-e67c-47fb9ae8d85e"
      },
      "outputs": [
        {
          "output_type": "stream",
          "name": "stderr",
          "text": [
            "Epoch 1/5:  38%|███▊      | 192/499 [01:27<02:19,  2.19 batch/s, batch_loss=4601.4126, epoch_avg_loss=12002.1475]\n"
          ]
        },
        {
          "output_type": "error",
          "ename": "KeyboardInterrupt",
          "evalue": "",
          "traceback": [
            "\u001b[0;31m---------------------------------------------------------------------------\u001b[0m",
            "\u001b[0;31mKeyboardInterrupt\u001b[0m                         Traceback (most recent call last)",
            "\u001b[0;32m<ipython-input-20-7b56bebd7d79>\u001b[0m in \u001b[0;36m<cell line: 0>\u001b[0;34m()\u001b[0m\n\u001b[1;32m     18\u001b[0m         \u001b[0mloss\u001b[0m \u001b[0;34m=\u001b[0m \u001b[0mcriterion\u001b[0m\u001b[0;34m(\u001b[0m\u001b[0moutputs\u001b[0m\u001b[0;34m,\u001b[0m \u001b[0mtargets\u001b[0m\u001b[0;34m)\u001b[0m\u001b[0;34m\u001b[0m\u001b[0;34m\u001b[0m\u001b[0m\n\u001b[1;32m     19\u001b[0m         \u001b[0mloss\u001b[0m\u001b[0;34m.\u001b[0m\u001b[0mbackward\u001b[0m\u001b[0;34m(\u001b[0m\u001b[0;34m)\u001b[0m\u001b[0;34m\u001b[0m\u001b[0;34m\u001b[0m\u001b[0m\n\u001b[0;32m---> 20\u001b[0;31m         \u001b[0moptimizer\u001b[0m\u001b[0;34m.\u001b[0m\u001b[0mstep\u001b[0m\u001b[0;34m(\u001b[0m\u001b[0;34m)\u001b[0m\u001b[0;34m\u001b[0m\u001b[0;34m\u001b[0m\u001b[0m\n\u001b[0m\u001b[1;32m     21\u001b[0m \u001b[0;34m\u001b[0m\u001b[0m\n\u001b[1;32m     22\u001b[0m         \u001b[0mepoch_loss\u001b[0m \u001b[0;34m+=\u001b[0m \u001b[0mloss\u001b[0m\u001b[0;34m.\u001b[0m\u001b[0mitem\u001b[0m\u001b[0;34m(\u001b[0m\u001b[0;34m)\u001b[0m\u001b[0;34m\u001b[0m\u001b[0;34m\u001b[0m\u001b[0m\n",
            "\u001b[0;32m/usr/local/lib/python3.11/dist-packages/torch/optim/optimizer.py\u001b[0m in \u001b[0;36mwrapper\u001b[0;34m(*args, **kwargs)\u001b[0m\n\u001b[1;32m    491\u001b[0m                             )\n\u001b[1;32m    492\u001b[0m \u001b[0;34m\u001b[0m\u001b[0m\n\u001b[0;32m--> 493\u001b[0;31m                 \u001b[0mout\u001b[0m \u001b[0;34m=\u001b[0m \u001b[0mfunc\u001b[0m\u001b[0;34m(\u001b[0m\u001b[0;34m*\u001b[0m\u001b[0margs\u001b[0m\u001b[0;34m,\u001b[0m \u001b[0;34m**\u001b[0m\u001b[0mkwargs\u001b[0m\u001b[0;34m)\u001b[0m\u001b[0;34m\u001b[0m\u001b[0;34m\u001b[0m\u001b[0m\n\u001b[0m\u001b[1;32m    494\u001b[0m                 \u001b[0mself\u001b[0m\u001b[0;34m.\u001b[0m\u001b[0m_optimizer_step_code\u001b[0m\u001b[0;34m(\u001b[0m\u001b[0;34m)\u001b[0m\u001b[0;34m\u001b[0m\u001b[0;34m\u001b[0m\u001b[0m\n\u001b[1;32m    495\u001b[0m \u001b[0;34m\u001b[0m\u001b[0m\n",
            "\u001b[0;32m/usr/local/lib/python3.11/dist-packages/torch/optim/optimizer.py\u001b[0m in \u001b[0;36m_use_grad\u001b[0;34m(self, *args, **kwargs)\u001b[0m\n\u001b[1;32m     89\u001b[0m             \u001b[0mtorch\u001b[0m\u001b[0;34m.\u001b[0m\u001b[0mset_grad_enabled\u001b[0m\u001b[0;34m(\u001b[0m\u001b[0mself\u001b[0m\u001b[0;34m.\u001b[0m\u001b[0mdefaults\u001b[0m\u001b[0;34m[\u001b[0m\u001b[0;34m\"differentiable\"\u001b[0m\u001b[0;34m]\u001b[0m\u001b[0;34m)\u001b[0m\u001b[0;34m\u001b[0m\u001b[0;34m\u001b[0m\u001b[0m\n\u001b[1;32m     90\u001b[0m             \u001b[0mtorch\u001b[0m\u001b[0;34m.\u001b[0m\u001b[0m_dynamo\u001b[0m\u001b[0;34m.\u001b[0m\u001b[0mgraph_break\u001b[0m\u001b[0;34m(\u001b[0m\u001b[0;34m)\u001b[0m\u001b[0;34m\u001b[0m\u001b[0;34m\u001b[0m\u001b[0m\n\u001b[0;32m---> 91\u001b[0;31m             \u001b[0mret\u001b[0m \u001b[0;34m=\u001b[0m \u001b[0mfunc\u001b[0m\u001b[0;34m(\u001b[0m\u001b[0mself\u001b[0m\u001b[0;34m,\u001b[0m \u001b[0;34m*\u001b[0m\u001b[0margs\u001b[0m\u001b[0;34m,\u001b[0m \u001b[0;34m**\u001b[0m\u001b[0mkwargs\u001b[0m\u001b[0;34m)\u001b[0m\u001b[0;34m\u001b[0m\u001b[0;34m\u001b[0m\u001b[0m\n\u001b[0m\u001b[1;32m     92\u001b[0m         \u001b[0;32mfinally\u001b[0m\u001b[0;34m:\u001b[0m\u001b[0;34m\u001b[0m\u001b[0;34m\u001b[0m\u001b[0m\n\u001b[1;32m     93\u001b[0m             \u001b[0mtorch\u001b[0m\u001b[0;34m.\u001b[0m\u001b[0m_dynamo\u001b[0m\u001b[0;34m.\u001b[0m\u001b[0mgraph_break\u001b[0m\u001b[0;34m(\u001b[0m\u001b[0;34m)\u001b[0m\u001b[0;34m\u001b[0m\u001b[0;34m\u001b[0m\u001b[0m\n",
            "\u001b[0;32m/usr/local/lib/python3.11/dist-packages/torch/optim/adam.py\u001b[0m in \u001b[0;36mstep\u001b[0;34m(self, closure)\u001b[0m\n\u001b[1;32m    242\u001b[0m             )\n\u001b[1;32m    243\u001b[0m \u001b[0;34m\u001b[0m\u001b[0m\n\u001b[0;32m--> 244\u001b[0;31m             adam(\n\u001b[0m\u001b[1;32m    245\u001b[0m                 \u001b[0mparams_with_grad\u001b[0m\u001b[0;34m,\u001b[0m\u001b[0;34m\u001b[0m\u001b[0;34m\u001b[0m\u001b[0m\n\u001b[1;32m    246\u001b[0m                 \u001b[0mgrads\u001b[0m\u001b[0;34m,\u001b[0m\u001b[0;34m\u001b[0m\u001b[0;34m\u001b[0m\u001b[0m\n",
            "\u001b[0;32m/usr/local/lib/python3.11/dist-packages/torch/optim/optimizer.py\u001b[0m in \u001b[0;36mmaybe_fallback\u001b[0;34m(*args, **kwargs)\u001b[0m\n\u001b[1;32m    152\u001b[0m                 \u001b[0;32mreturn\u001b[0m \u001b[0mdisabled_func\u001b[0m\u001b[0;34m(\u001b[0m\u001b[0;34m*\u001b[0m\u001b[0margs\u001b[0m\u001b[0;34m,\u001b[0m \u001b[0;34m**\u001b[0m\u001b[0mkwargs\u001b[0m\u001b[0;34m)\u001b[0m\u001b[0;34m\u001b[0m\u001b[0;34m\u001b[0m\u001b[0m\n\u001b[1;32m    153\u001b[0m             \u001b[0;32melse\u001b[0m\u001b[0;34m:\u001b[0m\u001b[0;34m\u001b[0m\u001b[0;34m\u001b[0m\u001b[0m\n\u001b[0;32m--> 154\u001b[0;31m                 \u001b[0;32mreturn\u001b[0m \u001b[0mfunc\u001b[0m\u001b[0;34m(\u001b[0m\u001b[0;34m*\u001b[0m\u001b[0margs\u001b[0m\u001b[0;34m,\u001b[0m \u001b[0;34m**\u001b[0m\u001b[0mkwargs\u001b[0m\u001b[0;34m)\u001b[0m\u001b[0;34m\u001b[0m\u001b[0;34m\u001b[0m\u001b[0m\n\u001b[0m\u001b[1;32m    155\u001b[0m \u001b[0;34m\u001b[0m\u001b[0m\n\u001b[1;32m    156\u001b[0m         \u001b[0;32mreturn\u001b[0m \u001b[0mmaybe_fallback\u001b[0m\u001b[0;34m\u001b[0m\u001b[0;34m\u001b[0m\u001b[0m\n",
            "\u001b[0;32m/usr/local/lib/python3.11/dist-packages/torch/optim/adam.py\u001b[0m in \u001b[0;36madam\u001b[0;34m(params, grads, exp_avgs, exp_avg_sqs, max_exp_avg_sqs, state_steps, foreach, capturable, differentiable, fused, grad_scale, found_inf, has_complex, amsgrad, beta1, beta2, lr, weight_decay, eps, maximize)\u001b[0m\n\u001b[1;32m    874\u001b[0m         \u001b[0mfunc\u001b[0m \u001b[0;34m=\u001b[0m \u001b[0m_single_tensor_adam\u001b[0m\u001b[0;34m\u001b[0m\u001b[0;34m\u001b[0m\u001b[0m\n\u001b[1;32m    875\u001b[0m \u001b[0;34m\u001b[0m\u001b[0m\n\u001b[0;32m--> 876\u001b[0;31m     func(\n\u001b[0m\u001b[1;32m    877\u001b[0m         \u001b[0mparams\u001b[0m\u001b[0;34m,\u001b[0m\u001b[0;34m\u001b[0m\u001b[0;34m\u001b[0m\u001b[0m\n\u001b[1;32m    878\u001b[0m         \u001b[0mgrads\u001b[0m\u001b[0;34m,\u001b[0m\u001b[0;34m\u001b[0m\u001b[0;34m\u001b[0m\u001b[0m\n",
            "\u001b[0;32m/usr/local/lib/python3.11/dist-packages/torch/optim/adam.py\u001b[0m in \u001b[0;36m_single_tensor_adam\u001b[0;34m(params, grads, exp_avgs, exp_avg_sqs, max_exp_avg_sqs, state_steps, grad_scale, found_inf, amsgrad, has_complex, beta1, beta2, lr, weight_decay, eps, maximize, capturable, differentiable)\u001b[0m\n\u001b[1;32m    474\u001b[0m                 \u001b[0mdenom\u001b[0m \u001b[0;34m=\u001b[0m \u001b[0;34m(\u001b[0m\u001b[0mmax_exp_avg_sqs\u001b[0m\u001b[0;34m[\u001b[0m\u001b[0mi\u001b[0m\u001b[0;34m]\u001b[0m\u001b[0;34m.\u001b[0m\u001b[0msqrt\u001b[0m\u001b[0;34m(\u001b[0m\u001b[0;34m)\u001b[0m \u001b[0;34m/\u001b[0m \u001b[0mbias_correction2_sqrt\u001b[0m\u001b[0;34m)\u001b[0m\u001b[0;34m.\u001b[0m\u001b[0madd_\u001b[0m\u001b[0;34m(\u001b[0m\u001b[0meps\u001b[0m\u001b[0;34m)\u001b[0m\u001b[0;34m\u001b[0m\u001b[0;34m\u001b[0m\u001b[0m\n\u001b[1;32m    475\u001b[0m             \u001b[0;32melse\u001b[0m\u001b[0;34m:\u001b[0m\u001b[0;34m\u001b[0m\u001b[0;34m\u001b[0m\u001b[0m\n\u001b[0;32m--> 476\u001b[0;31m                 \u001b[0mdenom\u001b[0m \u001b[0;34m=\u001b[0m \u001b[0;34m(\u001b[0m\u001b[0mexp_avg_sq\u001b[0m\u001b[0;34m.\u001b[0m\u001b[0msqrt\u001b[0m\u001b[0;34m(\u001b[0m\u001b[0;34m)\u001b[0m \u001b[0;34m/\u001b[0m \u001b[0mbias_correction2_sqrt\u001b[0m\u001b[0;34m)\u001b[0m\u001b[0;34m.\u001b[0m\u001b[0madd_\u001b[0m\u001b[0;34m(\u001b[0m\u001b[0meps\u001b[0m\u001b[0;34m)\u001b[0m\u001b[0;34m\u001b[0m\u001b[0;34m\u001b[0m\u001b[0m\n\u001b[0m\u001b[1;32m    477\u001b[0m \u001b[0;34m\u001b[0m\u001b[0m\n\u001b[1;32m    478\u001b[0m             \u001b[0mparam\u001b[0m\u001b[0;34m.\u001b[0m\u001b[0maddcdiv_\u001b[0m\u001b[0;34m(\u001b[0m\u001b[0mexp_avg\u001b[0m\u001b[0;34m,\u001b[0m \u001b[0mdenom\u001b[0m\u001b[0;34m,\u001b[0m \u001b[0mvalue\u001b[0m\u001b[0;34m=\u001b[0m\u001b[0;34m-\u001b[0m\u001b[0mstep_size\u001b[0m\u001b[0;34m)\u001b[0m\u001b[0;34m\u001b[0m\u001b[0;34m\u001b[0m\u001b[0m\n",
            "\u001b[0;31mKeyboardInterrupt\u001b[0m: "
          ]
        }
      ],
      "source": [
        "from tqdm import tqdm\n",
        "\n",
        "epochs = 5\n",
        "model.train()\n",
        "\n",
        "train_losses = []\n",
        "val_losses = []\n",
        "\n",
        "for epoch in range(epochs):\n",
        "    epoch_loss = 0\n",
        "    progress = tqdm(train_loader, desc=f\"Epoch {epoch+1}/{epochs}\", unit=\" batch\")\n",
        "\n",
        "    for i, (features, targets) in enumerate(progress):\n",
        "        features, targets = features.to(device), targets.to(device)\n",
        "\n",
        "        optimizer.zero_grad()\n",
        "        outputs = model(features)\n",
        "        loss = criterion(outputs, targets)\n",
        "        loss.backward()\n",
        "        optimizer.step()\n",
        "\n",
        "        epoch_loss += loss.item()\n",
        "        avg_epoch_loss = epoch_loss / (i + 1)\n",
        "\n",
        "        progress.set_postfix(\n",
        "            batch_loss=f\"{loss.item():.4f}\", epoch_avg_loss=f\"{avg_epoch_loss:.4f}\"\n",
        "        )\n",
        "\n",
        "    avg_epoch_loss = epoch_loss / len(train_loader)\n",
        "    train_losses.append(avg_epoch_loss)\n",
        "\n",
        "    # Validation loss computation\n",
        "    model.eval()\n",
        "    val_epoch_loss = 0\n",
        "    with torch.no_grad():\n",
        "        for val_features, val_targets in test_loader:\n",
        "            val_features, val_targets = val_features.to(device), val_targets.to(device)\n",
        "            val_outputs = model(val_features)\n",
        "            val_loss = criterion(val_outputs, val_targets)\n",
        "            val_epoch_loss += val_loss.item()\n",
        "\n",
        "    val_epoch_loss /= len(test_loader)\n",
        "    val_losses.append(val_epoch_loss)\n",
        "\n",
        "    print(\n",
        "        f\"Epoch [{epoch+1}/{epochs}] Train Loss: {avg_epoch_loss:.4f} | Val Loss: {val_epoch_loss:.4f}\"\n",
        "    )\n",
        "\n",
        "    model.train()"
      ]
    },
    {
      "cell_type": "markdown",
      "metadata": {
        "id": "in1nySgTYPW2"
      },
      "source": [
        "### Plot the **Learning Curves**"
      ]
    },
    {
      "cell_type": "code",
      "execution_count": null,
      "metadata": {
        "id": "fSmVlAlHT2CF"
      },
      "outputs": [],
      "source": [
        "import matplotlib.pyplot as plt\n",
        "\n",
        "plt.figure(figsize=(8, 5))\n",
        "plt.plot(range(1, epochs + 1), train_losses, label=\"Training Loss\", marker=\"o\")\n",
        "plt.plot(range(1, epochs + 1), val_losses, label=\"Validation Loss\", marker=\"o\")\n",
        "\n",
        "plt.xlabel(\"Epoch\")\n",
        "plt.ylabel(\"Loss\")\n",
        "plt.title(\"Training and Validation Loss\")\n",
        "plt.legend()\n",
        "plt.grid(True)\n",
        "plt.show()"
      ]
    },
    {
      "cell_type": "markdown",
      "metadata": {
        "id": "T0tnVgePYPW4"
      },
      "source": [
        "## [Step 5]: Model Evaluation\n",
        "\n",
        "After training, we evaluate the performance of our neural network on both the **training** and **test** sets using **MAE** (Mean Absolute Error) and the **$R^2$** coefficient of determination. Here’s how it works:\n",
        "\n",
        "1. **Gathering Predictions**  \n",
        "   - We define a helper function `get_predictions(model, loader, device)` which:\n",
        "     - Sets the model to *evaluation* mode (`model.eval()`).\n",
        "     - Iterates over the **DataLoader** batches without computing gradients (`torch.no_grad()`).\n",
        "     - Collects all predicted values and the corresponding ground truth targets.\n",
        "\n",
        "2. **Metrics**  \n",
        "   - For each diagonal component $\\mathrm{C}_{ii}$:\n",
        "     - **MAE**: Measures the average absolute difference between predicted and true values.\n",
        "       $$\n",
        "         \\mathrm{MAE} \\;=\\; \\frac{1}{N}\\sum_{i=1}^N \\bigl| y_i - \\hat{y}_i \\bigr|\n",
        "       $$\n",
        "     - **$R^2$**: A measure of how much variance in the target is explained by the model, with 1.0 being perfect:\n",
        "       $$\n",
        "         R^2 \\;=\\; 1 - \\frac{\\sum_i (y_i - \\hat{y}_i)^2}{\\sum_i (y_i - \\bar{y})^2}.\n",
        "       $$\n",
        "       Here $\\bar{y}$ is the mean of the true values.\n",
        "\n",
        "3. **Parity Plots**  \n",
        "   - We create a **scatter plot** of **Actual vs. Predicted** for each component.\n",
        "   - An **identity line** ($y=x$) helps visualize how close predictions are to the ground truth.\n",
        "   - We overlay **train** and **test** points in different colors, making it easy to compare **overfitting** (train points hugging the line but test points diverging) or good **generalization** (both sets closely match).\n",
        "\n",
        "These visual and numerical evaluations provide a clear picture of the model’s **accuracy** and **robustness** in predicting the six diagonal components of the elastic tensor.\n"
      ]
    },
    {
      "cell_type": "code",
      "execution_count": null,
      "metadata": {
        "id": "-zerWKlnGYj1"
      },
      "outputs": [],
      "source": [
        "def get_predictions(model, loader, device):\n",
        "    model.eval()\n",
        "    preds, actuals = [], []\n",
        "    with torch.no_grad():\n",
        "        for features, targets in tqdm(loader, desc=\"Evaluating\"):\n",
        "            features = features.to(device)\n",
        "            outputs = model(features).cpu().numpy()\n",
        "            preds.append(outputs)\n",
        "            actuals.append(targets.numpy())\n",
        "    return np.vstack(actuals), np.vstack(preds)\n",
        "\n",
        "\n",
        "# Predictions on Train and Test datasets\n",
        "train_actuals, train_preds = get_predictions(model, train_loader, device)\n",
        "test_actuals, test_preds = get_predictions(model, test_loader, device)"
      ]
    },
    {
      "cell_type": "code",
      "execution_count": null,
      "metadata": {
        "id": "T3FiI4tEJ8op"
      },
      "outputs": [],
      "source": [
        "import matplotlib.pyplot as plt\n",
        "from sklearn.metrics import mean_absolute_error, r2_score\n",
        "\n",
        "tensor_components = [\"C11\", \"C22\", \"C33\", \"C44\", \"C55\", \"C66\"]\n",
        "\n",
        "fig, axes = plt.subplots(2, 3, figsize=(15, 10))\n",
        "fig.suptitle(\"Parity Plots: Train vs Test Overlay\", fontsize=18)\n",
        "\n",
        "for i, comp in enumerate(tensor_components):\n",
        "    # Train metrics\n",
        "    train_mae = mean_absolute_error(train_actuals[:, i], train_preds[:, i])\n",
        "    train_r2 = r2_score(train_actuals[:, i], train_preds[:, i])\n",
        "\n",
        "    # Test metrics\n",
        "    test_mae = mean_absolute_error(test_actuals[:, i], test_preds[:, i])\n",
        "    test_r2 = r2_score(test_actuals[:, i], test_preds[:, i])\n",
        "\n",
        "    ax = axes.reshape(-1)[i]\n",
        "    ax.scatter(\n",
        "        train_actuals[:, i], train_preds[:, i], alpha=0.6, label=\"Train\", color=\"blue\"\n",
        "    )\n",
        "    ax.scatter(\n",
        "        test_actuals[:, i], test_preds[:, i], alpha=0.6, label=\"Test\", color=\"orange\"\n",
        "    )\n",
        "\n",
        "    # Identity line\n",
        "    all_vals = np.concatenate(\n",
        "        [train_actuals[:, i], train_preds[:, i], test_actuals[:, i], test_preds[:, i]]\n",
        "    )\n",
        "    min_val, max_val = all_vals.min(), all_vals.max()\n",
        "    ax.plot([min_val, max_val], [min_val, max_val], \"r--\")\n",
        "\n",
        "    ax.set_title(\n",
        "        f\"{comp}\\nTrain MAE: {train_mae:.1f}, R²: {train_r2:.2f}\\nTest MAE: {test_mae:.1f}, R²: {test_r2:.2f}\"\n",
        "    )\n",
        "    ax.set_xlabel(\"Actual (GPa)\")\n",
        "    ax.set_ylabel(\"Predicted (GPa)\")\n",
        "    ax.grid(True)\n",
        "    ax.legend()\n",
        "\n",
        "plt.tight_layout(rect=[0, 0.05, 1, 0.9])\n",
        "plt.show()"
      ]
    },
    {
      "cell_type": "markdown",
      "metadata": {
        "id": "foCxNni9KFOt",
        "outputId": "a67f0650-2f09-49a3-fb68-3f9321fe1467"
      },
      "source": [
        "# Verification (Our model VS MACE)\n",
        "\n",
        "### Downloading and Uploading a Crystal Structure from Materials Project\n",
        "\n",
        "1. **Go to Materials Project**  \n",
        "   - Visit [materialsproject.org](https://materialsproject.org/).  \n",
        "   - If you are not already signed in, create a free account or log in.  \n",
        "\n",
        "2. **Search for \"Silicon\"**  \n",
        "   - In the search bar, type \"Silicon\" or use the chemical formula \"Si.\"  \n",
        "   - You’ll see one or more entries for stable/low-energy structures (e.g., mp-149).  \n",
        "\n",
        "3. **Download the CIF**  \n",
        "   - Open the structure entry you are interested in.  \n",
        "   - Click on the **\"Download\"** or **\"Export\"** button and select **CIF** to save the file locally (e.g., `Si.cif`).  \n",
        "\n",
        "4. **Upload to Google Colab**  \n",
        "   - In your Colab notebook interface, look on the left sidebar for the **Files** tab.  \n",
        "   - Drag and drop the downloaded `Si.cif` file into the **home folder** (or any target folder where your code can access it).  \n",
        "\n",
        "5. **Repeat for Your Assigned Structure**  \n",
        "   - For the assignment at home, follow the same steps for the structure given in your **group assignment**.  \n",
        "   - Download its CIF from Materials Project or a similar database.  \n",
        "   - Upload it into Colab (e.g., `MyStructure.cif`) so your notebook can read it.\n",
        "\n",
        "Once uploaded, you can confirm the file is there by listing the directory contents inside Colab, for example:\n",
        "```python\n",
        "!ls\n",
        "```\n",
        "\n",
        "This ensures you have the crystal structure files ready for **featurization** (SOAP, etc.) and subsequent **elastic constant predictions**.\n",
        "```axes"
      ]
    },
    {
      "cell_type": "code",
      "execution_count": null,
      "metadata": {
        "id": "tht9bYuiKL3O"
      },
      "outputs": [],
      "source": [
        "import numpy as np\n",
        "import torch\n",
        "from ase.io import read\n",
        "from dscribe.descriptors import SOAP\n",
        "\n",
        "FILE_NAME = \"Si.cif\"\n",
        "\n",
        "# === Load the structure ===\n",
        "atoms = read(\"Si.cif\")\n",
        "\n",
        "# === Recreate the SOAP descriptor ===\n",
        "# Assumes soap_params is already defined as before\n",
        "soap = SOAP(**soap_params)\n",
        "\n",
        "# === Create descriptor for the structure ===\n",
        "feature = soap.create(atoms, n_jobs=-1).flatten()\n",
        "feature_tensor = (\n",
        "    torch.tensor(feature, dtype=torch.float32).unsqueeze(0).to(device)\n",
        ")  # batch size = 1\n",
        "del feature\n",
        "\n",
        "# === Load the trained model ===\n",
        "# model.eval()\n",
        "\n",
        "# === Predict elastic properties ===\n",
        "with torch.no_grad():\n",
        "    prediction = model(feature_tensor).cpu().numpy().flatten()\n",
        "\n",
        "# === Output ===\n",
        "tensor_components = [\"C11\", \"C22\", \"C33\", \"C44\", \"C55\", \"C66\"]\n",
        "print(\"Predicted elastic tensor components (GPa):\")\n",
        "for comp, value in zip(tensor_components, prediction):\n",
        "    print(f\"{comp}: {value:.2f}\")\n",
        "del feature_tensor"
      ]
    },
    {
      "cell_type": "markdown",
      "metadata": {
        "id": "AKdydlFzYPXF"
      },
      "source": [
        "## Using MACE to Compute the Stress Tensor and Extract Elastic Constants\n",
        "\n",
        "### Theoretical Background\n",
        "\n",
        "For a **small strain** $\\boldsymbol{\\varepsilon}$, the change in total energy $\\Delta E$ relative to the unstrained reference ($\\varepsilon = 0$) can be approximated by:\n",
        "\n",
        "$$\n",
        "\\Delta E(\\boldsymbol{\\varepsilon}) \\;=\\; \\frac{1}{2}\\, V \\, \\boldsymbol{\\varepsilon}^T \\, \\mathbf{C} \\, \\boldsymbol{\\varepsilon},\n",
        "$$\n",
        "\n",
        "where:\n",
        "- $\\mathbf{C}$ is the **elastic stiffness matrix** (or specific components of it),\n",
        "- $V$ is the **equilibrium volume** of the crystal,\n",
        "- $\\boldsymbol{\\varepsilon}$ is the strain vector (in Voigt notation for simplicity).\n",
        "\n",
        "Focusing on a single elastic constant $C_{ij}$, we often apply **one** independent component of strain $ \\varepsilon $ at a time to the reference cell. Then the energy change simplifies to:\n",
        "\n",
        "$$\n",
        "\\Delta E(\\varepsilon) \\;\\approx\\; \\tfrac{1}{2}\\, C_{ij}\\, V\\, \\varepsilon^2.\n",
        "$$\n",
        "\n",
        "By **polynomial-fitting** $\\Delta E$ vs. $\\varepsilon^2$ over small strains (e.g., $\\varepsilon \\in [-0.01,\\,+0.01]$), we solve for $C_{ij}$.\n",
        "\n",
        "### Using MACE in Practice\n",
        "\n",
        "[MACE](https://github.com/ACEsuit/mace) is a **machine-learned interatomic potential** trained on quantum-mechanical data. It can compute **forces**, **stresses**, and **energies** for a given atomic configuration.\n",
        "\n",
        "1. **Attach the MACE Calculator**  \n",
        "   ```python\n",
        "   calculator = MACECalculator(\n",
        "       model_path=\"MACE-matpes-r2scan-omat-ft.model\",\n",
        "       device=device.type\n",
        "   )\n",
        "   atoms_ref.calc = calculator\n",
        "   ```\n",
        "   This tells the `ase.Atoms` object to use MACE for its energy and force evaluations.\n",
        "\n",
        "2. **Apply Small Strains**  \n",
        "   - We define a helper function `apply_strain(atoms, strain_tensor)` that modifies the cell dimensions according to $\\boldsymbol{\\varepsilon}$.  \n",
        "   - A loop is used to vary $\\varepsilon$ from negative to positive (e.g., $-1\\%$ to $+1\\%$).\n",
        "\n",
        "3. **Compute the Energy**  \n",
        "   - For each strained geometry, MACE calculates the total potential energy:\n",
        "     ```python\n",
        "     energy = atoms_def.get_potential_energy()\n",
        "     ```\n",
        "   - We record these energies in an array, subtract the reference (unstrained) energy to get $\\Delta E(\\varepsilon)$.\n",
        "\n",
        "4. **Extract $ C_{ij} $**  \n",
        "   - Fit $\\Delta E(\\varepsilon)$ vs. $\\varepsilon^2$ using a simple linear regression (or polynomial fit) to solve:\n",
        "     $$\n",
        "       \\Delta E(\\varepsilon) \\;=\\; a\\, \\varepsilon^2 + b\\,\\varepsilon + c\n",
        "     $$\n",
        "     Typically, $b$ and $c$ should be near zero for purely elastic (symmetric) strains, and $a = \\tfrac{1}{2}\\,C_{ij}\\,V$.  \n",
        "   - Rearrange to find $C_{ij}$:\n",
        "     $$\n",
        "       C_{ij} \\;=\\; \\frac{2\\,a}{V}.\n",
        "     $$\n",
        "\n",
        "5. **Interpretation**  \n",
        "   - Repeating for different strain “modes” (e.g., $\\varepsilon_{11}, \\varepsilon_{22}, \\ldots$, or shear strains) lets us extract various diagonal (and sometimes off-diagonal) **elastic constants**.  \n",
        "   - These computed values can be **compared** directly to the model predictions (from the neural network) or **literature** data.\n",
        "\n",
        "This approach leverages MACE’s **ab initio–level accuracy** (learned from high-fidelity quantum-mechanical calculations) but at significantly lower computational cost than running a full DFT simulation for each strain configuration. The result is a **fast and flexible** way to obtain elastic constants by **direct energy or stress evaluations**.\n"
      ]
    },
    {
      "cell_type": "code",
      "source": [
        "!pip install mace-torch"
      ],
      "metadata": {
        "id": "_7_Jtf14f-eO"
      },
      "execution_count": null,
      "outputs": []
    },
    {
      "cell_type": "code",
      "execution_count": null,
      "metadata": {
        "id": "BAeRpeWa4OnW"
      },
      "outputs": [],
      "source": [
        "!wget https://github.com/ACEsuit/mace-foundations/releases/download/mace_matpes_0/MACE-matpes-r2scan-omat-ft.model"
      ]
    },
    {
      "cell_type": "code",
      "execution_count": null,
      "metadata": {
        "id": "hSrviBPV4O_P"
      },
      "outputs": [],
      "source": [
        "import copy\n",
        "\n",
        "import matplotlib.pyplot as plt\n",
        "import numpy as np\n",
        "from ase import Atoms\n",
        "from ase.io import read\n",
        "from ase.units import GPa\n",
        "from mace.calculators import MACECalculator"
      ]
    },
    {
      "cell_type": "code",
      "execution_count": null,
      "metadata": {
        "id": "-X87Nu784sq0"
      },
      "outputs": [],
      "source": [
        "def apply_strain(atoms: Atoms, strain_tensor):\n",
        "    atoms = atoms.copy()\n",
        "    cell = atoms.get_cell()\n",
        "    strain_matrix = np.eye(3) + strain_tensor\n",
        "    atoms.set_cell(np.dot(strain_matrix, cell), scale_atoms=True)\n",
        "    return atoms\n",
        "\n",
        "\n",
        "def compute_elastic_constant(strain_energies, strains, volume):\n",
        "    # Fit E = 0.5 * C * strain^2 → C = 2 * dE/d(strain^2)\n",
        "    coeffs = np.polyfit(strains**2, strain_energies, 1)\n",
        "    return (2 * coeffs[0]) / volume / GPa  # in GPa"
      ]
    },
    {
      "cell_type": "code",
      "execution_count": null,
      "metadata": {
        "id": "jTr2E8cW4wm9"
      },
      "outputs": [],
      "source": [
        "# Load structure\n",
        "atoms_ref = read(\"Si.cif\")\n",
        "volume = atoms_ref.get_volume()\n",
        "\n",
        "# Attach MACE-MP0 calculator\n",
        "calculator = MACECalculator(\n",
        "    model_path=\"MACE-matpes-r2scan-omat-ft.model\", device=device.type\n",
        ")\n",
        "atoms_ref.calc = calculator\n",
        "\n",
        "# Small strains to apply\n",
        "strain_values = np.linspace(-0.01, 0.01, 11)\n",
        "\n",
        "# Tensor components to compute\n",
        "component_labels = [\"C11\", \"C22\", \"C33\", \"C44\", \"C55\", \"C66\"]\n",
        "strain_tensors = {\n",
        "    \"C11\": lambda e: np.array([[e, 0, 0], [0, 0, 0], [0, 0, 0]]),\n",
        "    \"C22\": lambda e: np.array([[0, 0, 0], [0, e, 0], [0, 0, 0]]),\n",
        "    \"C33\": lambda e: np.array([[0, 0, 0], [0, 0, 0], [0, 0, e]]),\n",
        "    \"C44\": lambda e: np.array([[0, e / 2, 0], [e / 2, 0, 0], [0, 0, 0]]),\n",
        "    \"C55\": lambda e: np.array([[0, 0, e / 2], [0, 0, 0], [e / 2, 0, 0]]),\n",
        "    \"C66\": lambda e: np.array([[0, 0, 0], [0, 0, e / 2], [0, e / 2, 0]]),\n",
        "}\n",
        "\n",
        "elastic_constants = {}\n",
        "all_atoms_def = [atoms_ref.copy()]\n",
        "for label in component_labels:\n",
        "    energies = []\n",
        "    for strain in strain_values:\n",
        "        atoms_def = apply_strain(atoms_ref, strain_tensors[label](strain))\n",
        "        atoms_def.calc = calculator\n",
        "        energy = atoms_def.get_potential_energy()\n",
        "        energies.append(energy)\n",
        "        all_atoms_def.append(atoms_def.copy())\n",
        "    energies = np.array(energies)\n",
        "    strains = np.array(strain_values)\n",
        "    dE = energies - energies[strains == 0][0]\n",
        "    Cij = compute_elastic_constant(dE, strains, volume)\n",
        "    plt.plot(dE, strains)\n",
        "    plt.ylabel(r\"$\\Delta E$ (eV)\")\n",
        "    plt.xlabel(rf\"$\\epsilon_{{{label[1:]}}}$ (-)\")\n",
        "    plt.show()\n",
        "    elastic_constants[label] = Cij\n",
        "    print(f\"{label}: {Cij:.2f} GPa\")"
      ]
    },
    {
      "cell_type": "code",
      "execution_count": null,
      "metadata": {
        "id": "-rKSTzawYPXK"
      },
      "outputs": [],
      "source": [
        "for label, Cij in elastic_constants:\n",
        "    print(f\"{label}: {Cij:.2f} GPa\")"
      ]
    },
    {
      "cell_type": "code",
      "execution_count": null,
      "metadata": {
        "id": "itxC3gpfYPXL"
      },
      "outputs": [],
      "source": [
        "from ase.visualize import view\n",
        "\n",
        "view(all_atoms_def, viewer=\"ngl\")"
      ]
    }
  ],
  "metadata": {
    "accelerator": "GPU",
    "colab": {
      "gpuType": "T4",
      "provenance": []
    },
    "kernelspec": {
      "display_name": "venv_scratch",
      "language": "python",
      "name": "python3"
    },
    "language_info": {
      "codemirror_mode": {
        "name": "ipython",
        "version": 3
      },
      "file_extension": ".py",
      "mimetype": "text/x-python",
      "name": "python",
      "nbconvert_exporter": "python",
      "pygments_lexer": "ipython3",
      "version": "3.11.11"
    },
    "widgets": {
      "application/vnd.jupyter.widget-state+json": {
        "78177ee30ce5479fa56ae70f06e94c93": {
          "model_module": "@jupyter-widgets/controls",
          "model_name": "HBoxModel",
          "model_module_version": "2.0.0",
          "state": {
            "_dom_classes": [],
            "_model_module": "@jupyter-widgets/controls",
            "_model_module_version": "2.0.0",
            "_model_name": "HBoxModel",
            "_view_count": null,
            "_view_module": "@jupyter-widgets/controls",
            "_view_module_version": "2.0.0",
            "_view_name": "HBoxView",
            "box_style": "",
            "children": [
              "IPY_MODEL_4d424656eb5942119269cc0510819f15",
              "IPY_MODEL_7fac1fc52bc048e1a97da8f89c06a372",
              "IPY_MODEL_75106de7748c489cb24a9e83de814136"
            ],
            "layout": "IPY_MODEL_2328ed106d1c46ef9f5d0c04c301e92a",
            "tabbable": null,
            "tooltip": null
          }
        },
        "4d424656eb5942119269cc0510819f15": {
          "model_module": "@jupyter-widgets/controls",
          "model_name": "HTMLModel",
          "model_module_version": "2.0.0",
          "state": {
            "_dom_classes": [],
            "_model_module": "@jupyter-widgets/controls",
            "_model_module_version": "2.0.0",
            "_model_name": "HTMLModel",
            "_view_count": null,
            "_view_module": "@jupyter-widgets/controls",
            "_view_module_version": "2.0.0",
            "_view_name": "HTMLView",
            "description": "",
            "description_allow_html": false,
            "layout": "IPY_MODEL_d8ec7a903148469c80f6bf5cb8aee562",
            "placeholder": "​",
            "style": "IPY_MODEL_b4aad4eb4b4d4e3c94b42e6d090cb7b3",
            "tabbable": null,
            "tooltip": null,
            "value": "Retrieving ElasticityDoc documents: 100%"
          }
        },
        "7fac1fc52bc048e1a97da8f89c06a372": {
          "model_module": "@jupyter-widgets/controls",
          "model_name": "FloatProgressModel",
          "model_module_version": "2.0.0",
          "state": {
            "_dom_classes": [],
            "_model_module": "@jupyter-widgets/controls",
            "_model_module_version": "2.0.0",
            "_model_name": "FloatProgressModel",
            "_view_count": null,
            "_view_module": "@jupyter-widgets/controls",
            "_view_module_version": "2.0.0",
            "_view_name": "ProgressView",
            "bar_style": "success",
            "description": "",
            "description_allow_html": false,
            "layout": "IPY_MODEL_d663c2a6d9fd45c2acd499f325971673",
            "max": 13283,
            "min": 0,
            "orientation": "horizontal",
            "style": "IPY_MODEL_a6d6ebd07dd74ff0a94a144f08111f06",
            "tabbable": null,
            "tooltip": null,
            "value": 13283
          }
        },
        "75106de7748c489cb24a9e83de814136": {
          "model_module": "@jupyter-widgets/controls",
          "model_name": "HTMLModel",
          "model_module_version": "2.0.0",
          "state": {
            "_dom_classes": [],
            "_model_module": "@jupyter-widgets/controls",
            "_model_module_version": "2.0.0",
            "_model_name": "HTMLModel",
            "_view_count": null,
            "_view_module": "@jupyter-widgets/controls",
            "_view_module_version": "2.0.0",
            "_view_name": "HTMLView",
            "description": "",
            "description_allow_html": false,
            "layout": "IPY_MODEL_6e856e09d4bf441ab716fea440ee9712",
            "placeholder": "​",
            "style": "IPY_MODEL_2b0047e01eb74a08858d9b826665736d",
            "tabbable": null,
            "tooltip": null,
            "value": " 13283/13283 [01:10&lt;00:00, 199.63it/s]"
          }
        },
        "2328ed106d1c46ef9f5d0c04c301e92a": {
          "model_module": "@jupyter-widgets/base",
          "model_name": "LayoutModel",
          "model_module_version": "2.0.0",
          "state": {
            "_model_module": "@jupyter-widgets/base",
            "_model_module_version": "2.0.0",
            "_model_name": "LayoutModel",
            "_view_count": null,
            "_view_module": "@jupyter-widgets/base",
            "_view_module_version": "2.0.0",
            "_view_name": "LayoutView",
            "align_content": null,
            "align_items": null,
            "align_self": null,
            "border_bottom": null,
            "border_left": null,
            "border_right": null,
            "border_top": null,
            "bottom": null,
            "display": null,
            "flex": null,
            "flex_flow": null,
            "grid_area": null,
            "grid_auto_columns": null,
            "grid_auto_flow": null,
            "grid_auto_rows": null,
            "grid_column": null,
            "grid_gap": null,
            "grid_row": null,
            "grid_template_areas": null,
            "grid_template_columns": null,
            "grid_template_rows": null,
            "height": null,
            "justify_content": null,
            "justify_items": null,
            "left": null,
            "margin": null,
            "max_height": null,
            "max_width": null,
            "min_height": null,
            "min_width": null,
            "object_fit": null,
            "object_position": null,
            "order": null,
            "overflow": null,
            "padding": null,
            "right": null,
            "top": null,
            "visibility": null,
            "width": null
          }
        },
        "d8ec7a903148469c80f6bf5cb8aee562": {
          "model_module": "@jupyter-widgets/base",
          "model_name": "LayoutModel",
          "model_module_version": "2.0.0",
          "state": {
            "_model_module": "@jupyter-widgets/base",
            "_model_module_version": "2.0.0",
            "_model_name": "LayoutModel",
            "_view_count": null,
            "_view_module": "@jupyter-widgets/base",
            "_view_module_version": "2.0.0",
            "_view_name": "LayoutView",
            "align_content": null,
            "align_items": null,
            "align_self": null,
            "border_bottom": null,
            "border_left": null,
            "border_right": null,
            "border_top": null,
            "bottom": null,
            "display": null,
            "flex": null,
            "flex_flow": null,
            "grid_area": null,
            "grid_auto_columns": null,
            "grid_auto_flow": null,
            "grid_auto_rows": null,
            "grid_column": null,
            "grid_gap": null,
            "grid_row": null,
            "grid_template_areas": null,
            "grid_template_columns": null,
            "grid_template_rows": null,
            "height": null,
            "justify_content": null,
            "justify_items": null,
            "left": null,
            "margin": null,
            "max_height": null,
            "max_width": null,
            "min_height": null,
            "min_width": null,
            "object_fit": null,
            "object_position": null,
            "order": null,
            "overflow": null,
            "padding": null,
            "right": null,
            "top": null,
            "visibility": null,
            "width": null
          }
        },
        "b4aad4eb4b4d4e3c94b42e6d090cb7b3": {
          "model_module": "@jupyter-widgets/controls",
          "model_name": "HTMLStyleModel",
          "model_module_version": "2.0.0",
          "state": {
            "_model_module": "@jupyter-widgets/controls",
            "_model_module_version": "2.0.0",
            "_model_name": "HTMLStyleModel",
            "_view_count": null,
            "_view_module": "@jupyter-widgets/base",
            "_view_module_version": "2.0.0",
            "_view_name": "StyleView",
            "background": null,
            "description_width": "",
            "font_size": null,
            "text_color": null
          }
        },
        "d663c2a6d9fd45c2acd499f325971673": {
          "model_module": "@jupyter-widgets/base",
          "model_name": "LayoutModel",
          "model_module_version": "2.0.0",
          "state": {
            "_model_module": "@jupyter-widgets/base",
            "_model_module_version": "2.0.0",
            "_model_name": "LayoutModel",
            "_view_count": null,
            "_view_module": "@jupyter-widgets/base",
            "_view_module_version": "2.0.0",
            "_view_name": "LayoutView",
            "align_content": null,
            "align_items": null,
            "align_self": null,
            "border_bottom": null,
            "border_left": null,
            "border_right": null,
            "border_top": null,
            "bottom": null,
            "display": null,
            "flex": null,
            "flex_flow": null,
            "grid_area": null,
            "grid_auto_columns": null,
            "grid_auto_flow": null,
            "grid_auto_rows": null,
            "grid_column": null,
            "grid_gap": null,
            "grid_row": null,
            "grid_template_areas": null,
            "grid_template_columns": null,
            "grid_template_rows": null,
            "height": null,
            "justify_content": null,
            "justify_items": null,
            "left": null,
            "margin": null,
            "max_height": null,
            "max_width": null,
            "min_height": null,
            "min_width": null,
            "object_fit": null,
            "object_position": null,
            "order": null,
            "overflow": null,
            "padding": null,
            "right": null,
            "top": null,
            "visibility": null,
            "width": null
          }
        },
        "a6d6ebd07dd74ff0a94a144f08111f06": {
          "model_module": "@jupyter-widgets/controls",
          "model_name": "ProgressStyleModel",
          "model_module_version": "2.0.0",
          "state": {
            "_model_module": "@jupyter-widgets/controls",
            "_model_module_version": "2.0.0",
            "_model_name": "ProgressStyleModel",
            "_view_count": null,
            "_view_module": "@jupyter-widgets/base",
            "_view_module_version": "2.0.0",
            "_view_name": "StyleView",
            "bar_color": null,
            "description_width": ""
          }
        },
        "6e856e09d4bf441ab716fea440ee9712": {
          "model_module": "@jupyter-widgets/base",
          "model_name": "LayoutModel",
          "model_module_version": "2.0.0",
          "state": {
            "_model_module": "@jupyter-widgets/base",
            "_model_module_version": "2.0.0",
            "_model_name": "LayoutModel",
            "_view_count": null,
            "_view_module": "@jupyter-widgets/base",
            "_view_module_version": "2.0.0",
            "_view_name": "LayoutView",
            "align_content": null,
            "align_items": null,
            "align_self": null,
            "border_bottom": null,
            "border_left": null,
            "border_right": null,
            "border_top": null,
            "bottom": null,
            "display": null,
            "flex": null,
            "flex_flow": null,
            "grid_area": null,
            "grid_auto_columns": null,
            "grid_auto_flow": null,
            "grid_auto_rows": null,
            "grid_column": null,
            "grid_gap": null,
            "grid_row": null,
            "grid_template_areas": null,
            "grid_template_columns": null,
            "grid_template_rows": null,
            "height": null,
            "justify_content": null,
            "justify_items": null,
            "left": null,
            "margin": null,
            "max_height": null,
            "max_width": null,
            "min_height": null,
            "min_width": null,
            "object_fit": null,
            "object_position": null,
            "order": null,
            "overflow": null,
            "padding": null,
            "right": null,
            "top": null,
            "visibility": null,
            "width": null
          }
        },
        "2b0047e01eb74a08858d9b826665736d": {
          "model_module": "@jupyter-widgets/controls",
          "model_name": "HTMLStyleModel",
          "model_module_version": "2.0.0",
          "state": {
            "_model_module": "@jupyter-widgets/controls",
            "_model_module_version": "2.0.0",
            "_model_name": "HTMLStyleModel",
            "_view_count": null,
            "_view_module": "@jupyter-widgets/base",
            "_view_module_version": "2.0.0",
            "_view_name": "StyleView",
            "background": null,
            "description_width": "",
            "font_size": null,
            "text_color": null
          }
        }
      }
    }
  },
  "nbformat": 4,
  "nbformat_minor": 0
}