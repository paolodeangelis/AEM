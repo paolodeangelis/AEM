{
 "cells": [
  {
   "cell_type": "markdown",
   "metadata": {
    "slideshow": {
     "slide_type": "slide"
    }
   },
   "source": [
    "<!-- First Slide -->\n",
    "\n",
    "<center>\n",
    "    <h1 style=\"font-size: 2.5em; color: #ef5636; font-weight: 800; margin-bottom: 0.2em;\"> Intro on Machine Learning in Materials Science </h1>\n",
    "    <h2 style=\"font-size: 1.8em; font-weight: 300; color: #5D6D7E;\">A \"Gentle\" Introduction to Material Featuriziation & Machine Learning</h2>\n",
    "    <p style=\"font-size: 1.em; color: #34495E;text-align: center;\"> Paolo De Angelis &mdash; Politecnico di Torino </p>\n",
    "    <br>\n",
    "</center>\n",
    "\n",
    "<br>\n",
    "<br>\n",
    "\n",
    "<center>\n",
    "    <p style=\"font-size: 1.em; color: #34495E;\">\n",
    "        <strong>Course:</strong> 02QZSND - Applicazioni energetiche dei materiali \n",
    "        <br>\n",
    "        <strong>Date:</strong> 11 April 2025\n",
    "    </p>\n",
    "</center>\n",
    "<br>\n",
    "\n",
    "---\n",
    "\n",
    "<!-- Optional footer -->\n",
    "<p style=\"font-size: 0.7em; color: #BDC3C7; text-align: center;\">\n",
    "    A.A. 2025/2026\n",
    "</p>\n"
   ]
  },
  {
   "cell_type": "markdown",
   "metadata": {
    "slideshow": {
     "slide_type": "slide"
    }
   },
   "source": [
    "# What we will see today:\n",
    "\n",
    "\n",
    "<ul style=\"font-size: 1.5em;\">\n",
    "  <li><strong>Why Machine Learning?</strong></li>\n",
    "  <li><strong>Can computers digest materials?</strong></li>\n",
    "  <li><strong>What Machine Learning can do?</strong></li>\n",
    "  <li><strong>Where we are going?</strong></li>\n",
    "</ul>\n"
   ]
  },
  {
   "cell_type": "markdown",
   "metadata": {
    "slideshow": {
     "slide_type": "slide"
    }
   },
   "source": [
    "# Evolution of science & toolkits\n",
    "\n",
    "![img1-1](img/1-1.png)"
   ]
  },
  {
   "cell_type": "markdown",
   "metadata": {
    "slideshow": {
     "slide_type": "subslide"
    }
   },
   "source": [
    "# Evolution of science & toolkits\n",
    "\n",
    "![img1-1](img/1-2.png)"
   ]
  },
  {
   "cell_type": "markdown",
   "metadata": {
    "slideshow": {
     "slide_type": "subslide"
    }
   },
   "source": [
    "# Evolution of science & toolkits\n",
    "\n",
    "![img1-1](img/1-3.png)"
   ]
  },
  {
   "cell_type": "markdown",
   "metadata": {
    "slideshow": {
     "slide_type": "subslide"
    }
   },
   "source": [
    "# Evolution of science & toolkits\n",
    "\n",
    "![img1-1](img/1-4.png)"
   ]
  },
  {
   "cell_type": "markdown",
   "metadata": {
    "slideshow": {
     "slide_type": "slide"
    }
   },
   "source": [
    "# Oveview\n",
    "\n",
    "![Eulero-Ven](img/2.png)"
   ]
  },
  {
   "cell_type": "markdown",
   "metadata": {
    "slideshow": {
     "slide_type": "slide"
    }
   },
   "source": [
    "# ML in Materials Science\n",
    "\n",
    "Materials science is undergoing a revolution through machine learning applications. \n",
    "At the core of this transformation lies a some mathematical foundation and \"empirical\" evidance.\n",
    "\n",
    "## Universal Function Approximation Theorem\n",
    "\n",
    "The Universal Function Approximation Theorem states that a feed-forward neural network with:\n",
    "- A single hidden layer (but also proved for deeper models)\n",
    "- Sufficient number of neurons\n",
    "- Appropriate activation functions\n",
    "\n",
    "Can approximate **any** continuous function on compact subsets of $\\mathbb{R}^n$ to arbitrary precision.\n",
    "\n",
    "Formally:\n",
    "\n",
    "For any continuous function $f: \\mathbb{R}^n \\rightarrow \\mathbb{R}^m$ and error $\\epsilon > 0$, there exists a neural network $g$ with one hidden layer such that:\n",
    "\n",
    "$$\\sup_{x \\in K} \\|f(x) - g(x)\\| < \\epsilon$$\n",
    "\n",
    "Where $K$ is a compact subset of $\\mathbb{R}^n$.\n",
    "\n",
    "> In other words, neural networks can learn the function we don’t know, given enough data and the right architecture."
   ]
  },
  {
   "cell_type": "markdown",
   "metadata": {
    "slideshow": {
     "slide_type": "subslide"
    }
   },
   "source": [
    "# The \"Hypermaterial Space\" Ansatz\n",
    "\n",
    "## Bridging the Discrete Nature of Materials\n",
    "\n",
    "Traditional materials science faces a fundamental challenge: materials exist as discrete entities. Each chemical compound or element has distinct properties, making it difficult to find continuous functions that map across them.\n",
    "\n",
    "How can we apply ML techniques to this inherently discrete domain?\n",
    "\n",
    "\n"
   ]
  },
  {
   "cell_type": "markdown",
   "metadata": {
    "slideshow": {
     "slide_type": "subslide"
    }
   },
   "source": [
    "# The \"Hypermaterial Space\" Ansatz\n",
    "\n",
    "## The Hypermaterial Space Concept\n",
    "\n",
    "The key insight is to map materials into a high-dimensional continuous space where:\n",
    "\n",
    "$$\\Phi: \\text{Materials} \\rightarrow \\mathbb{R}^N$$\n",
    "\n",
    "Where $\\Phi$ is our mapping function betwenn the material $M$ and $N$-dimensional \"hypermaterial space\".\n",
    "\n",
    "In this space, previously discrete materials become points in a continuum, where:\n",
    "\n",
    "$$\\text{Property}(M) \\approx f(\\Phi(;))$$\n",
    "\n",
    "Where $f$ is a continuous function that ML methods can effectively learn.\n"
   ]
  },
  {
   "cell_type": "markdown",
   "metadata": {
    "slideshow": {
     "slide_type": "subslide"
    }
   },
   "source": [
    "# What *may* this unlock?\n",
    "\n",
    "- Enables prediction of complex material properties without requiring explicit physical models\n",
    "- Allows discovery of structure-property relationships that may be too complex for traditional methods\n",
    "- Facilitates inverse design: identifying materials with desired properties\n",
    "- Provides a framework for interpolating across known materials to discover new ones"
   ]
  },
  {
   "cell_type": "markdown",
   "metadata": {
    "slideshow": {
     "slide_type": "slide"
    }
   },
   "source": [
    "# Representing Materials: Featuring a material\n",
    "\n",
    "To use machine learning on materials, we first need to represent material structures in a numerical form (features/descriptors). Good features capture the relevant chemistry/structure and are amenable to ML models​\n",
    "chemintelligence.com\n",
    "\n",
    "![features](img/3.png)"
   ]
  },
  {
   "cell_type": "markdown",
   "metadata": {
    "slideshow": {
     "slide_type": "subslide"
    }
   },
   "source": [
    "# Representing Materials: Featuring a material\n",
    "\n",
    "Two common approaches are:\n",
    "\n",
    "### chemical formula or SMILES descriptors (Fingerprint): \n",
    "- we use the chemical formula or SMILES strings, e.g. representing a polymer or molecule by a text string. The SMILES notation is a compact text representation of a molecule’s structure​\n",
    "mdpi.com\n",
    "- We can convert SMILES into numerical fingerprints (vectors) using cheminformatics tools. \n",
    "\n",
    "###  Structure-based descriptors: \n",
    "- If 3D structure or crystal geometry is known, we can compute physics-inspired descriptors (features).\n",
    "- For example, the Coulomb Matrix encodes inter-atomic Coulombic interactions in a symmetric matrix form\n",
    "- These descriptors are designed to be invariant to rotations, translations, and atom index permutations "
   ]
  },
  {
   "cell_type": "markdown",
   "metadata": {
    "slideshow": {
     "slide_type": "subslide"
    }
   },
   "source": [
    "# Fingerprint\n",
    "\n",
    "## SMILES — Simplified Molecular Input Line Entry System\n",
    "\n",
    "- A text-based representation of molecular structures.\n",
    "\n",
    "- Encodes atoms and bonds in a compact 1D string format.\n",
    "\n",
    "- Example:\n",
    "<div style=\"text-align: center;font-size: 1.5em;\">\n",
    "  <code>CCO</code><br>\n",
    "  <span>(ethanol)</span>\n",
    "</div>\n",
    "- Easy to store, parse, and convert to graph structures."
   ]
  },
  {
   "cell_type": "markdown",
   "metadata": {
    "slideshow": {
     "slide_type": "subslide"
    }
   },
   "source": [
    "# Morgan Fingerprints — Circular Substructure Encoding\n",
    "\n",
    "Morgan fingerprints (aka Extended Connectivity Fingerprints, ECFP) are a way to convert molecular graphs into **fixed-length binary vectors**.\n",
    "\n",
    "- Each bit in the fingerprint represents a **specific substructure** (e.g., rings, chains, functional groups).\n",
    "- Computed by iteratively hashing atom neighborhoods up to a defined **radius**.\n",
    "\n",
    "#### Example:\n",
    "\n",
    "- For ethanol (`CCO`), the 1024-bit Morgan fingerprint might look like:\n",
    "\n",
    "$$\n",
    "[0, 0, 1, 0, 1, \\dots, 0]\n",
    "$$\n",
    "\n",
    "Each \"1\" indicates presence of a certain chemical pattern.\n"
   ]
  },
  {
   "cell_type": "markdown",
   "metadata": {
    "slideshow": {
     "slide_type": "subslide"
    }
   },
   "source": [
    "# Morgan Fingerprints — Circular Substructure Encoding\n"
   ]
  },
  {
   "cell_type": "code",
   "execution_count": 1,
   "metadata": {
    "hideCode": true,
    "slideshow": {
     "slide_type": "fragment"
    }
   },
   "outputs": [
    {
     "data": {
      "application/vnd.jupyter.widget-view+json": {
       "model_id": "6d3ce9ed6f704993ad93a7a251c73ede",
       "version_major": 2,
       "version_minor": 0
      },
      "text/plain": [
       "VBox(children=(Dropdown(description='Select Molecule:', options=('Ethanol', 'Acetic Acid', 'Benzene', 'Aspirin…"
      ]
     },
     "metadata": {},
     "output_type": "display_data"
    }
   ],
   "source": [
    "# --- Imports ---\n",
    "import base64\n",
    "from io import BytesIO\n",
    "\n",
    "import numpy as np\n",
    "import plotly.graph_objects as go\n",
    "from ipywidgets import HTML, Dropdown, HBox, Layout, VBox, interactive_output\n",
    "from rdkit import Chem\n",
    "from rdkit.Chem import DataStructs, Draw, rdFingerprintGenerator\n",
    "\n",
    "# from PIL import Image # Not directly needed\n",
    "\n",
    "# --- Configuration ---\n",
    "# Define the molecules to choose from\n",
    "molecules_dict = {\n",
    "    \"Ethanol\": \"CCO\",\n",
    "    \"Acetic Acid\": \"CC(=O)O\",\n",
    "    \"Benzene\": \"c1ccccc1\",\n",
    "    \"Aspirin\": \"CC(=O)Oc1ccccc1C(=O)O\",\n",
    "    \"Caffeine\": \"Cn1cnc2c1c(=O)n(C)c(=O)n2C\",\n",
    "}\n",
    "default_name = \"Ethanol\"\n",
    "\n",
    "# Fingerprint parameters\n",
    "fp_radius = 2\n",
    "fp_size = 1024\n",
    "matrix_dim = 32  # For reshaping 1024 bits into 32x32\n",
    "\n",
    "# --- Fingerprint Generator (create once) ---\n",
    "morgan_gen = rdFingerprintGenerator.GetMorganGenerator(radius=fp_radius, fpSize=fp_size)\n",
    "\n",
    "# --- Create Widgets (Initialize empty or with default) ---\n",
    "\n",
    "# Dropdown for selection\n",
    "molecule_dropdown = Dropdown(\n",
    "    options=list(molecules_dict.keys()),\n",
    "    value=default_name,\n",
    "    description=\"Select Molecule:\",\n",
    "    style={\"description_width\": \"initial\"},\n",
    ")\n",
    "\n",
    "# Left Panel Widgets\n",
    "chem_name_widget = HTML()  # Will be populated by update function\n",
    "image_widget = HTML()  # Will be populated by update function\n",
    "left_panel = VBox(\n",
    "    [chem_name_widget, image_widget],\n",
    "    layout=Layout(width=\"40%\", align_items=\"center\", margin=\"10px\"),\n",
    ")\n",
    "\n",
    "# Right Panel Widget (Plotly Heatmap)\n",
    "fig_widget = go.FigureWidget()\n",
    "# Add initial empty heatmap trace (will be populated)\n",
    "heatmap_trace = fig_widget.add_heatmap(\n",
    "    z=np.zeros((matrix_dim, matrix_dim)),  # Initial empty data\n",
    "    colorscale=\"Blues\",\n",
    "    colorbar=dict(title=\"Bit Value\", tickvals=[0, 1], ticktext=[\"0 (Off)\", \"1 (On)\"]),\n",
    "    showscale=True,\n",
    ").data[0]\n",
    "# Initial layout for the heatmap\n",
    "fig_widget.update_layout(\n",
    "    title=\"Morgan Fingerprint\",\n",
    "    xaxis_title=f\"Feature Index Block (0-{matrix_dim-1})\",\n",
    "    yaxis_title=f\"Feature Index Block (0-{matrix_dim-1})\",\n",
    "    height=500,\n",
    "    width=600,\n",
    "    margin=dict(l=50, r=50, t=50, b=50),\n",
    ")\n",
    "# fig_widget.layout.width = '95%'\n",
    "right_panel = fig_widget\n",
    "\n",
    "# --- Main Layout Structure ---\n",
    "main_layout = HBox(\n",
    "    [left_panel, right_panel],\n",
    "    layout=Layout(\n",
    "        width=\"100%\", justify_content=\"space-around\", align_items=\"flex-start\"\n",
    "    ),\n",
    ")\n",
    "\n",
    "# --- Update Function ---\n",
    "\n",
    "\n",
    "def update_display(selected_name):\n",
    "    \"\"\"Updates molecule info, sketch, and fingerprint heatmap based on selection.\"\"\"\n",
    "    global mol  # Make mol accessible if needed elsewhere, or pass if preferred\n",
    "\n",
    "    smiles = molecules_dict.get(selected_name, None)\n",
    "    if smiles is None:\n",
    "        chem_name_widget.value = f\"<h2>Error</h2><p>Invalid selection.</p>\"\n",
    "        image_widget.value = \"\"\n",
    "        with fig_widget.batch_update():\n",
    "            heatmap_trace.z = np.zeros((matrix_dim, matrix_dim))\n",
    "            fig_widget.layout.title = \"Error\"\n",
    "        return\n",
    "\n",
    "    # --- Process Molecule ---\n",
    "    mol = Chem.MolFromSmiles(smiles)\n",
    "    if mol is None:\n",
    "        chem_name_widget.value = f\"<h2>{selected_name}</h2><p>SMILES: {smiles}</p><b>Error parsing SMILES!</b>\"\n",
    "        image_widget.value = \"\"\n",
    "        with fig_widget.batch_update():\n",
    "            heatmap_trace.z = np.zeros((matrix_dim, matrix_dim))\n",
    "            fig_widget.layout.title = f\"Error parsing SMILES for {selected_name}\"\n",
    "        return\n",
    "\n",
    "    # --- Update Left Panel ---\n",
    "    chem_name_widget.value = f\"<h2>{selected_name}</h2><p>SMILES: {smiles}</p>\"\n",
    "    try:\n",
    "        img = Draw.MolToImage(mol, size=(300, 300))\n",
    "        buffer = BytesIO()\n",
    "        img.save(buffer, \"png\")\n",
    "        buffer.seek(0)\n",
    "        b64_str = base64.b64encode(buffer.read()).decode(\"utf-8\")\n",
    "        image_widget.value = f'<img src=\"data:image/png;base64,{b64_str}\" alt=\"{selected_name} structure\">'\n",
    "    except Exception as e:\n",
    "        image_widget.value = f\"<i>Error generating image: {e}</i>\"\n",
    "\n",
    "    # --- Update Right Panel (Fingerprint & Heatmap) ---\n",
    "    try:\n",
    "        fp = morgan_gen.GetFingerprint(mol)\n",
    "        fp_array = np.zeros((fp_size,), dtype=int)\n",
    "        DataStructs.ConvertToNumpyArray(fp, fp_array)\n",
    "        fp_matrix = fp_array.reshape(matrix_dim, matrix_dim)\n",
    "\n",
    "        # Update Plotly FigureWidget data and layout\n",
    "        with fig_widget.batch_update():\n",
    "            heatmap_trace.z = fp_matrix\n",
    "            fig_widget.layout.title = f\"Morgan FP ({selected_name})\"\n",
    "            # Optional: update print statements if they were part of the display\n",
    "            # print(f\"Fingerprint length: {fp.GetNumBits()}\")\n",
    "            # print(f\"Number of bits set: {fp.GetNumOnBits()}\")\n",
    "\n",
    "    except Exception as e:\n",
    "        with fig_widget.batch_update():\n",
    "            heatmap_trace.z = np.zeros((matrix_dim, matrix_dim))  # Clear on error\n",
    "            fig_widget.layout.title = f\"Error generating FP for {selected_name}: {e}\"\n",
    "\n",
    "\n",
    "# --- Linking Dropdown to Update Function ---\n",
    "# Use interactive_output to connect the dropdown value to the function's argument\n",
    "out = interactive_output(update_display, {\"selected_name\": molecule_dropdown})\n",
    "\n",
    "# --- Initial Display ---\n",
    "# Call the update function once with the default value to populate widgets initially\n",
    "update_display(molecule_dropdown.value)\n",
    "\n",
    "# --- Final Layout ---\n",
    "# Combine dropdown and main layout vertically\n",
    "final_layout = VBox([molecule_dropdown, main_layout])\n",
    "\n",
    "# --- Display Everything ---\n",
    "display(final_layout)"
   ]
  },
  {
   "cell_type": "markdown",
   "metadata": {
    "slideshow": {
     "slide_type": "slide"
    }
   },
   "source": [
    "# Structural-based Features\n",
    "\n",
    "#### Structural Features = Encoded Geometry + Chemistry\n",
    "\n",
    "Structural features capture information about:\n",
    "- **Atomic types** (e.g., H, C, Si)\n",
    "- **Atomic positions** (e.g., 3D coordinates, distances)\n",
    "- **Local environments** (e.g., coordination, angles, symmetry)\n",
    "- **Global structure** (e.g., lattice, bonding network)\n",
    "\n",
    "These features are essential for predicting:\n",
    "- Energy, forces (ML force fields)\n",
    "- Elasticity, conductivity, stability\n",
    "- Surface reactivity, band gap, diffusion"
   ]
  },
  {
   "cell_type": "code",
   "execution_count": 104,
   "metadata": {
    "slideshow": {
     "slide_type": "skip"
    }
   },
   "outputs": [],
   "source": [
    "%matplotlib widget"
   ]
  },
  {
   "cell_type": "markdown",
   "metadata": {
    "slideshow": {
     "slide_type": "slide"
    }
   },
   "source": [
    "# (Dummy example) Coordinates\n",
    "\n",
    "A basic molecular structure (e.g., water) with its atomic coordinates in 3D space. Thus, the dummy example of descriptor uses the 3D coordinates of the atoms in the system\n",
    "\n",
    "$$\n",
    "    M_{ij} = r_{ij}\n",
    "$$\n",
    "\n",
    "where:\n",
    "- $i$ is the atom index\n",
    "- $j=x,y,z$ is the vector component"
   ]
  },
  {
   "cell_type": "markdown",
   "metadata": {
    "slideshow": {
     "slide_type": "subslide"
    }
   },
   "source": [
    "# (Dummy example) Coordinates"
   ]
  },
  {
   "cell_type": "code",
   "execution_count": 3,
   "metadata": {
    "hideCode": true,
    "hidePrompt": false,
    "slideshow": {
     "slide_type": "fragment"
    }
   },
   "outputs": [
    {
     "data": {
      "application/vnd.jupyter.widget-view+json": {
       "model_id": "1b6e4b0dc8cf4f5387137400e7bf74be",
       "version_major": 2,
       "version_minor": 0
      },
      "text/plain": [
       "HBox(children=(NGLWidget(layout=Layout(width='60%')), VBox(children=(FigureWidget({\n",
       "    'data': [{'colorscale'…"
      ]
     },
     "metadata": {},
     "output_type": "display_data"
    }
   ],
   "source": [
    "import itertools  # For generating permutations\n",
    "\n",
    "import ase\n",
    "import ase.build\n",
    "import nglview as nv\n",
    "\n",
    "# --- Imports ---\n",
    "import numpy as np\n",
    "import plotly.graph_objects as go  # Import Plotly\n",
    "from ipywidgets import (\n",
    "    HTML,\n",
    "    Dropdown,\n",
    "    FloatSlider,\n",
    "    HBox,\n",
    "    Label,\n",
    "    Layout,\n",
    "    VBox,\n",
    "    interactive_output,\n",
    ")\n",
    "from scipy.spatial.transform import Rotation as R\n",
    "\n",
    "# --- Initial Molecule Setup ---\n",
    "atoms = ase.build.molecule(\"H2O\")\n",
    "original_positions = atoms.get_positions().copy()\n",
    "center = atoms.get_center_of_mass()\n",
    "n_atoms = len(atoms)\n",
    "atom_symbols = [a.symbol for a in atoms]\n",
    "base_atom_labels = [f\"{s}{i}\" for i, s in enumerate(atom_symbols)]  # ['O0', 'H1', 'H2']\n",
    "\n",
    "# --- Generate Permutations ---\n",
    "original_indices = list(range(n_atoms))\n",
    "permutations_indices = list(itertools.permutations(original_indices))\n",
    "permutation_map = {}\n",
    "for p_indices in permutations_indices:\n",
    "    permuted_labels = [base_atom_labels[i] for i in p_indices]\n",
    "    label_str = \"-\".join(permuted_labels)\n",
    "    permutation_map[label_str] = list(p_indices)\n",
    "permutation_labels = list(permutation_map.keys())\n",
    "\n",
    "# --- Visualization and Plotting Widgets ---\n",
    "# NGLView for 3D structure (Left Panel)\n",
    "view = nv.show_ase(atoms)\n",
    "view.add_ball_and_stick()\n",
    "view.center()\n",
    "view.control.zoom(0.1)\n",
    "# Set a fixed width for the NGLView widget if needed for layout\n",
    "view.layout.width = \"60%\"\n",
    "\n",
    "# Plotly FigureWidget for Coordinates (Right Panel - Top)\n",
    "# Create a FigureWidget instance - this allows efficient updates\n",
    "fig_widget = go.FigureWidget()\n",
    "\n",
    "# Add an initial heatmap trace. We will update its 'z' data and 'y' labels.\n",
    "# Store a reference to the trace object using .data[0]\n",
    "heatmap_trace = fig_widget.add_heatmap(\n",
    "    z=np.zeros((n_atoms, 3)),  # Initial dummy data (n_atoms x 3 coordinates)\n",
    "    x=[\"x\", \"y\", \"z\"],  # Column labels\n",
    "    y=base_atom_labels,  # Initial row labels (will be updated)\n",
    "    colorscale=\"Viridis\",  # Choose a colorscale\n",
    "    #     colorbar={'title': 'Coordinate Value'},\n",
    "    hoverongaps=False,\n",
    ").data[0]\n",
    "# Update layout\n",
    "fig_widget.update_layout(\n",
    "    title=\"Atomic Coordinates\",\n",
    "    #     yaxis={'title': 'j', 'tickvals': list(range(3)), 'ticktext': reshaped_y_labels, 'showticklabels': False, 'automargin': True},\n",
    "    #     xaxis={'title': 'i', 'tickvals': list(range(3)), 'ticktext': reshaped_x_labels, 'showticklabels': False, 'automargin': True}\n",
    ")\n",
    "\n",
    "\n",
    "# --- Control Widgets (Right Panel - Bottom) ---\n",
    "# Rotation Sliders\n",
    "slider_rot_x = FloatSlider(\n",
    "    min=-180,\n",
    "    max=180,\n",
    "    step=5,\n",
    "    value=0,\n",
    "    description=\"Rotate X (°)\",\n",
    "    continuous_update=False,\n",
    ")\n",
    "slider_rot_y = FloatSlider(\n",
    "    min=-180,\n",
    "    max=180,\n",
    "    step=5,\n",
    "    value=0,\n",
    "    description=\"Rotate Y (°)\",\n",
    "    continuous_update=False,\n",
    ")\n",
    "slider_rot_z = FloatSlider(\n",
    "    min=-180,\n",
    "    max=180,\n",
    "    step=5,\n",
    "    value=0,\n",
    "    description=\"Rotate Z (°)\",\n",
    "    continuous_update=False,\n",
    ")\n",
    "# Permutation Dropdown\n",
    "permutation_dropdown = Dropdown(\n",
    "    options=permutation_labels,\n",
    "    value=permutation_labels[0],\n",
    "    description=\"Atom Order:\",\n",
    "    style={\"description_width\": \"initial\"},\n",
    ")\n",
    "\n",
    "# --- Update Function ---\n",
    "\n",
    "\n",
    "def update_molecule_and_plot(rot_x, rot_y, rot_z, permutation_label):\n",
    "    # 1. Calculate Rotated Positions\n",
    "    rot_mat = R.from_euler(\"xyz\", [rot_x, rot_y, rot_z], degrees=True).as_matrix()\n",
    "    rotated_positions = (\n",
    "        original_positions - center + np.array([1, 0.5, 0.5])\n",
    "    ) @ rot_mat.T + center\n",
    "\n",
    "    # 2. Update the physical ASE Atoms object's positions\n",
    "    atoms.set_positions(rotated_positions)\n",
    "\n",
    "    # 3. Update NGLView display\n",
    "    if hasattr(view, \"_ngl_component_ids\") and view._ngl_component_ids:\n",
    "        view.set_coordinates({0: atoms.positions})\n",
    "    else:\n",
    "        print(\"Warning: NGLView component not found.\")\n",
    "\n",
    "    # 4. Get current positions and apply permutation for plot display\n",
    "    try:\n",
    "        current_positions = atoms.get_positions()\n",
    "        p_indices = permutation_map[permutation_label]\n",
    "        # Reorder the coordinates and labels according to the permutation\n",
    "        displayed_positions = current_positions[p_indices]\n",
    "        displayed_labels = [base_atom_labels[i] for i in p_indices]\n",
    "\n",
    "        # --- Update Plotly Plot ---\n",
    "        # Use batch_update for smoother rendering of multiple changes\n",
    "        with fig_widget.batch_update():\n",
    "            # Update the heatmap's z data (the coordinate values)\n",
    "            heatmap_trace.z = displayed_positions\n",
    "            # Update the heatmap's y labels (the permuted atom labels)\n",
    "            heatmap_trace.y = displayed_labels\n",
    "            # Update the layout's y-axis tick text to match the new labels\n",
    "            # This ensures the axis labels correspond to the heatmap rows\n",
    "            #             fig_widget.layout.yaxis.ticktext = displayed_labels\n",
    "            #             fig_widget.layout.yaxis.tickvals = list(range(len(displayed_labels))) # Ensure tick values match indices\n",
    "\n",
    "            # Update title\n",
    "            fig_widget.layout.title = f\"Descriptor\"\n",
    "            # Optional: Auto-adjust color axis range dynamically\n",
    "            # min_val, max_val = np.min(displayed_positions), np.max(displayed_positions)\n",
    "            # fig_widget.layout.coloraxis.cmin = min_val\n",
    "            # fig_widget.layout.coloraxis.cmax = max_val\n",
    "\n",
    "    except Exception as e:\n",
    "        print(f\"Error during update: {e}\")\n",
    "        # Optionally clear plot or show error in title\n",
    "        with fig_widget.batch_update():\n",
    "            heatmap_trace.z = np.zeros((n_atoms, 3))\n",
    "            heatmap_trace.y = base_atom_labels\n",
    "            fig_widget.layout.yaxis.ticktext = base_atom_labels\n",
    "            fig_widget.layout.yaxis.tickvals = list(range(n_atoms))\n",
    "            fig_widget.layout.title = f\"Error during update: {e}\"\n",
    "\n",
    "\n",
    "# --- Linking Widgets to Update Function ---\n",
    "out = interactive_output(\n",
    "    update_molecule_and_plot,\n",
    "    {\n",
    "        \"rot_x\": slider_rot_x,\n",
    "        \"rot_y\": slider_rot_y,\n",
    "        \"rot_z\": slider_rot_z,\n",
    "        \"permutation_label\": permutation_dropdown,\n",
    "    },\n",
    ")\n",
    "\n",
    "# --- Initial Calculation & Display ---\n",
    "update_molecule_and_plot(\n",
    "    slider_rot_x.value,\n",
    "    slider_rot_y.value,\n",
    "    slider_rot_z.value,\n",
    "    permutation_dropdown.value,\n",
    ")\n",
    "\n",
    "# --- Display Layout (Side-by-Side) ---\n",
    "controls = VBox([permutation_dropdown, slider_rot_x, slider_rot_y, slider_rot_z])\n",
    "\n",
    "# Right panel contains the Plotly FigureWidget and the controls below it\n",
    "right_panel = VBox([fig_widget, controls])\n",
    "right_panel.layout.width = \"50%\"\n",
    "\n",
    "# Main layout: NGLView on left, Plot+Controls on right\n",
    "layout = HBox([view, right_panel])\n",
    "\n",
    "display(layout)"
   ]
  },
  {
   "cell_type": "markdown",
   "metadata": {
    "slideshow": {
     "slide_type": "slide"
    }
   },
   "source": [
    "# Coulomb Matrix (CM)\n",
    "\n",
    "The **Coulomb Matrix** is a straightforward global descriptor designed to capture the electrostatic interactions between atomic nuclei in a molecule.\n",
    "\n",
    "Its elements are defined by the following formula:\n",
    "\n",
    "$$\n",
    "M_{ij}^{\\text{Coulomb}} = \\begin{cases}\n",
    "0.5 Z_i^{2.4} & \\text{if } i = j \\\\\n",
    "\\frac{Z_i Z_j}{R_{ij}} & \\text{if } i \\ne j\n",
    "\\end{cases}\n",
    "$$\n",
    "\n",
    "Here:\n",
    "- $ Z_i $ and $ Z_j $ are the atomic numbers of atoms $ i $ and $ j $,\n",
    "- $ R_{ij} $ is the distance between the two nuclei.\n",
    "\n",
    "The **diagonal entries** represent a fitted approximation of atomic energy as a function of nuclear charge — effectively modeling an atom’s interaction with itself.  \n",
    "In contrast, the **off-diagonal entries** reflect the classical Coulombic repulsion between distinct atomic pairs."
   ]
  },
  {
   "cell_type": "markdown",
   "metadata": {
    "slideshow": {
     "slide_type": "subslide"
    }
   },
   "source": [
    "# Coulomb Matrix (CM)"
   ]
  },
  {
   "cell_type": "code",
   "execution_count": 4,
   "metadata": {
    "hideCode": true,
    "slideshow": {
     "slide_type": "fragment"
    }
   },
   "outputs": [
    {
     "data": {
      "application/vnd.jupyter.widget-view+json": {
       "model_id": "6d6cf777fdfa4263926d0661cc61d901",
       "version_major": 2,
       "version_minor": 0
      },
      "text/plain": [
       "HBox(children=(NGLWidget(layout=Layout(width='60%')), VBox(children=(FigureWidget({\n",
       "    'data': [{'colorscale'…"
      ]
     },
     "metadata": {},
     "output_type": "display_data"
    }
   ],
   "source": [
    "import itertools\n",
    "\n",
    "import ase\n",
    "import ase.build\n",
    "import nglview as nv\n",
    "\n",
    "# --- Imports ---\n",
    "import numpy as np\n",
    "import plotly.graph_objects as go\n",
    "from dscribe.descriptors import CoulombMatrix  # <--- Import CoulombMatrix\n",
    "from ipywidgets import (\n",
    "    HTML,\n",
    "    Dropdown,\n",
    "    FloatSlider,\n",
    "    HBox,\n",
    "    Label,\n",
    "    Layout,\n",
    "    VBox,\n",
    "    interactive_output,\n",
    ")\n",
    "from scipy.spatial.transform import Rotation as R\n",
    "\n",
    "# Removed SOAP and math imports\n",
    "\n",
    "# --- Initial Molecule Setup ---\n",
    "atoms = ase.build.molecule(\"H2O\")\n",
    "# You had atoms.cell = [4,4,4] - this is unusual for an isolated molecule\n",
    "# unless you intend periodic calculations. For CoulombMatrix on H2O,\n",
    "# periodicity is typically False, and cell isn't strictly needed unless\n",
    "# dscribe specifically requires it for certain modes. Let's assume non-periodic.\n",
    "# If periodicity IS needed, ensure the descriptor is set accordingly.\n",
    "# atoms.pbc = True # If periodic calculation is intended\n",
    "original_positions = atoms.get_positions().copy()\n",
    "center = atoms.get_center_of_mass()\n",
    "n_atoms = len(atoms)\n",
    "atom_symbols = [a.symbol for a in atoms]\n",
    "base_atom_labels = [f\"{s}{i}\" for i, s in enumerate(atom_symbols)]  # ['O0', 'H1', 'H2']\n",
    "\n",
    "# --- Generate Permutations (Used for dropdown AND for CM calculation order) ---\n",
    "original_indices = list(range(n_atoms))\n",
    "permutations_indices = list(itertools.permutations(original_indices))\n",
    "permutation_map = {}\n",
    "for p_indices in permutations_indices:\n",
    "    permuted_labels = [base_atom_labels[i] for i in p_indices]\n",
    "    label_str = \"-\".join(permuted_labels)\n",
    "    permutation_map[label_str] = list(p_indices)\n",
    "permutation_labels = list(permutation_map.keys())\n",
    "\n",
    "# --- Setup Coulomb Matrix Descriptor ---\n",
    "# Ensure n_atoms_max is sufficient (at least n_atoms)\n",
    "n_atoms_max = n_atoms\n",
    "cm_desc = CoulombMatrix(\n",
    "    n_atoms_max=n_atoms_max,\n",
    "    permutation=\"none\",  # <--- Use 'none' to respect input order\n",
    ")\n",
    "# print(f\"Using CoulombMatrix with permutation='none', size=({n_atoms_max}x{n_atoms_max})\")\n",
    "\n",
    "# --- Visualization and Plotting Widgets ---\n",
    "# NGLView (Left Panel)\n",
    "view = nv.show_ase(atoms, camera=\"orthographic\")  # Adjust camera as preferred\n",
    "view.add_ball_and_stick()\n",
    "view.center()\n",
    "# view.control.zoom(0.1) # Adjust zoom if needed, this method might not exist, use camera params\n",
    "view.layout.width = \"60%\"\n",
    "\n",
    "# Plotly FigureWidget for Coulomb Matrix (Right Panel - Top)\n",
    "fig_widget = go.FigureWidget()\n",
    "# Initial heatmap trace with correct square dimensions (n_atoms x n_atoms)\n",
    "heatmap_trace = fig_widget.add_heatmap(\n",
    "    z=np.zeros((n_atoms, n_atoms)),  # Square matrix based on n_atoms\n",
    "    x=base_atom_labels,  # Initial x-axis atom labels\n",
    "    y=base_atom_labels,  # Initial y-axis atom labels\n",
    "    colorscale=\"Viridis\",  # Or another scale like 'RdBu'\n",
    "    hoverongaps=False,\n",
    ").data[0]\n",
    "# Update layout\n",
    "fig_widget.update_layout(\n",
    "    yaxis={\n",
    "        \"title\": \"j\",\n",
    "        \"tickvals\": list(range(n_atoms)),\n",
    "        \"ticktext\": base_atom_labels,\n",
    "        \"automargin\": True,\n",
    "    },\n",
    "    xaxis={\n",
    "        \"title\": \"i\",\n",
    "        \"tickvals\": list(range(n_atoms)),\n",
    "        \"ticktext\": base_atom_labels,\n",
    "        \"automargin\": True,\n",
    "    },  # , 'side': 'top'} # Optionally move x-axis ticks to top\n",
    ")\n",
    "fig_widget.layout.height = 350  # Adjust height\n",
    "\n",
    "# --- Control Widgets (Right Panel - Bottom) ---\n",
    "slider_rot_x = FloatSlider(\n",
    "    min=-180,\n",
    "    max=180,\n",
    "    step=5,\n",
    "    value=0,\n",
    "    description=\"Rotate X (°)\",\n",
    "    continuous_update=False,\n",
    ")\n",
    "slider_rot_y = FloatSlider(\n",
    "    min=-180,\n",
    "    max=180,\n",
    "    step=5,\n",
    "    value=0,\n",
    "    description=\"Rotate Y (°)\",\n",
    "    continuous_update=False,\n",
    ")\n",
    "slider_rot_z = FloatSlider(\n",
    "    min=-180,\n",
    "    max=180,\n",
    "    step=5,\n",
    "    value=0,\n",
    "    description=\"Rotate Z (°)\",\n",
    "    continuous_update=False,\n",
    ")\n",
    "# Permutation Dropdown\n",
    "permutation_dropdown = Dropdown(\n",
    "    options=permutation_labels,\n",
    "    value=permutation_labels[0],\n",
    "    description=\"Atom Order:\",\n",
    "    style={\"description_width\": \"initial\"},\n",
    ")\n",
    "controls = VBox([permutation_dropdown, slider_rot_x, slider_rot_y, slider_rot_z])\n",
    "controls.layout = Layout(margin=\"10px 0 0 0\")\n",
    "\n",
    "# --- Create the Right Panel VBox (Plot + Controls) ---\n",
    "right_panel = VBox([fig_widget, controls])\n",
    "right_panel.layout.width = \"50%\"\n",
    "\n",
    "# --- Update Function ---\n",
    "# Argument 'permutation_label' IS used now for plot data ordering\n",
    "\n",
    "\n",
    "def update_molecule_and_cm_plot(rot_x, rot_y, rot_z, permutation_label):\n",
    "    # 1. Calculate Rotated Positions & Update MAIN Atoms Object (for NGLView)\n",
    "    rot_mat = R.from_euler(\"xyz\", [rot_x, rot_y, rot_z], degrees=True).as_matrix()\n",
    "    rotated_positions = (original_positions - center) @ rot_mat.T + center\n",
    "    atoms.set_positions(rotated_positions)\n",
    "\n",
    "    # 2. Update NGLView display\n",
    "    if hasattr(view, \"_ngl_component_ids\") and view._ngl_component_ids:\n",
    "        view.set_coordinates({0: atoms.positions})\n",
    "    else:\n",
    "        print(\"Warning: NGLView component not found.\")\n",
    "\n",
    "    # 3. Create Permuted Atoms, Calculate Coulomb Matrix, Update Plot\n",
    "    try:\n",
    "        # Get permutation indices and labels\n",
    "        p_indices = permutation_map[permutation_label]\n",
    "        displayed_labels = [base_atom_labels[i] for i in p_indices]\n",
    "\n",
    "        # Create a temporary ASE Atoms object with the permuted order AND current positions\n",
    "        # This is the object we feed to CoulombMatrix(permutation='none').create()\n",
    "        permuted_atoms_for_cm = atoms[p_indices]\n",
    "        # If using periodic=True, ensure cell is copied:\n",
    "        # permuted_atoms_for_cm.set_cell(atoms.get_cell())\n",
    "        # permuted_atoms_for_cm.set_pbc(atoms.get_pbc())\n",
    "\n",
    "        # Calculate Coulomb Matrix for the permuted atoms object\n",
    "        # Result shape: (1, n_atoms_max, n_atoms_max)\n",
    "        cm_batch = cm_desc.create(permuted_atoms_for_cm)\n",
    "        cm_matrix = cm_batch.reshape(\n",
    "            len(atoms), len(atoms)\n",
    "        )  # Extract the actual matrix (n_atoms x n_atoms)\n",
    "\n",
    "        # --- Update Plotly Plot ---\n",
    "        with fig_widget.batch_update():\n",
    "            # Update heatmap data with the Coulomb Matrix\n",
    "            heatmap_trace.z = cm_matrix\n",
    "            # Update x and y axis labels to reflect the current permutation\n",
    "            heatmap_trace.x = displayed_labels\n",
    "            heatmap_trace.y = displayed_labels\n",
    "\n",
    "            # Update layout axes ticks and labels\n",
    "            fig_widget.layout.yaxis.ticktext = displayed_labels\n",
    "            fig_widget.layout.yaxis.tickvals = list(range(len(displayed_labels)))\n",
    "            fig_widget.layout.xaxis.ticktext = displayed_labels\n",
    "            fig_widget.layout.xaxis.tickvals = list(range(len(displayed_labels)))\n",
    "\n",
    "            fig_widget.layout.title = f\"Coulomb Matrix (Order: {permutation_label})\"\n",
    "            fig_widget.layout.coloraxis.colorbar.title = \"CM Value\"\n",
    "\n",
    "    except Exception as e:\n",
    "        print(f\"Error during CM calculation or plot update: {e}\")\n",
    "        with fig_widget.batch_update():\n",
    "            heatmap_trace.z = np.zeros((n_atoms, n_atoms))  # Reset with correct shape\n",
    "            heatmap_trace.x = base_atom_labels\n",
    "            heatmap_trace.y = base_atom_labels\n",
    "            fig_widget.layout.yaxis.ticktext = base_atom_labels\n",
    "            fig_widget.layout.yaxis.tickvals = list(range(n_atoms))\n",
    "            fig_widget.layout.xaxis.ticktext = base_atom_labels\n",
    "            fig_widget.layout.xaxis.tickvals = list(range(n_atoms))\n",
    "            fig_widget.layout.title = f\"Error during update: {e}\"\n",
    "\n",
    "\n",
    "# --- Linking Widgets to Update Function ---\n",
    "out = interactive_output(\n",
    "    update_molecule_and_cm_plot,\n",
    "    {  # Renamed function\n",
    "        \"rot_x\": slider_rot_x,\n",
    "        \"rot_y\": slider_rot_y,\n",
    "        \"rot_z\": slider_rot_z,\n",
    "        \"permutation_label\": permutation_dropdown,\n",
    "    },\n",
    ")\n",
    "\n",
    "# --- Initial Calculation & Display ---\n",
    "update_molecule_and_cm_plot(  # Renamed function\n",
    "    slider_rot_x.value,\n",
    "    slider_rot_y.value,\n",
    "    slider_rot_z.value,\n",
    "    permutation_dropdown.value,\n",
    ")\n",
    "\n",
    "# --- Display Layout (Using HBox or GridspecLayout) ---\n",
    "layout = HBox([view, right_panel])\n",
    "# grid = GridspecLayout(n_rows=1, n_columns=2, width='100%')\n",
    "# grid[0, 0] = view\n",
    "# grid[0, 1] = right_panel\n",
    "# layout = grid # Use if HBox failed previously\n",
    "\n",
    "\n",
    "display(layout)"
   ]
  },
  {
   "cell_type": "markdown",
   "metadata": {
    "slideshow": {
     "slide_type": "slide"
    }
   },
   "source": [
    "# Smooth Overlap of Atomic Positions (SOAP)\n",
    "\n",
    "SOAP creates a smooth 3D density around each atom by placing Gaussian blobs on nearby atoms.\n",
    "\n",
    "Then it compares this density using:\n",
    "\n",
    "- Spherical harmonics → captures angular information\n",
    "\n",
    "- Radial basis functions → captures distance-based info"
   ]
  },
  {
   "cell_type": "markdown",
   "metadata": {
    "slideshow": {
     "slide_type": "subslide"
    }
   },
   "source": [
    "# Smooth Overlap of Atomic Positions (SOAP)\n",
    "\n",
    "1. Build a **smooth density** around each atom by placing Gaussian blobs at neighboring atoms:\n",
    "   $$\n",
    "   \\rho^Z(\\mathbf{r}) = \\sum_i e^{-\\frac{1}{2\\sigma^2} \\lvert \\mathbf{r} - \\mathbf{R}_i \\rvert^2}\n",
    "   $$\n",
    "   This gives a smooth \"cloud\" of nearby atoms (species $ Z $).\n",
    "\n",
    "2. Decompose this atomic density using **radial basis functions** and **spherical harmonics**:\n",
    "   $\n",
    "   c^Z_{nlm} = \\iiint g_n(r) Y_{lm}(\\theta, \\phi)\\, \\rho^Z(\\mathbf{r}) \\, dV\n",
    "   $\n",
    "\n",
    "    where\n",
    "    - $g_n(r)$ is the radial basis functions\n",
    "    - $Y_{lm}(\\theta, \\phi)$ is the spherical harmonics\n",
    "\n"
   ]
  },
  {
   "cell_type": "markdown",
   "metadata": {
    "slideshow": {
     "slide_type": "subslide"
    }
   },
   "source": [
    "# Smooth Overlap of Atomic Positions (SOAP)\n",
    "\n",
    "To make the descriptors usable in ML, we build a **power spectrum vector**:\n",
    "\n",
    "$$\n",
    "p^{Z_1 Z_2}_{n n' l} = \\pi \\sqrt{\\frac{8}{2l+1}} \\sum_m {c^{Z_1}_{n l m}}^* c^{Z_2}_{n' l m}\n",
    "$$\n",
    "\n",
    "- Combines info about atom types $Z_1, Z_2 $\n",
    "- Aggregates over angular components $ m $\n",
    "- Output: A **fixed-length vector** (invariant, informative)"
   ]
  },
  {
   "cell_type": "markdown",
   "metadata": {
    "slideshow": {
     "slide_type": "subslide"
    }
   },
   "source": [
    "# Smooth Overlap of Atomic Positions (SOAP)\n"
   ]
  },
  {
   "cell_type": "code",
   "execution_count": 5,
   "metadata": {
    "hideCode": true,
    "slideshow": {
     "slide_type": "fragment"
    }
   },
   "outputs": [
    {
     "name": "stdout",
     "output_type": "stream",
     "text": [
      "Using SOAP with average='outer'. Number of features: 220\n",
      "Reshaping average vector (220,) to (15, 15) with padding to 225.\n"
     ]
    },
    {
     "data": {
      "application/vnd.jupyter.widget-view+json": {
       "model_id": "6b59c320f2654c02b70c8dc6b1b3c436",
       "version_major": 2,
       "version_minor": 0
      },
      "text/plain": [
       "HBox(children=(NGLWidget(layout=Layout(width='60%')), VBox(children=(FigureWidget({\n",
       "    'data': [{'colorscale'…"
      ]
     },
     "metadata": {},
     "output_type": "display_data"
    }
   ],
   "source": [
    "import itertools\n",
    "import math  # For ceiling function\n",
    "\n",
    "import ase\n",
    "import ase.build\n",
    "import nglview as nv\n",
    "\n",
    "# --- Imports ---\n",
    "import numpy as np\n",
    "import plotly.graph_objects as go\n",
    "from dscribe.descriptors import SOAP\n",
    "from ipywidgets import (\n",
    "    HTML,\n",
    "    Dropdown,\n",
    "    FloatSlider,\n",
    "    HBox,\n",
    "    Label,\n",
    "    Layout,\n",
    "    VBox,\n",
    "    interactive_output,\n",
    ")\n",
    "from scipy.spatial.transform import Rotation as R\n",
    "\n",
    "# --- Initial Molecule Setup ---\n",
    "atoms = ase.build.molecule(\"H2O\")\n",
    "atoms.cell = [4, 4, 4]\n",
    "original_positions = atoms.get_positions().copy()\n",
    "center = atoms.get_center_of_mass()\n",
    "n_atoms = len(atoms)\n",
    "atom_symbols = [a.symbol for a in atoms]\n",
    "base_atom_labels = [\n",
    "    f\"{s}{i}\" for i, s in enumerate(atom_symbols)\n",
    "]  # Still needed for NGLView/logic consistency\n",
    "\n",
    "# --- Generate Permutations (Keep for dropdown, though plot won't use it directly) ---\n",
    "original_indices = list(range(n_atoms))\n",
    "permutations_indices = list(itertools.permutations(original_indices))\n",
    "permutation_map = {}\n",
    "for p_indices in permutations_indices:\n",
    "    permuted_labels = [base_atom_labels[i] for i in p_indices]\n",
    "    label_str = \"-\".join(permuted_labels)\n",
    "    permutation_map[label_str] = list(p_indices)\n",
    "permutation_labels = list(permutation_map.keys())\n",
    "\n",
    "# --- Setup SOAP Descriptor ---\n",
    "species = [\"H\", \"O\"]\n",
    "r_cut = 6.0\n",
    "n_max = 5\n",
    "l_max = 3\n",
    "# --- Modify SOAP Setup: Use average='outer' ---\n",
    "soap_desc = SOAP(\n",
    "    species=species,\n",
    "    periodic=True,\n",
    "    r_cut=r_cut,\n",
    "    n_max=n_max,\n",
    "    l_max=l_max,\n",
    "    average=\"outer\",  # <--- USE STRUCTURE-WIDE AVERAGE\n",
    "    sparse=False,\n",
    ")\n",
    "n_features = soap_desc.get_number_of_features()\n",
    "print(f\"Using SOAP with average='outer'. Number of features: {n_features}\")\n",
    "\n",
    "# --- Calculate Reshaped Dimensions ---\n",
    "d1 = int(math.ceil(math.sqrt(n_features)))\n",
    "d2 = int(math.ceil(n_features / d1))\n",
    "padded_size = d1 * d2\n",
    "reshaped_x_labels = [f\"idx_{i}\" for i in range(d2)]\n",
    "reshaped_y_labels = [f\"idx_{i}\" for i in range(d1)]\n",
    "print(\n",
    "    f\"Reshaping average vector ({n_features},) to ({d1}, {d2}) with padding to {padded_size}.\"\n",
    ")\n",
    "\n",
    "# --- Visualization and Plotting Widgets ---\n",
    "# NGLView (Left Panel)\n",
    "view = nv.show_ase(atoms)\n",
    "view.add_ball_and_stick()\n",
    "view.center()\n",
    "view.control.zoom(0.1)\n",
    "# Set a fixed width for the NGLView widget if needed for layout\n",
    "view.layout.width = \"60%\"\n",
    "\n",
    "\n",
    "# Plotly FigureWidget for Reshaped Average SOAP (Right Panel - Top)\n",
    "fig_widget = go.FigureWidget()\n",
    "# Initial heatmap trace with reshaped dimensions (d1 x d2)\n",
    "heatmap_trace = fig_widget.add_heatmap(\n",
    "    z=np.zeros((d1, d2)),\n",
    "    x=reshaped_x_labels,\n",
    "    y=reshaped_y_labels,\n",
    "    colorscale=\"Viridis\",\n",
    "    #     colorbar={'title': 'Avg SOAP Val'},\n",
    "    hoverongaps=False,\n",
    ").data[0]\n",
    "# Update layout\n",
    "fig_widget.update_layout(\n",
    "    #     title=\"Reshaped Structure-Average SOAP\", # Updated title\n",
    "    yaxis={\n",
    "        \"title\": \"j\",\n",
    "        \"tickvals\": list(range(d1)),\n",
    "        \"ticktext\": reshaped_y_labels,\n",
    "        \"showticklabels\": False,\n",
    "        \"automargin\": True,\n",
    "    },\n",
    "    xaxis={\n",
    "        \"title\": \"i\",\n",
    "        \"tickvals\": list(range(d2)),\n",
    "        \"ticktext\": reshaped_x_labels,\n",
    "        \"showticklabels\": False,\n",
    "        \"automargin\": True,\n",
    "    },\n",
    ")\n",
    "fig_widget.layout.height = 300  # Adjust height\n",
    "\n",
    "# --- Control Widgets (Right Panel - Bottom) ---\n",
    "slider_rot_x = FloatSlider(\n",
    "    min=-180,\n",
    "    max=180,\n",
    "    step=5,\n",
    "    value=0,\n",
    "    description=\"Rotate X (°)\",\n",
    "    continuous_update=False,\n",
    ")\n",
    "slider_rot_y = FloatSlider(\n",
    "    min=-180,\n",
    "    max=180,\n",
    "    step=5,\n",
    "    value=0,\n",
    "    description=\"Rotate Y (°)\",\n",
    "    continuous_update=False,\n",
    ")\n",
    "slider_rot_z = FloatSlider(\n",
    "    min=-180,\n",
    "    max=180,\n",
    "    step=5,\n",
    "    value=0,\n",
    "    description=\"Rotate Z (°)\",\n",
    "    continuous_update=False,\n",
    ")\n",
    "# --- Keep Permutation Dropdown (even if it doesn't affect this plot) ---\n",
    "permutation_dropdown = Dropdown(\n",
    "    options=permutation_labels,\n",
    "    value=permutation_labels[0],\n",
    "    description=\"Atom Order:\",\n",
    "    style={\"description_width\": \"initial\"},\n",
    ")\n",
    "controls = VBox(\n",
    "    [permutation_dropdown, slider_rot_x, slider_rot_y, slider_rot_z]\n",
    ")  # Keep permutation dropdown\n",
    "controls.layout = Layout(margin=\"10px 0 0 0\")\n",
    "\n",
    "# --- Create the Right Panel VBox (Plot + Controls) ---\n",
    "right_panel = VBox([fig_widget, controls])\n",
    "right_panel.layout.width = \"50%\"\n",
    "\n",
    "# --- Update Function ---\n",
    "# Argument 'permutation_label' is kept for linkage but not used for plot data\n",
    "\n",
    "\n",
    "def update_molecule_and_reshaped_avg_plot(rot_x, rot_y, rot_z, permutation_label):\n",
    "    # 1. Calculate Rotated Positions & Update Atoms Object\n",
    "    rot_mat = R.from_euler(\"xyz\", [rot_x, rot_y, rot_z], degrees=True).as_matrix()\n",
    "    rotated_positions = (original_positions - center) @ rot_mat.T + center\n",
    "    atoms.set_positions(rotated_positions)\n",
    "\n",
    "    # 2. Update NGLView display\n",
    "    if hasattr(view, \"_ngl_component_ids\") and view._ngl_component_ids:\n",
    "        view.set_coordinates({0: atoms.positions})\n",
    "    else:\n",
    "        print(\"Warning: NGLView component not found.\")\n",
    "\n",
    "    # 3. Calculate Structure-Average SOAP, Pad, Reshape, Update Plot\n",
    "    try:\n",
    "        # Calculate structure-wide average SOAP features\n",
    "        # Result shape: (n_features,) OR (1, n_features) depending on dscribe version\n",
    "        # Ensure it's 1D for padding/reshaping\n",
    "        avg_soap_vector = soap_desc.create(atoms).flatten()  # Use flatten() to be safe\n",
    "\n",
    "        # --- Permutation Dropdown has NO effect on avg_soap_vector ---\n",
    "\n",
    "        # Pad the vector with zeros\n",
    "        padded_vector = np.pad(\n",
    "            avg_soap_vector,\n",
    "            (0, padded_size - n_features),\n",
    "            mode=\"constant\",\n",
    "            constant_values=0,\n",
    "        )\n",
    "\n",
    "        # Reshape the padded vector into a 2D matrix\n",
    "        reshaped_avg_soap = padded_vector.reshape((d1, d2))\n",
    "\n",
    "        # --- Update Plotly Plot ---\n",
    "        with fig_widget.batch_update():\n",
    "            # Update heatmap data with the reshaped 2D matrix\n",
    "            heatmap_trace.z = reshaped_avg_soap\n",
    "            # X and Y axes represent indices within the reshaped matrix\n",
    "            heatmap_trace.x = reshaped_x_labels\n",
    "            heatmap_trace.y = reshaped_y_labels\n",
    "\n",
    "            # Update layout axes and title\n",
    "            fig_widget.layout.yaxis.ticktext = reshaped_y_labels\n",
    "            fig_widget.layout.yaxis.tickvals = list(range(d1))\n",
    "            fig_widget.layout.xaxis.ticktext = reshaped_x_labels\n",
    "            fig_widget.layout.xaxis.tickvals = list(range(d2))\n",
    "    #             fig_widget.layout.title = \"Reshaped Structure-Average SOAP\" # Updated title\n",
    "    #             fig_widget.layout.coloraxis.colorbar.title = 'Avg SOAP Val'\n",
    "\n",
    "    except Exception as e:\n",
    "        print(f\"Error during SOAP calculation or plot update: {e}\")\n",
    "        with fig_widget.batch_update():\n",
    "            heatmap_trace.z = np.zeros((d1, d2))  # Reset with correct shape\n",
    "            heatmap_trace.x = reshaped_x_labels\n",
    "            heatmap_trace.y = reshaped_y_labels\n",
    "            fig_widget.layout.yaxis.ticktext = reshaped_y_labels\n",
    "            fig_widget.layout.yaxis.tickvals = list(range(d1))\n",
    "            fig_widget.layout.xaxis.ticktext = reshaped_x_labels\n",
    "            fig_widget.layout.xaxis.tickvals = list(range(d2))\n",
    "            fig_widget.layout.title = f\"Error during update: {e}\"\n",
    "\n",
    "\n",
    "# --- Linking Widgets to Update Function ---\n",
    "# Keep link to permutation_dropdown, even though function doesn't use its value for plot\n",
    "out = interactive_output(\n",
    "    update_molecule_and_reshaped_avg_plot,\n",
    "    {\n",
    "        \"rot_x\": slider_rot_x,\n",
    "        \"rot_y\": slider_rot_y,\n",
    "        \"rot_z\": slider_rot_z,\n",
    "        \"permutation_label\": permutation_dropdown,\n",
    "    },\n",
    ")\n",
    "\n",
    "# --- Initial Calculation & Display ---\n",
    "update_molecule_and_reshaped_avg_plot(\n",
    "    slider_rot_x.value,\n",
    "    slider_rot_y.value,\n",
    "    slider_rot_z.value,\n",
    "    permutation_dropdown.value,\n",
    ")\n",
    "\n",
    "# --- Display Layout (Using HBox or GridspecLayout) ---\n",
    "layout = HBox([view, right_panel])\n",
    "\n",
    "display(layout)"
   ]
  },
  {
   "cell_type": "code",
   "execution_count": null,
   "metadata": {},
   "outputs": [],
   "source": []
  },
  {
   "cell_type": "markdown",
   "metadata": {
    "slideshow": {
     "slide_type": "slide"
    }
   },
   "source": [
    "# Machine Learning tools\n",
    "\n",
    "<figure style=\"text-align: center;\">\n",
    "  <img src=\"img/4.jpg\"\n",
    "       style=\"height: 600px;\">\n",
    "  <figcaption style=\"font-size: 0.85em; color: grey; margin-top: 0.5em;\">Source: https://vas3k.com/blog/machine_learning/</figcaption>\n",
    "</figure>"
   ]
  },
  {
   "cell_type": "markdown",
   "metadata": {
    "slideshow": {
     "slide_type": "subslide"
    }
   },
   "source": [
    "# What Is Machine Learning?\n",
    "\n",
    "**Machine Learning (ML)** is a way to make a computer learn patterns from data without being explicitly programmed.\n",
    "\n",
    "- Instead of writing rules, we **train models on examples**.\n",
    "- The goal: learn a function that maps **inputs (features)** to **outputs (labels)**.\n",
    "\n",
    "$$\n",
    "\\text{Model:} \\quad f(\\mathbf{x}) \\rightarrow y\n",
    "$$\n",
    "\n",
    "Where:\n",
    "- $ \\mathbf{x} $: features (input data)\n",
    "- $ y $: target (label/output)\n",
    "- $ f $: the model (e.g., a linear function, a neural network, etc.)\n"
   ]
  },
  {
   "cell_type": "markdown",
   "metadata": {
    "slideshow": {
     "slide_type": "subslide"
    }
   },
   "source": [
    "# Supervised vs Unsupervised Learning\n",
    "\n",
    "### **Supervised Learning**  \n",
    "We have **input-output pairs** and the model learns to predict the output:\n",
    "- 📈 Regression (predict numbers): e.g. Young’s modulus, melting point\n",
    "- 🧪 Classification (predict categories): e.g. solid/liquid/gas, metal/insulator\n",
    "\n",
    "$$\n",
    "f(\\mathbf{x}) \\approx y\n",
    "$$\n",
    "\n",
    "### **Unsupervised Learning**  \n",
    "We only have **inputs**, and the model finds structure or groups:\n",
    "- 🔍 Clustering (group similar materials)\n",
    "- 📉 Dimensionality reduction (simplify the data space)\n",
    "\n",
    "$$\n",
    "\\text{No labels! Just } \\mathbf{x}_1, \\mathbf{x}_2, \\dots\n",
    "$$"
   ]
  },
  {
   "cell_type": "markdown",
   "metadata": {
    "slideshow": {
     "slide_type": "subslide"
    }
   },
   "source": [
    "# Model Types\n",
    "\n",
    "- **Features (\\( \\mathbf{x} \\))**: what we know (e.g., atomic number, density, structure)\n",
    "- **Labels (\\( y \\))**: what we want to predict (e.g., band gap, failure strength)\n",
    "\n",
    "## 🧠 Model (Main) Types:\n",
    "| Type        | Task Example             | Output       |\n",
    "|-------------|--------------------------|--------------|\n",
    "| Regressor   | Predict melting point    | Real value   |\n",
    "| Classifier  | Classify crystal system  | Category     |\n",
    "| Clustering  | Group similar alloys     | Cluster ID   |\n"
   ]
  },
  {
   "cell_type": "markdown",
   "metadata": {
    "slideshow": {
     "slide_type": "subslide"
    }
   },
   "source": [
    "# Model Types\n",
    "\n",
    "<figure style=\"text-align: center;\">\n",
    "  <img src=\"img/5.jpg\"\n",
    "       style=\"height: 600px;\">\n",
    "  <figcaption style=\"font-size: 0.85em; color: grey; margin-top: 0.5em;\">Source: https://vas3k.com/blog/machine_learning/</figcaption>\n",
    "</figure>"
   ]
  },
  {
   "cell_type": "markdown",
   "metadata": {
    "slideshow": {
     "slide_type": "subslide"
    }
   },
   "source": [
    "# Overfitting vs Underfitting\n",
    "\n",
    "### 📉 Underfitting\n",
    "- Model is too simple → **misses patterns**\n",
    "- High error on training and test data\n",
    "\n",
    "\n",
    "### 📈 Overfitting\n",
    "- Model is too complex → **memorizes training data**\n",
    "- Low training error, but poor on new data\n",
    "\n"
   ]
  },
  {
   "cell_type": "markdown",
   "metadata": {
    "slideshow": {
     "slide_type": "subslide"
    }
   },
   "source": [
    "# Overfitting vs Underfitting\n",
    "\n",
    "<figure style=\"text-align: center;\">\n",
    "  <img src=\"img/6.png\"\n",
    "       style=\"width: 100%;\">\n",
    "  <figcaption style=\"font-size: 0.85em; color: grey; margin-top: 0.5em;\">Source: https://github.com/jermwatt/machine_learning_refined/</figcaption>\n",
    "</figure>"
   ]
  },
  {
   "cell_type": "markdown",
   "metadata": {
    "slideshow": {
     "slide_type": "subslide"
    }
   },
   "source": [
    "# Tipical Workflow\n",
    "\n",
    "<figure style=\"text-align: center;\">\n",
    "  <img src=\"img/7.png\"\n",
    "       style=\"height: 500px;\">\n",
    "  <figcaption style=\"font-size: 0.85em; color: grey; margin-top: 0.5em;\">Source: https://aronwalsh.github.io/MLforMaterials</figcaption>\n",
    "</figure>"
   ]
  },
  {
   "cell_type": "markdown",
   "metadata": {
    "slideshow": {
     "slide_type": "slide"
    }
   },
   "source": [
    "# Clustering\n",
    "\n",
    "Clustering is an **unsupervised learning** technique that groups similar data points **without labels**.\n",
    "\n",
    "### Common Clustering Models:\n",
    "\n",
    "| Algorithm         | Idea                                  |\n",
    "|-------------------|----------------------------------------|\n",
    "| **K-Means**        | Assign points to \\( k \\) nearest centroids |\n",
    "| **DBSCAN**         | Groups based on density (no need to set \\( k \\)) |\n",
    "| **Hierarchical**   | Builds a tree of nested clusters      |\n",
    "| **Gaussian Mixture** | Probabilistic soft clustering         |\n",
    "\n"
   ]
  },
  {
   "cell_type": "markdown",
   "metadata": {
    "slideshow": {
     "slide_type": "subslide"
    }
   },
   "source": [
    "# Gausian Mixture\n",
    "\n",
    "<figure style=\"text-align: center;\">\n",
    "  <img src=\"img/8.gif\"\n",
    "       style=\"height: 300px;\">\n",
    "  <figcaption style=\"font-size: 0.85em; color: grey; margin-top: 0.5em;\">Source: Wikipedia</figcaption>\n",
    "</figure>"
   ]
  },
  {
   "cell_type": "markdown",
   "metadata": {
    "slideshow": {
     "slide_type": "subslide"
    }
   },
   "source": [
    "# Gausian Mixture"
   ]
  },
  {
   "cell_type": "code",
   "execution_count": 6,
   "metadata": {
    "hideCode": true,
    "slideshow": {
     "slide_type": "fragment"
    }
   },
   "outputs": [
    {
     "data": {
      "application/vnd.jupyter.widget-view+json": {
       "model_id": "2593200329854c6e9e5fe85899ae43b5",
       "version_major": 2,
       "version_minor": 0
      },
      "text/plain": [
       "HTMLMath(value='$$\\\\mathcal{L}(\\\\mu, \\\\sigma | \\\\mathbf{x}) = \\\\sum_{i=1}^{N} \\\\log P(x_i | \\\\mu, \\\\sigma^2) =…"
      ]
     },
     "metadata": {},
     "output_type": "display_data"
    },
    {
     "data": {
      "application/vnd.jupyter.widget-view+json": {
       "model_id": "184a00a7fba54484ae61cbf2b48e90e3",
       "version_major": 2,
       "version_minor": 0
      },
      "text/plain": [
       "HBox(children=(VBox(children=(FigureWidget({\n",
       "    'data': [{'type': 'bar',\n",
       "              'uid': 'd212a7b0-b464-…"
      ]
     },
     "metadata": {},
     "output_type": "display_data"
    }
   ],
   "source": [
    "# --- Imports ---\n",
    "import numpy as np\n",
    "import plotly.graph_objects as go\n",
    "import scipy.stats\n",
    "from ipywidgets import FloatSlider, HBox, HTMLMath, Layout, VBox, interactive_output\n",
    "\n",
    "# --- Generate Sample Data (1D Cluster) ---\n",
    "np.random.seed(42)  # for reproducibility\n",
    "true_mean = 5.0\n",
    "true_std = 1.2\n",
    "n_samples = 30\n",
    "sample_data = np.random.normal(loc=true_mean, scale=true_std, size=n_samples)\n",
    "# Calculate data range for plotting\n",
    "data_min, data_max = np.min(sample_data), np.max(sample_data)\n",
    "plot_margin = 2.0 * true_std\n",
    "plot_min = data_min - plot_margin\n",
    "plot_max = data_max + plot_margin\n",
    "\n",
    "# --- Widgets ---\n",
    "\n",
    "# Sliders for model parameters\n",
    "mu_slider = FloatSlider(\n",
    "    min=plot_min,\n",
    "    max=plot_max,\n",
    "    step=0.1,\n",
    "    value=1.0,\n",
    "    description=\"Model μ (Mean)\",\n",
    "    continuous_update=False,\n",
    "    readout_format=\".1f\",\n",
    ")\n",
    "sigma_slider = FloatSlider(\n",
    "    min=0.1,\n",
    "    max=5.0,\n",
    "    step=0.1,\n",
    "    value=3.0,\n",
    "    description=\"Model σ (Std Dev)\",\n",
    "    continuous_update=False,\n",
    "    readout_format=\".1f\",\n",
    ")\n",
    "controls_box = VBox([mu_slider, sigma_slider])  # Place sliders side-by-side\n",
    "\n",
    "# == Left Panel Widgets ==\n",
    "# Equation Display (Log-Likelihood for N points from Gaussian N(μ, σ^2))\n",
    "# Using HTMLMath for LaTeX rendering\n",
    "logL_equation = HTMLMath(\n",
    "    value=r\"$$\\mathcal{L}(\\mu, \\sigma | \\mathbf{x}) = \\sum_{i=1}^{N} \\log P(x_i | \\mu, \\sigma^2) = \\sum_{i=1}^{N} \\left( -\\log(\\sigma) - \\frac{1}{2}\\log(2\\pi) - \\frac{(x_i - \\mu)^2}{2\\sigma^2} \\right)$$\"\n",
    ")\n",
    "\n",
    "# Plotly Bar chart for Log-Likelihood value\n",
    "likelihood_fig = go.FigureWidget()\n",
    "# Initialize with a single bar, value will be updated\n",
    "likelihood_bar_trace = likelihood_fig.add_bar(x=[\"Log-Likelihood\"], y=[0]).data[0]\n",
    "likelihood_fig.update_layout(\n",
    "    title=\"Model Log-Likelihood\",\n",
    "    yaxis_title=\"Log L\",\n",
    "    height=300,\n",
    "    width=350,\n",
    "    margin=dict(t=50, b=30, l=50, r=30),\n",
    "    yaxis_range=[\n",
    "        -200,\n",
    "        0,\n",
    "    ],  # Adjust range based on expected values, logL is often negative\n",
    ")\n",
    "\n",
    "left_panel = VBox([likelihood_fig, controls_box])  # Add right margin\n",
    "left_panel.layout.width = \"50%\"\n",
    "\n",
    "# == Right Panel Widgets ==\n",
    "# Plotly plot for PDF and data points\n",
    "pdf_fig = go.FigureWidget()\n",
    "# Trace for the model Gaussian PDF curve (initially empty)\n",
    "pdf_curve_trace = pdf_fig.add_scatter(x=[], y=[], mode=\"lines\", name=\"Model PDF\").data[\n",
    "    0\n",
    "]\n",
    "# Trace for the sample data points (plotted along y=0)\n",
    "pdf_data_trace = pdf_fig.add_scatter(\n",
    "    x=sample_data,\n",
    "    y=np.zeros_like(sample_data),  # Place markers on x-axis\n",
    "    mode=\"markers\",\n",
    "    name=\"Data Points\",\n",
    "    marker=dict(\n",
    "        symbol=\"line-ns-open\", size=10, color=\"red\", line=dict(width=2)\n",
    "    ),  # Use vertical lines as markers\n",
    ").data[0]\n",
    "# Layout for the PDF plot\n",
    "pdf_fig.update_layout(\n",
    "    title=\"1D Gaussian Mixture\",\n",
    "    xaxis_title=\"Data Value\",\n",
    "    yaxis_title=\"Probability Density\",\n",
    "    xaxis_range=[plot_min, plot_max],\n",
    "    height=400,\n",
    "    width=550,\n",
    "    margin=dict(t=50, b=40, l=50, r=30),\n",
    "    legend=dict(yanchor=\"top\", y=0.99, xanchor=\"left\", x=0.01),\n",
    ")\n",
    "\n",
    "right_panel = pdf_fig\n",
    "\n",
    "# --- Update Function ---\n",
    "\n",
    "\n",
    "def update_plots(mu, sigma):\n",
    "    \"\"\"Calculates log-likelihood and updates plots based on slider values.\"\"\"\n",
    "    if sigma <= 0:  # Should not happen with slider min=0.1, but good practice\n",
    "        return\n",
    "\n",
    "    # Calculate Log-Likelihood\n",
    "    # Use scipy.stats.norm.logpdf for numerical stability\n",
    "    log_likelihoods = scipy.stats.norm.logpdf(sample_data, loc=mu, scale=sigma)\n",
    "    current_log_likelihood = np.sum(log_likelihoods)\n",
    "\n",
    "    # Update Likelihood Bar Plot\n",
    "    with likelihood_fig.batch_update():\n",
    "        likelihood_bar_trace.y = [current_log_likelihood]\n",
    "        # Optional: adjust y-axis dynamically, but fixed can be better for comparison\n",
    "        # current_range = likelihood_fig.layout.yaxis.range\n",
    "        # likelihood_fig.layout.yaxis.range = [min(current_range[0], current_log_likelihood - 10), max(current_range[1], 0)]\n",
    "\n",
    "    # Update PDF Plot\n",
    "    # Generate x values for the PDF curve\n",
    "    pdf_x = np.linspace(plot_min, plot_max, 300)\n",
    "    # Calculate PDF y values for the current mu, sigma\n",
    "    pdf_y = scipy.stats.norm.pdf(pdf_x, loc=mu, scale=sigma)\n",
    "\n",
    "    with pdf_fig.batch_update():\n",
    "        # Update the PDF curve data\n",
    "        pdf_curve_trace.x = pdf_x\n",
    "        pdf_curve_trace.y = pdf_y\n",
    "        # Ensure y-axis adjusts to show the peak\n",
    "        # pdf_fig.layout.yaxis.range = [0, max(pdf_y)*1.1] # Auto-adjust y-axis\n",
    "\n",
    "\n",
    "# --- Linking Widgets ---\n",
    "# Link sliders to the update function\n",
    "out = interactive_output(update_plots, {\"mu\": mu_slider, \"sigma\": sigma_slider})\n",
    "\n",
    "# --- Initial Plot Update ---\n",
    "update_plots(mu_slider.value, sigma_slider.value)\n",
    "\n",
    "# --- Assemble Final Layout ---\n",
    "# HBox for the two main panels\n",
    "main_panels = HBox([left_panel, right_panel])\n",
    "# VBox for the overall layout: controls on top, panels below\n",
    "final_layout = VBox([controls_box, main_panels])\n",
    "\n",
    "# --- Display ---\n",
    "\n",
    "display(logL_equation)\n",
    "display(main_panels)"
   ]
  },
  {
   "cell_type": "markdown",
   "metadata": {
    "slideshow": {
     "slide_type": "slide"
    }
   },
   "source": [
    "# Classification\n",
    "\n",
    "Classification is a **supervised learning** task. The model learns from **labeled examples** to predict **categories**.\n",
    "\n",
    "$$\n",
    "f(\\mathbf{x}) \\rightarrow \\text{label (class)}\n",
    "$$\n",
    "\n",
    "\n",
    "### Common Classification Models:\n",
    "\n",
    "| Model                     | Notes                             |\n",
    "|---------------------------|-----------------------------------|\n",
    "| **Logistic Regression**   | Simple and interpretable          |\n",
    "| **Decision Tree**         | Tree of yes/no decisions          |\n",
    "| **Random Forest**         | Many trees voting together        |\n",
    "| **Support Vector Machine**| Maximizes margin between classes  |\n",
    "| **k-Nearest Neighbors**   | Looks at neighbors' labels        |\n",
    "| **Neural Networks**       | Flexible, good for complex patterns |\n",
    "\n"
   ]
  },
  {
   "cell_type": "markdown",
   "metadata": {
    "slideshow": {
     "slide_type": "subslide"
    }
   },
   "source": [
    "# Decision Tree\n",
    "\n",
    "<figure style=\"text-align: center;\">\n",
    "  <img src=\"img/9-1.png\"\n",
    "       style=\"height: 500px;\">\n",
    "  <figcaption style=\"font-size: 0.85em; color: grey; margin-top: 0.5em;\">Source: Sci-kit Learn</figcaption>\n",
    "</figure>"
   ]
  },
  {
   "cell_type": "markdown",
   "metadata": {
    "slideshow": {
     "slide_type": "subslide"
    }
   },
   "source": [
    "# Decision Tree\n",
    "\n",
    "<figure style=\"text-align: center;\">\n",
    "  <img src=\"img/9-2.png\"\n",
    "       style=\"height: 500px;\">\n",
    "  <figcaption style=\"font-size: 0.85em; color: grey; margin-top: 0.5em;\">Source: Sci-kit Learn</figcaption>\n",
    "</figure>"
   ]
  },
  {
   "cell_type": "markdown",
   "metadata": {
    "slideshow": {
     "slide_type": "slide"
    }
   },
   "source": [
    "#  Regression \n",
    "\n",
    "Regression is also **supervised learning**, but the target is a **real number** (not a category).\n",
    "\n",
    "$$\n",
    "f(\\mathbf{x}) \\rightarrow y \\in \\mathbb{R}\n",
    "$$\n",
    "\n",
    "\n",
    "### Common Regression Models:\n",
    "\n",
    "| Model                   | Notes                             |\n",
    "|-------------------------|-----------------------------------|\n",
    "| **Linear Regression**    | Fits a straight line              |\n",
    "| **Polynomial Regression**| Fits curves                      |\n",
    "| **Random Forest Regressor** | Ensemble of trees                |\n",
    "| **Support Vector Regressor** | Like SVM, but for numbers        |\n",
    "| **Gradient Boosting**     | Boosted decision trees           |\n",
    "| **Neural Network (NN)**  | Good for high-dimensional data   |\n"
   ]
  },
  {
   "cell_type": "markdown",
   "metadata": {
    "slideshow": {
     "slide_type": "subslide"
    }
   },
   "source": [
    "# Neural Network\n",
    "\n",
    "<div style=\"display: flex; align-items: flex-start; gap: 2em;\">\n",
    "\n",
    "  <!-- Image with caption -->\n",
    "  <figure style=\"margin: 0; text-align: center;\">\n",
    "    <img src=\"img/10-1.png\" alt=\"Example\" width=\"900px\">\n",
    "    <figcaption style=\"font-size: 0.65em; color: grey; margin-top: 0.5em;\">\n",
    "      Source: \"Comparative study of the sensory areas of the human cortex\" by Santiago Ramon y Cajal, published 1899, ISBN 9781458821898\n",
    "![image-2.png](attachment:image-2.png)\n",
    "    </figcaption>\n",
    "  </figure>\n",
    "\n",
    "  <!-- Text and list -->\n",
    "  <div>\n",
    "    <ul style=\"margin-top: 0;\">\n",
    "      <li>Just like biological neurons in our brain, where neurons are connected through synapses to transmit signals, forming a Biological Neural Network (BNN). </li>\n",
    "      <li>The artificial neurons in a neural network are interconnected layers that pass information. \n",
    "</li>\n",
    "      <li>In both systems, when a signal (input) reaches a threshold, it triggers a response.\n",
    "</li>\n",
    "    </ul>\n",
    "  </div>\n",
    "\n",
    "</div>"
   ]
  },
  {
   "cell_type": "markdown",
   "metadata": {
    "slideshow": {
     "slide_type": "subslide"
    }
   },
   "source": [
    "# Neural Network\n",
    "\n",
    "<div style=\"display: flex; align-items: flex-start; gap: 2em;\">\n",
    "\n",
    "  <!-- Image with caption -->\n",
    "  <figure style=\"margin: 0; text-align: center;\">\n",
    "    <img src=\"img/10-2.png\" alt=\"Example\" width=\"1000px\">\n",
    "    <figcaption style=\"font-size: 0.65em; color: grey; margin-top: 0.5em;\">\n",
    "      Source: Image by Bruce Blaus (Creative Commons 3.0). Reproduced from https://en.wikipedia.org/wiki/Neuron. \n",
    "    </figcaption>\n",
    "  </figure>\n",
    "\n",
    "  <!-- Text and list -->\n",
    "  <div>\n",
    "    <ul style=\"margin-top: 0;\">\n",
    "      <li>In Artificial Neural Networks (ANN or NN), these artificial neurons process input data, learn patterns through training, and adjust their connections (weights) to make decisions or predictions.</li>\n",
    "      <li>It mimics how biological networks adapt to stimuli over time.\n",
    "</li>\n",
    "    </ul>\n",
    "  </div>\n",
    "\n",
    "</div>"
   ]
  },
  {
   "cell_type": "markdown",
   "metadata": {
    "slideshow": {
     "slide_type": "subslide"
    }
   },
   "source": [
    "# Neural Network\n",
    "\n",
    "\n",
    "\n",
    "<div style=\"display: flex; align-items: flex-start; gap: 2em;\">\n",
    "\n",
    "  <!-- Image with caption -->\n",
    "  <figure style=\"margin: 0; text-align: center;\">\n",
    "    <img src=\"img/10-3.png\" alt=\"Example\" width=\"1200px\">\n",
    "  </figure>\n",
    "\n",
    "  <!-- Text and list -->\n",
    "  <div>\n",
    "    <ul style=\"margin-top: 0;\">\n",
    "      <li><strong>Inputs</strong>: The perceptron takes several inputs, each representing features of the data (like pixel values in an image).\n",
    "</li>\n",
    "      <li><strong>Weights</strong>: The weighted inputs are summed together.</li>\n",
    "              <li><strong>Activation Function</strong>:The sum is passed through an activation function (like a step function), which decides if the perceptron \"fires\" or not, producing an output (usually 0 or 1).</li>\n",
    "    </ul>\n",
    "  </div>\n",
    "\n",
    "</div>\n",
    "\n",
    "$$\n",
    "\\hat{y} = f^{(L)}\\left( W^{(L)} f^{(L-1)} \\left( \\cdots f^{(1)}\\left( W^{(1)} \\mathbf{x} + \\mathbf{b}^{(1)} \\right) \\cdots \\right) + \\mathbf{b}^{(L)} \\right)\n",
    "$$\n"
   ]
  },
  {
   "cell_type": "markdown",
   "metadata": {
    "slideshow": {
     "slide_type": "subslide"
    }
   },
   "source": [
    "# Neural Network\n",
    "\n",
    "<div style=\"display: flex; align-items: flex-start; gap: 2em;\">\n",
    "\n",
    "  <figure style=\"margin: 0; text-align: center;\">\n",
    "    <img src=\"img/10-4.gif\" alt=\"Neural Network Diagram\" width=\"800px\">\n",
    "  <figcaption style=\"font-size: 0.85em; color: grey; margin-top: 0.5em;\">Source: https://vas3k.com/blog/machine_learning/</figcaption>\n",
    "  </figure>\n",
    "\n",
    "  <!-- Text content -->\n",
    "  <div>\n",
    "    <h3 style=\"margin-top: 0;\"> Training a Neural Network</h3>\n",
    "    <ul style=\"margin-top: 0;\">\n",
    "      <li><strong>Goal:</strong> Minimize error between predictions \\( \\hat{y} \\) and targets \\( y \\).</li>\n",
    "      <li><strong>Loss:</strong> Measures prediction error  \n",
    "        <br>e.g., MSE: \\( \\mathcal{L} = \\frac{1}{N} \\sum (y_i - \\hat{y}_i)^2 \\)\n",
    "      </li>\n",
    "      <li><strong>Optimization:</strong>  \n",
    "        <br>Gradient descent with backpropagation  \n",
    "        <br>\\( \\theta \\leftarrow \\theta - \\eta \\cdot \\nabla_\\theta \\mathcal{L} \\)\n",
    "      </li>\n",
    "    </ul>\n",
    "    <p style=\"margin-top: 0.5em;\"Repeat over many epochs to reach convergence.</p>\n",
    "  </div>\n",
    "\n",
    "</div>\n"
   ]
  },
  {
   "cell_type": "markdown",
   "metadata": {
    "slideshow": {
     "slide_type": "slide"
    }
   },
   "source": [
    "# Foundational Model for Materials\n",
    "\n",
    "**MACE** : [*Message Passing Atomic Cluster Expansion*](https://github.com/ACEsuit/mace-foundations)\n",
    "\n",
    "It is a **neural network potential** designed to predict material properties like **energy** and **forces** with **DFT-level accuracy**, but **much faster**.\n",
    "\n",
    "### How MACE Works:\n",
    "\n",
    "- Combines ideas from:\n",
    "  - **Graph Neural Networks (GNNs)** → atoms as nodes, bonds as edges\n",
    "  - **Atomic Cluster Expansion (ACE)** → includes high-order geometric terms\n",
    "- Uses **equivariant message passing** → respects physical symmetries:\n",
    "  - Rotation\n",
    "  - Translation\n",
    "  - Permutation of identical atoms"
   ]
  },
  {
   "cell_type": "markdown",
   "metadata": {
    "slideshow": {
     "slide_type": "subslide"
    }
   },
   "source": [
    "# Foundational Model for Materials\n",
    "\n",
    "### Why is groundbreaking\n",
    "\n",
    "- Trained on massive DFT datasets (e.g. Materials Project)\n",
    "- Covers **~89 elements**, broad chemical diversity\n",
    "- Learns a **general representation** of atomic interactions\n",
    "\n",
    "> **Ambition:** Become a universal, reusable model for predicting atomic-scale material behavior – like a GPT for materials"
   ]
  },
  {
   "cell_type": "code",
   "execution_count": null,
   "metadata": {},
   "outputs": [],
   "source": []
  },
  {
   "cell_type": "code",
   "execution_count": null,
   "metadata": {},
   "outputs": [],
   "source": []
  }
 ],
 "metadata": {
  "celltoolbar": "Hide code",
  "kernelspec": {
   "display_name": "Python 3 (ipykernel)",
   "language": "python",
   "name": "python3"
  },
  "language_info": {
   "codemirror_mode": {
    "name": "ipython",
    "version": 3
   },
   "file_extension": ".py",
   "mimetype": "text/x-python",
   "name": "python",
   "nbconvert_exporter": "python",
   "pygments_lexer": "ipython3",
   "version": "3.11.11"
  }
 },
 "nbformat": 4,
 "nbformat_minor": 4
}
