{
  "cells": [
    {
      "cell_type": "markdown",
      "metadata": {
        "id": "wTkOlztYCtDJ"
      },
      "source": [
        "# Hands on Machine Learning (ML) and Sequential Learning (SP)\n",
        "\n",
        "[![Open In Colab](https://colab.research.google.com/assets/colab-badge.svg)](https://colab.research.google.com/github/paolodeangelis/AEM/blob/main/2-Hands_on_ML_SL.ipynb)"
      ]
    },
    {
      "cell_type": "markdown",
      "metadata": {
        "id": "E0QS0d7u8PJ9"
      },
      "source": [
        "## Preamble\n",
        "\n",
        "In this section we install and import the necessary modules for running the first part of the excersise (importing and handling data, training and validating the ML model, interpreting the ML model); we also define useful functions for materials featurization."
      ]
    },
    {
      "cell_type": "markdown",
      "metadata": {
        "id": "8gpYaHBUCtDN"
      },
      "source": [
        "Installing with `pip` the necessary libraries (force the version with ==)"
      ]
    },
    {
      "cell_type": "code",
      "execution_count": null,
      "metadata": {
        "id": "CaWGH7bJ4hxU"
      },
      "outputs": [],
      "source": [
        "%pip install pymatgen==2020.1.28\n",
        "%pip install matminer==0.6.2\n",
        "%pip install scikit_learn==0.22.2\n",
        "%pip install shap==0.38.1"
      ]
    },
    {
      "cell_type": "markdown",
      "metadata": {
        "id": "AoyeFhdQCtDR"
      },
      "source": [
        "Importing the necessary modules"
      ]
    },
    {
      "cell_type": "code",
      "execution_count": null,
      "metadata": {
        "id": "EtxeRmoT4lVG"
      },
      "outputs": [],
      "source": [
        "import numpy as np\n",
        "import pandas as pd\n",
        "import shap\n",
        "import sklearn\n",
        "from matminer.featurizers import composition as cf\n",
        "from matminer.featurizers.base import MultipleFeaturizer\n",
        "from pymatgen import Composition\n",
        "from sklearn.ensemble import RandomForestRegressor\n",
        "from sklearn.metrics import mean_absolute_error, mean_squared_error\n",
        "from sklearn.model_selection import train_test_split"
      ]
    },
    {
      "cell_type": "markdown",
      "metadata": {
        "id": "X0FRvEHJCtDT"
      },
      "source": [
        "Defining functions for efficiently extracting materials features"
      ]
    },
    {
      "cell_type": "code",
      "execution_count": null,
      "metadata": {
        "id": "jf6A37ww44Dq"
      },
      "outputs": [],
      "source": [
        "def get_compostion(c):\n",
        "    \"\"\"Function to get compositions from chemical formula using pymatgen\"\"\"\n",
        "    try:\n",
        "        return Composition(c)\n",
        "    except:  # noqa: E722\n",
        "        return None\n",
        "\n",
        "\n",
        "def featurizing(data, property_interest=None):\n",
        "\n",
        "    # Featurizer\n",
        "    f = MultipleFeaturizer(\n",
        "        [\n",
        "            cf.Stoichiometry(),\n",
        "            cf.ElementProperty.from_preset(\"magpie\"),\n",
        "            cf.ValenceOrbital(props=[\"avg\"]),\n",
        "            cf.IonProperty(fast=True),\n",
        "        ]\n",
        "    )\n",
        "\n",
        "    # Inputs\n",
        "    data[\"composition\"] = [get_compostion(mat) for mat in data.Components]\n",
        "\n",
        "    featurized_data = pd.DataFrame(\n",
        "        f.featurize_many(data[\"composition\"], ignore_errors=True),\n",
        "        columns=f.feature_labels(),\n",
        "        index=data[\"Components\"],\n",
        "    )\n",
        "    if property_interest:\n",
        "        featurized_data[property_interest] = data[property_interest].values\n",
        "    return featurized_data"
      ]
    },
    {
      "cell_type": "markdown",
      "metadata": {
        "id": "WJOd_b3Ehbzw"
      },
      "source": [
        "## Data handling\n",
        "\n",
        "In this section we import the Superconductors database (two columns: brute formula and critical Temperature), extracting composition based features; we thus drop rows where at least a NaN (i.e., Not a Number) value occurs.\n",
        "\n",
        "If you want to know the meaning of those 145 features, please check here https://www.nature.com/articles/npjcompumats201628?report=reader (and in the corresponding supplementary material, pdf). \n",
        "\n",
        "In brief, they are:\n",
        "* **Stoichiometric attributes** that depend only on the fractions of elements present and not what those elements actually are\n",
        "* **Elemental property statistics**, which are defined as the mean, mean absolute deviation, range, minimum, maximum and mode of 22 different elemental properties.\n",
        "* **Electronic structure attributes**, which are the average fraction of electrons from the *s*, *p*, *d* and *f* valence shells between all present elements.\n",
        "* **Ionic compound attributes** that include whether it is possible to form an ionic compound assuming all elements are present in a single oxidation state.\n"
      ]
    },
    {
      "cell_type": "markdown",
      "metadata": {
        "id": "nOOUds-qCtDX"
      },
      "source": [
        "Downloading the database"
      ]
    },
    {
      "cell_type": "code",
      "execution_count": null,
      "metadata": {
        "id": "-xf8zxuKCtDY"
      },
      "outputs": [],
      "source": [
        "# source National Institute of Materials Science, Materials Information Station,\n",
        "# SuperCon, http://supercon.nims.go.jp/index_en.html (2011)\n",
        "\n",
        "!wget https://raw.githubusercontent.com/paolodeangelis/AEM/main/data/Supercon_data_clean.xlsx"
      ]
    },
    {
      "cell_type": "code",
      "execution_count": null,
      "metadata": {
        "colab": {
          "base_uri": "https://localhost:8080/",
          "height": 53
        },
        "id": "kTutyBek5CeZ",
        "outputId": "22896a8e-7d1c-46f4-ef26-3698193c76c9"
      },
      "outputs": [
        {
          "data": {
            "application/vnd.google.colaboratory.intrinsic+json": {
              "type": "string"
            },
            "text/plain": [
              "'\\nsource National Institute of Materials Science, Materials Information Station, \\nSuperCon, http://supercon.nims.go.jp/index_en.html (2011)#\\n'"
            ]
          },
          "execution_count": 131,
          "metadata": {},
          "output_type": "execute_result"
        }
      ],
      "source": [
        "data = pd.read_excel(r\"Supercon_data_clean.xlsx\")  # Import data"
      ]
    },
    {
      "cell_type": "code",
      "execution_count": null,
      "metadata": {
        "colab": {
          "base_uri": "https://localhost:8080/"
        },
        "id": "sDyqH2PoobuY",
        "outputId": "32119f3f-a2f2-4487-fde3-660a030a6ec9"
      },
      "outputs": [
        {
          "name": "stderr",
          "output_type": "stream",
          "text": [
            "MultipleFeaturizer: 100%|██████████| 12919/12919 [00:38<00:00, 335.77it/s]\n"
          ]
        }
      ],
      "source": [
        "Featurized_data = featurizing(data, \"Tc\")  # Extract composition based features"
      ]
    },
    {
      "cell_type": "code",
      "execution_count": null,
      "metadata": {
        "id": "fyi9Z2DUoilV"
      },
      "outputs": [],
      "source": [
        "Featurized_data = Featurized_data.dropna()"
      ]
    },
    {
      "cell_type": "code",
      "execution_count": null,
      "metadata": {
        "colab": {
          "base_uri": "https://localhost:8080/",
          "height": 554
        },
        "id": "Iok3sybKAnHW",
        "outputId": "04fb7364-34ef-4c79-f215-f8122b99984f"
      },
      "outputs": [
        {
          "data": {
            "text/html": [
              "\n",
              "  <div id=\"df-213730df-0ffd-4e82-80b4-39d316daf996\">\n",
              "    <div class=\"colab-df-container\">\n",
              "      <div>\n",
              "<style scoped>\n",
              "    .dataframe tbody tr th:only-of-type {\n",
              "        vertical-align: middle;\n",
              "    }\n",
              "\n",
              "    .dataframe tbody tr th {\n",
              "        vertical-align: top;\n",
              "    }\n",
              "\n",
              "    .dataframe thead th {\n",
              "        text-align: right;\n",
              "    }\n",
              "</style>\n",
              "<table border=\"1\" class=\"dataframe\">\n",
              "  <thead>\n",
              "    <tr style=\"text-align: right;\">\n",
              "      <th></th>\n",
              "      <th>0-norm</th>\n",
              "      <th>2-norm</th>\n",
              "      <th>3-norm</th>\n",
              "      <th>5-norm</th>\n",
              "      <th>7-norm</th>\n",
              "      <th>10-norm</th>\n",
              "      <th>MagpieData minimum Number</th>\n",
              "      <th>MagpieData maximum Number</th>\n",
              "      <th>MagpieData range Number</th>\n",
              "      <th>MagpieData mean Number</th>\n",
              "      <th>...</th>\n",
              "      <th>MagpieData avg_dev SpaceGroupNumber</th>\n",
              "      <th>MagpieData mode SpaceGroupNumber</th>\n",
              "      <th>avg s valence electrons</th>\n",
              "      <th>avg p valence electrons</th>\n",
              "      <th>avg d valence electrons</th>\n",
              "      <th>avg f valence electrons</th>\n",
              "      <th>compound possible</th>\n",
              "      <th>max ionic char</th>\n",
              "      <th>avg ionic char</th>\n",
              "      <th>Tc</th>\n",
              "    </tr>\n",
              "    <tr>\n",
              "      <th>Components</th>\n",
              "      <th></th>\n",
              "      <th></th>\n",
              "      <th></th>\n",
              "      <th></th>\n",
              "      <th></th>\n",
              "      <th></th>\n",
              "      <th></th>\n",
              "      <th></th>\n",
              "      <th></th>\n",
              "      <th></th>\n",
              "      <th></th>\n",
              "      <th></th>\n",
              "      <th></th>\n",
              "      <th></th>\n",
              "      <th></th>\n",
              "      <th></th>\n",
              "      <th></th>\n",
              "      <th></th>\n",
              "      <th></th>\n",
              "      <th></th>\n",
              "      <th></th>\n",
              "    </tr>\n",
              "  </thead>\n",
              "  <tbody>\n",
              "    <tr>\n",
              "      <th>H3S</th>\n",
              "      <td>2.0</td>\n",
              "      <td>0.790569</td>\n",
              "      <td>0.759147</td>\n",
              "      <td>0.750616</td>\n",
              "      <td>0.750049</td>\n",
              "      <td>0.750001</td>\n",
              "      <td>1.0</td>\n",
              "      <td>16.0</td>\n",
              "      <td>15.0</td>\n",
              "      <td>4.750000</td>\n",
              "      <td>...</td>\n",
              "      <td>46.500000</td>\n",
              "      <td>194.0</td>\n",
              "      <td>1.250000</td>\n",
              "      <td>1.000000</td>\n",
              "      <td>0.000000</td>\n",
              "      <td>0.000000</td>\n",
              "      <td>False</td>\n",
              "      <td>0.035456</td>\n",
              "      <td>0.006648</td>\n",
              "      <td>147.0</td>\n",
              "    </tr>\n",
              "    <tr>\n",
              "      <th>Ba100Ca99Cu145Hg33O420Pb17</th>\n",
              "      <td>6.0</td>\n",
              "      <td>0.574387</td>\n",
              "      <td>0.527459</td>\n",
              "      <td>0.516629</td>\n",
              "      <td>0.516020</td>\n",
              "      <td>0.515972</td>\n",
              "      <td>8.0</td>\n",
              "      <td>82.0</td>\n",
              "      <td>74.0</td>\n",
              "      <td>23.561425</td>\n",
              "      <td>...</td>\n",
              "      <td>104.430150</td>\n",
              "      <td>12.0</td>\n",
              "      <td>1.821867</td>\n",
              "      <td>2.105651</td>\n",
              "      <td>2.395577</td>\n",
              "      <td>0.859951</td>\n",
              "      <td>False</td>\n",
              "      <td>0.803211</td>\n",
              "      <td>0.165437</td>\n",
              "      <td>143.0</td>\n",
              "    </tr>\n",
              "    <tr>\n",
              "      <th>Ba1035Ca1035Cu1555Hg375O4104</th>\n",
              "      <td>5.0</td>\n",
              "      <td>0.572747</td>\n",
              "      <td>0.520734</td>\n",
              "      <td>0.507411</td>\n",
              "      <td>0.506507</td>\n",
              "      <td>0.506420</td>\n",
              "      <td>8.0</td>\n",
              "      <td>80.0</td>\n",
              "      <td>72.0</td>\n",
              "      <td>23.024062</td>\n",
              "      <td>...</td>\n",
              "      <td>104.234706</td>\n",
              "      <td>12.0</td>\n",
              "      <td>1.808119</td>\n",
              "      <td>2.025666</td>\n",
              "      <td>2.381540</td>\n",
              "      <td>0.647828</td>\n",
              "      <td>False</td>\n",
              "      <td>0.803211</td>\n",
              "      <td>0.167923</td>\n",
              "      <td>135.8</td>\n",
              "    </tr>\n",
              "    <tr>\n",
              "      <th>Ba2070Ca2070Cu3110Hg750O8187</th>\n",
              "      <td>5.0</td>\n",
              "      <td>0.572343</td>\n",
              "      <td>0.520183</td>\n",
              "      <td>0.506782</td>\n",
              "      <td>0.505868</td>\n",
              "      <td>0.505780</td>\n",
              "      <td>8.0</td>\n",
              "      <td>80.0</td>\n",
              "      <td>72.0</td>\n",
              "      <td>23.043553</td>\n",
              "      <td>...</td>\n",
              "      <td>104.237962</td>\n",
              "      <td>12.0</td>\n",
              "      <td>1.807871</td>\n",
              "      <td>2.023105</td>\n",
              "      <td>2.384630</td>\n",
              "      <td>0.648669</td>\n",
              "      <td>False</td>\n",
              "      <td>0.803211</td>\n",
              "      <td>0.167961</td>\n",
              "      <td>135.4</td>\n",
              "    </tr>\n",
              "    <tr>\n",
              "      <th>Ba200Ca200Cu300Hg100O829</th>\n",
              "      <td>5.0</td>\n",
              "      <td>0.571674</td>\n",
              "      <td>0.521679</td>\n",
              "      <td>0.509699</td>\n",
              "      <td>0.508967</td>\n",
              "      <td>0.508903</td>\n",
              "      <td>8.0</td>\n",
              "      <td>80.0</td>\n",
              "      <td>72.0</td>\n",
              "      <td>23.653775</td>\n",
              "      <td>...</td>\n",
              "      <td>103.279758</td>\n",
              "      <td>12.0</td>\n",
              "      <td>1.815838</td>\n",
              "      <td>2.035605</td>\n",
              "      <td>2.455494</td>\n",
              "      <td>0.859423</td>\n",
              "      <td>False</td>\n",
              "      <td>0.803211</td>\n",
              "      <td>0.166091</td>\n",
              "      <td>135.0</td>\n",
              "    </tr>\n",
              "    <tr>\n",
              "      <th>...</th>\n",
              "      <td>...</td>\n",
              "      <td>...</td>\n",
              "      <td>...</td>\n",
              "      <td>...</td>\n",
              "      <td>...</td>\n",
              "      <td>...</td>\n",
              "      <td>...</td>\n",
              "      <td>...</td>\n",
              "      <td>...</td>\n",
              "      <td>...</td>\n",
              "      <td>...</td>\n",
              "      <td>...</td>\n",
              "      <td>...</td>\n",
              "      <td>...</td>\n",
              "      <td>...</td>\n",
              "      <td>...</td>\n",
              "      <td>...</td>\n",
              "      <td>...</td>\n",
              "      <td>...</td>\n",
              "      <td>...</td>\n",
              "      <td>...</td>\n",
              "    </tr>\n",
              "    <tr>\n",
              "      <th>As9Fe10La10O10P</th>\n",
              "      <td>5.0</td>\n",
              "      <td>0.488621</td>\n",
              "      <td>0.387712</td>\n",
              "      <td>0.322828</td>\n",
              "      <td>0.298729</td>\n",
              "      <td>0.282116</td>\n",
              "      <td>8.0</td>\n",
              "      <td>57.0</td>\n",
              "      <td>49.0</td>\n",
              "      <td>30.550000</td>\n",
              "      <td>...</td>\n",
              "      <td>74.282500</td>\n",
              "      <td>12.0</td>\n",
              "      <td>2.000000</td>\n",
              "      <td>1.750000</td>\n",
              "      <td>4.000000</td>\n",
              "      <td>0.000000</td>\n",
              "      <td>True</td>\n",
              "      <td>0.745613</td>\n",
              "      <td>0.122382</td>\n",
              "      <td>0.0</td>\n",
              "    </tr>\n",
              "    <tr>\n",
              "      <th>As200Ca81Ce19Fe100</th>\n",
              "      <td>4.0</td>\n",
              "      <td>0.596458</td>\n",
              "      <td>0.530189</td>\n",
              "      <td>0.504146</td>\n",
              "      <td>0.500683</td>\n",
              "      <td>0.500055</td>\n",
              "      <td>20.0</td>\n",
              "      <td>58.0</td>\n",
              "      <td>38.0</td>\n",
              "      <td>29.805000</td>\n",
              "      <td>...</td>\n",
              "      <td>29.125113</td>\n",
              "      <td>166.0</td>\n",
              "      <td>2.000000</td>\n",
              "      <td>1.500000</td>\n",
              "      <td>6.547500</td>\n",
              "      <td>0.047500</td>\n",
              "      <td>False</td>\n",
              "      <td>0.293972</td>\n",
              "      <td>0.048801</td>\n",
              "      <td>0.0</td>\n",
              "    </tr>\n",
              "    <tr>\n",
              "      <th>As18Fe20O20P2Pr13Sr7</th>\n",
              "      <td>6.0</td>\n",
              "      <td>0.458598</td>\n",
              "      <td>0.362455</td>\n",
              "      <td>0.305205</td>\n",
              "      <td>0.285416</td>\n",
              "      <td>0.272440</td>\n",
              "      <td>8.0</td>\n",
              "      <td>59.0</td>\n",
              "      <td>51.0</td>\n",
              "      <td>29.212500</td>\n",
              "      <td>...</td>\n",
              "      <td>75.774375</td>\n",
              "      <td>12.0</td>\n",
              "      <td>2.000000</td>\n",
              "      <td>1.750000</td>\n",
              "      <td>3.750000</td>\n",
              "      <td>0.487500</td>\n",
              "      <td>False</td>\n",
              "      <td>0.787757</td>\n",
              "      <td>0.124658</td>\n",
              "      <td>0.0</td>\n",
              "    </tr>\n",
              "    <tr>\n",
              "      <th>AsFe2La2O2P</th>\n",
              "      <td>5.0</td>\n",
              "      <td>0.467707</td>\n",
              "      <td>0.370312</td>\n",
              "      <td>0.312720</td>\n",
              "      <td>0.292700</td>\n",
              "      <td>0.279049</td>\n",
              "      <td>8.0</td>\n",
              "      <td>57.0</td>\n",
              "      <td>49.0</td>\n",
              "      <td>28.750000</td>\n",
              "      <td>...</td>\n",
              "      <td>90.812500</td>\n",
              "      <td>12.0</td>\n",
              "      <td>2.000000</td>\n",
              "      <td>1.750000</td>\n",
              "      <td>3.000000</td>\n",
              "      <td>0.000000</td>\n",
              "      <td>True</td>\n",
              "      <td>0.745613</td>\n",
              "      <td>0.122421</td>\n",
              "      <td>0.0</td>\n",
              "    </tr>\n",
              "    <tr>\n",
              "      <th>Al20AsCa40Fe20O60P19</th>\n",
              "      <td>6.0</td>\n",
              "      <td>0.498513</td>\n",
              "      <td>0.419721</td>\n",
              "      <td>0.385166</td>\n",
              "      <td>0.378122</td>\n",
              "      <td>0.375647</td>\n",
              "      <td>8.0</td>\n",
              "      <td>33.0</td>\n",
              "      <td>25.0</td>\n",
              "      <td>14.862500</td>\n",
              "      <td>...</td>\n",
              "      <td>107.815313</td>\n",
              "      <td>12.0</td>\n",
              "      <td>2.000000</td>\n",
              "      <td>2.000000</td>\n",
              "      <td>0.812500</td>\n",
              "      <td>0.000000</td>\n",
              "      <td>True</td>\n",
              "      <td>0.774266</td>\n",
              "      <td>0.155667</td>\n",
              "      <td>0.0</td>\n",
              "    </tr>\n",
              "  </tbody>\n",
              "</table>\n",
              "<p>12914 rows × 146 columns</p>\n",
              "</div>\n",
              "      <button class=\"colab-df-convert\" onclick=\"convertToInteractive('df-213730df-0ffd-4e82-80b4-39d316daf996')\"\n",
              "              title=\"Convert this dataframe to an interactive table.\"\n",
              "              style=\"display:none;\">\n",
              "        \n",
              "  <svg xmlns=\"http://www.w3.org/2000/svg\" height=\"24px\"viewBox=\"0 0 24 24\"\n",
              "       width=\"24px\">\n",
              "    <path d=\"M0 0h24v24H0V0z\" fill=\"none\"/>\n",
              "    <path d=\"M18.56 5.44l.94 2.06.94-2.06 2.06-.94-2.06-.94-.94-2.06-.94 2.06-2.06.94zm-11 1L8.5 8.5l.94-2.06 2.06-.94-2.06-.94L8.5 2.5l-.94 2.06-2.06.94zm10 10l.94 2.06.94-2.06 2.06-.94-2.06-.94-.94-2.06-.94 2.06-2.06.94z\"/><path d=\"M17.41 7.96l-1.37-1.37c-.4-.4-.92-.59-1.43-.59-.52 0-1.04.2-1.43.59L10.3 9.45l-7.72 7.72c-.78.78-.78 2.05 0 2.83L4 21.41c.39.39.9.59 1.41.59.51 0 1.02-.2 1.41-.59l7.78-7.78 2.81-2.81c.8-.78.8-2.07 0-2.86zM5.41 20L4 18.59l7.72-7.72 1.47 1.35L5.41 20z\"/>\n",
              "  </svg>\n",
              "      </button>\n",
              "      \n",
              "  <style>\n",
              "    .colab-df-container {\n",
              "      display:flex;\n",
              "      flex-wrap:wrap;\n",
              "      gap: 12px;\n",
              "    }\n",
              "\n",
              "    .colab-df-convert {\n",
              "      background-color: #E8F0FE;\n",
              "      border: none;\n",
              "      border-radius: 50%;\n",
              "      cursor: pointer;\n",
              "      display: none;\n",
              "      fill: #1967D2;\n",
              "      height: 32px;\n",
              "      padding: 0 0 0 0;\n",
              "      width: 32px;\n",
              "    }\n",
              "\n",
              "    .colab-df-convert:hover {\n",
              "      background-color: #E2EBFA;\n",
              "      box-shadow: 0px 1px 2px rgba(60, 64, 67, 0.3), 0px 1px 3px 1px rgba(60, 64, 67, 0.15);\n",
              "      fill: #174EA6;\n",
              "    }\n",
              "\n",
              "    [theme=dark] .colab-df-convert {\n",
              "      background-color: #3B4455;\n",
              "      fill: #D2E3FC;\n",
              "    }\n",
              "\n",
              "    [theme=dark] .colab-df-convert:hover {\n",
              "      background-color: #434B5C;\n",
              "      box-shadow: 0px 1px 3px 1px rgba(0, 0, 0, 0.15);\n",
              "      filter: drop-shadow(0px 1px 2px rgba(0, 0, 0, 0.3));\n",
              "      fill: #FFFFFF;\n",
              "    }\n",
              "  </style>\n",
              "\n",
              "      <script>\n",
              "        const buttonEl =\n",
              "          document.querySelector('#df-213730df-0ffd-4e82-80b4-39d316daf996 button.colab-df-convert');\n",
              "        buttonEl.style.display =\n",
              "          google.colab.kernel.accessAllowed ? 'block' : 'none';\n",
              "\n",
              "        async function convertToInteractive(key) {\n",
              "          const element = document.querySelector('#df-213730df-0ffd-4e82-80b4-39d316daf996');\n",
              "          const dataTable =\n",
              "            await google.colab.kernel.invokeFunction('convertToInteractive',\n",
              "                                                     [key], {});\n",
              "          if (!dataTable) return;\n",
              "\n",
              "          const docLinkHtml = 'Like what you see? Visit the ' +\n",
              "            '<a target=\"_blank\" href=https://colab.research.google.com/notebooks/data_table.ipynb>data table notebook</a>'\n",
              "            + ' to learn more about interactive tables.';\n",
              "          element.innerHTML = '';\n",
              "          dataTable['output_type'] = 'display_data';\n",
              "          await google.colab.output.renderOutput(dataTable, element);\n",
              "          const docLink = document.createElement('div');\n",
              "          docLink.innerHTML = docLinkHtml;\n",
              "          element.appendChild(docLink);\n",
              "        }\n",
              "      </script>\n",
              "    </div>\n",
              "  </div>\n",
              "  "
            ],
            "text/plain": [
              "                              0-norm    2-norm    3-norm    5-norm    7-norm  \\\n",
              "Components                                                                     \n",
              "H3S                              2.0  0.790569  0.759147  0.750616  0.750049   \n",
              "Ba100Ca99Cu145Hg33O420Pb17       6.0  0.574387  0.527459  0.516629  0.516020   \n",
              "Ba1035Ca1035Cu1555Hg375O4104     5.0  0.572747  0.520734  0.507411  0.506507   \n",
              "Ba2070Ca2070Cu3110Hg750O8187     5.0  0.572343  0.520183  0.506782  0.505868   \n",
              "Ba200Ca200Cu300Hg100O829         5.0  0.571674  0.521679  0.509699  0.508967   \n",
              "...                              ...       ...       ...       ...       ...   \n",
              "As9Fe10La10O10P                  5.0  0.488621  0.387712  0.322828  0.298729   \n",
              "As200Ca81Ce19Fe100               4.0  0.596458  0.530189  0.504146  0.500683   \n",
              "As18Fe20O20P2Pr13Sr7             6.0  0.458598  0.362455  0.305205  0.285416   \n",
              "AsFe2La2O2P                      5.0  0.467707  0.370312  0.312720  0.292700   \n",
              "Al20AsCa40Fe20O60P19             6.0  0.498513  0.419721  0.385166  0.378122   \n",
              "\n",
              "                               10-norm  MagpieData minimum Number  \\\n",
              "Components                                                          \n",
              "H3S                           0.750001                        1.0   \n",
              "Ba100Ca99Cu145Hg33O420Pb17    0.515972                        8.0   \n",
              "Ba1035Ca1035Cu1555Hg375O4104  0.506420                        8.0   \n",
              "Ba2070Ca2070Cu3110Hg750O8187  0.505780                        8.0   \n",
              "Ba200Ca200Cu300Hg100O829      0.508903                        8.0   \n",
              "...                                ...                        ...   \n",
              "As9Fe10La10O10P               0.282116                        8.0   \n",
              "As200Ca81Ce19Fe100            0.500055                       20.0   \n",
              "As18Fe20O20P2Pr13Sr7          0.272440                        8.0   \n",
              "AsFe2La2O2P                   0.279049                        8.0   \n",
              "Al20AsCa40Fe20O60P19          0.375647                        8.0   \n",
              "\n",
              "                              MagpieData maximum Number  \\\n",
              "Components                                                \n",
              "H3S                                                16.0   \n",
              "Ba100Ca99Cu145Hg33O420Pb17                         82.0   \n",
              "Ba1035Ca1035Cu1555Hg375O4104                       80.0   \n",
              "Ba2070Ca2070Cu3110Hg750O8187                       80.0   \n",
              "Ba200Ca200Cu300Hg100O829                           80.0   \n",
              "...                                                 ...   \n",
              "As9Fe10La10O10P                                    57.0   \n",
              "As200Ca81Ce19Fe100                                 58.0   \n",
              "As18Fe20O20P2Pr13Sr7                               59.0   \n",
              "AsFe2La2O2P                                        57.0   \n",
              "Al20AsCa40Fe20O60P19                               33.0   \n",
              "\n",
              "                              MagpieData range Number  MagpieData mean Number  \\\n",
              "Components                                                                      \n",
              "H3S                                              15.0                4.750000   \n",
              "Ba100Ca99Cu145Hg33O420Pb17                       74.0               23.561425   \n",
              "Ba1035Ca1035Cu1555Hg375O4104                     72.0               23.024062   \n",
              "Ba2070Ca2070Cu3110Hg750O8187                     72.0               23.043553   \n",
              "Ba200Ca200Cu300Hg100O829                         72.0               23.653775   \n",
              "...                                               ...                     ...   \n",
              "As9Fe10La10O10P                                  49.0               30.550000   \n",
              "As200Ca81Ce19Fe100                               38.0               29.805000   \n",
              "As18Fe20O20P2Pr13Sr7                             51.0               29.212500   \n",
              "AsFe2La2O2P                                      49.0               28.750000   \n",
              "Al20AsCa40Fe20O60P19                             25.0               14.862500   \n",
              "\n",
              "                              ...  MagpieData avg_dev SpaceGroupNumber  \\\n",
              "Components                    ...                                        \n",
              "H3S                           ...                            46.500000   \n",
              "Ba100Ca99Cu145Hg33O420Pb17    ...                           104.430150   \n",
              "Ba1035Ca1035Cu1555Hg375O4104  ...                           104.234706   \n",
              "Ba2070Ca2070Cu3110Hg750O8187  ...                           104.237962   \n",
              "Ba200Ca200Cu300Hg100O829      ...                           103.279758   \n",
              "...                           ...                                  ...   \n",
              "As9Fe10La10O10P               ...                            74.282500   \n",
              "As200Ca81Ce19Fe100            ...                            29.125113   \n",
              "As18Fe20O20P2Pr13Sr7          ...                            75.774375   \n",
              "AsFe2La2O2P                   ...                            90.812500   \n",
              "Al20AsCa40Fe20O60P19          ...                           107.815313   \n",
              "\n",
              "                              MagpieData mode SpaceGroupNumber  \\\n",
              "Components                                                       \n",
              "H3S                                                      194.0   \n",
              "Ba100Ca99Cu145Hg33O420Pb17                                12.0   \n",
              "Ba1035Ca1035Cu1555Hg375O4104                              12.0   \n",
              "Ba2070Ca2070Cu3110Hg750O8187                              12.0   \n",
              "Ba200Ca200Cu300Hg100O829                                  12.0   \n",
              "...                                                        ...   \n",
              "As9Fe10La10O10P                                           12.0   \n",
              "As200Ca81Ce19Fe100                                       166.0   \n",
              "As18Fe20O20P2Pr13Sr7                                      12.0   \n",
              "AsFe2La2O2P                                               12.0   \n",
              "Al20AsCa40Fe20O60P19                                      12.0   \n",
              "\n",
              "                              avg s valence electrons  \\\n",
              "Components                                              \n",
              "H3S                                          1.250000   \n",
              "Ba100Ca99Cu145Hg33O420Pb17                   1.821867   \n",
              "Ba1035Ca1035Cu1555Hg375O4104                 1.808119   \n",
              "Ba2070Ca2070Cu3110Hg750O8187                 1.807871   \n",
              "Ba200Ca200Cu300Hg100O829                     1.815838   \n",
              "...                                               ...   \n",
              "As9Fe10La10O10P                              2.000000   \n",
              "As200Ca81Ce19Fe100                           2.000000   \n",
              "As18Fe20O20P2Pr13Sr7                         2.000000   \n",
              "AsFe2La2O2P                                  2.000000   \n",
              "Al20AsCa40Fe20O60P19                         2.000000   \n",
              "\n",
              "                              avg p valence electrons  \\\n",
              "Components                                              \n",
              "H3S                                          1.000000   \n",
              "Ba100Ca99Cu145Hg33O420Pb17                   2.105651   \n",
              "Ba1035Ca1035Cu1555Hg375O4104                 2.025666   \n",
              "Ba2070Ca2070Cu3110Hg750O8187                 2.023105   \n",
              "Ba200Ca200Cu300Hg100O829                     2.035605   \n",
              "...                                               ...   \n",
              "As9Fe10La10O10P                              1.750000   \n",
              "As200Ca81Ce19Fe100                           1.500000   \n",
              "As18Fe20O20P2Pr13Sr7                         1.750000   \n",
              "AsFe2La2O2P                                  1.750000   \n",
              "Al20AsCa40Fe20O60P19                         2.000000   \n",
              "\n",
              "                              avg d valence electrons  \\\n",
              "Components                                              \n",
              "H3S                                          0.000000   \n",
              "Ba100Ca99Cu145Hg33O420Pb17                   2.395577   \n",
              "Ba1035Ca1035Cu1555Hg375O4104                 2.381540   \n",
              "Ba2070Ca2070Cu3110Hg750O8187                 2.384630   \n",
              "Ba200Ca200Cu300Hg100O829                     2.455494   \n",
              "...                                               ...   \n",
              "As9Fe10La10O10P                              4.000000   \n",
              "As200Ca81Ce19Fe100                           6.547500   \n",
              "As18Fe20O20P2Pr13Sr7                         3.750000   \n",
              "AsFe2La2O2P                                  3.000000   \n",
              "Al20AsCa40Fe20O60P19                         0.812500   \n",
              "\n",
              "                              avg f valence electrons  compound possible  \\\n",
              "Components                                                                 \n",
              "H3S                                          0.000000              False   \n",
              "Ba100Ca99Cu145Hg33O420Pb17                   0.859951              False   \n",
              "Ba1035Ca1035Cu1555Hg375O4104                 0.647828              False   \n",
              "Ba2070Ca2070Cu3110Hg750O8187                 0.648669              False   \n",
              "Ba200Ca200Cu300Hg100O829                     0.859423              False   \n",
              "...                                               ...                ...   \n",
              "As9Fe10La10O10P                              0.000000               True   \n",
              "As200Ca81Ce19Fe100                           0.047500              False   \n",
              "As18Fe20O20P2Pr13Sr7                         0.487500              False   \n",
              "AsFe2La2O2P                                  0.000000               True   \n",
              "Al20AsCa40Fe20O60P19                         0.000000               True   \n",
              "\n",
              "                              max ionic char  avg ionic char     Tc  \n",
              "Components                                                           \n",
              "H3S                                 0.035456        0.006648  147.0  \n",
              "Ba100Ca99Cu145Hg33O420Pb17          0.803211        0.165437  143.0  \n",
              "Ba1035Ca1035Cu1555Hg375O4104        0.803211        0.167923  135.8  \n",
              "Ba2070Ca2070Cu3110Hg750O8187        0.803211        0.167961  135.4  \n",
              "Ba200Ca200Cu300Hg100O829            0.803211        0.166091  135.0  \n",
              "...                                      ...             ...    ...  \n",
              "As9Fe10La10O10P                     0.745613        0.122382    0.0  \n",
              "As200Ca81Ce19Fe100                  0.293972        0.048801    0.0  \n",
              "As18Fe20O20P2Pr13Sr7                0.787757        0.124658    0.0  \n",
              "AsFe2La2O2P                         0.745613        0.122421    0.0  \n",
              "Al20AsCa40Fe20O60P19                0.774266        0.155667    0.0  \n",
              "\n",
              "[12914 rows x 146 columns]"
            ]
          },
          "execution_count": 134,
          "metadata": {},
          "output_type": "execute_result"
        }
      ],
      "source": [
        "Featurized_data"
      ]
    },
    {
      "cell_type": "markdown",
      "metadata": {
        "id": "Rv8Yr6gDAF5F"
      },
      "source": [
        "### **Data for the report**\n",
        "Each group will perform the excercise with a different dataset. Your dataset will be obtained by picking 2000 rows from the original one (containing 12914 rows). The selection procedure of those rows is randomic; to ensure the *randomness reproducibility* we set a random state. The value of the random state has to be equal to the number of your group."
      ]
    },
    {
      "cell_type": "code",
      "execution_count": null,
      "metadata": {
        "id": "iyOQdwbD7JsZ"
      },
      "outputs": [],
      "source": [
        "# replace 0 with the number of your group\n",
        "Featurized_data = Featurized_data.sample(n=2000, random_state=0)"
      ]
    },
    {
      "cell_type": "code",
      "execution_count": null,
      "metadata": {
        "colab": {
          "base_uri": "https://localhost:8080/",
          "height": 554
        },
        "id": "oVcpdeQm7Vv_",
        "outputId": "a8f08afd-7ae8-41a4-f820-565c6686932a"
      },
      "outputs": [
        {
          "data": {
            "text/html": [
              "\n",
              "  <div id=\"df-105f9c4b-c3b4-469d-ad23-1e8c2df3a7d1\">\n",
              "    <div class=\"colab-df-container\">\n",
              "      <div>\n",
              "<style scoped>\n",
              "    .dataframe tbody tr th:only-of-type {\n",
              "        vertical-align: middle;\n",
              "    }\n",
              "\n",
              "    .dataframe tbody tr th {\n",
              "        vertical-align: top;\n",
              "    }\n",
              "\n",
              "    .dataframe thead th {\n",
              "        text-align: right;\n",
              "    }\n",
              "</style>\n",
              "<table border=\"1\" class=\"dataframe\">\n",
              "  <thead>\n",
              "    <tr style=\"text-align: right;\">\n",
              "      <th></th>\n",
              "      <th>0-norm</th>\n",
              "      <th>2-norm</th>\n",
              "      <th>3-norm</th>\n",
              "      <th>5-norm</th>\n",
              "      <th>7-norm</th>\n",
              "      <th>10-norm</th>\n",
              "      <th>MagpieData minimum Number</th>\n",
              "      <th>MagpieData maximum Number</th>\n",
              "      <th>MagpieData range Number</th>\n",
              "      <th>MagpieData mean Number</th>\n",
              "      <th>...</th>\n",
              "      <th>MagpieData avg_dev SpaceGroupNumber</th>\n",
              "      <th>MagpieData mode SpaceGroupNumber</th>\n",
              "      <th>avg s valence electrons</th>\n",
              "      <th>avg p valence electrons</th>\n",
              "      <th>avg d valence electrons</th>\n",
              "      <th>avg f valence electrons</th>\n",
              "      <th>compound possible</th>\n",
              "      <th>max ionic char</th>\n",
              "      <th>avg ionic char</th>\n",
              "      <th>Tc</th>\n",
              "    </tr>\n",
              "    <tr>\n",
              "      <th>Components</th>\n",
              "      <th></th>\n",
              "      <th></th>\n",
              "      <th></th>\n",
              "      <th></th>\n",
              "      <th></th>\n",
              "      <th></th>\n",
              "      <th></th>\n",
              "      <th></th>\n",
              "      <th></th>\n",
              "      <th></th>\n",
              "      <th></th>\n",
              "      <th></th>\n",
              "      <th></th>\n",
              "      <th></th>\n",
              "      <th></th>\n",
              "      <th></th>\n",
              "      <th></th>\n",
              "      <th></th>\n",
              "      <th></th>\n",
              "      <th></th>\n",
              "      <th></th>\n",
              "    </tr>\n",
              "  </thead>\n",
              "  <tbody>\n",
              "    <tr>\n",
              "      <th>CrV49</th>\n",
              "      <td>2.0</td>\n",
              "      <td>0.980204</td>\n",
              "      <td>0.980003</td>\n",
              "      <td>0.980000</td>\n",
              "      <td>0.980000</td>\n",
              "      <td>0.980000</td>\n",
              "      <td>23.0</td>\n",
              "      <td>24.0</td>\n",
              "      <td>1.0</td>\n",
              "      <td>23.020000</td>\n",
              "      <td>...</td>\n",
              "      <td>0.000000</td>\n",
              "      <td>229.0</td>\n",
              "      <td>1.980000</td>\n",
              "      <td>0.000000</td>\n",
              "      <td>3.040000</td>\n",
              "      <td>0.000000</td>\n",
              "      <td>False</td>\n",
              "      <td>0.000225</td>\n",
              "      <td>0.000004</td>\n",
              "      <td>4.08</td>\n",
              "    </tr>\n",
              "    <tr>\n",
              "      <th>CuS50Ta25</th>\n",
              "      <td>3.0</td>\n",
              "      <td>0.735666</td>\n",
              "      <td>0.684240</td>\n",
              "      <td>0.661956</td>\n",
              "      <td>0.658627</td>\n",
              "      <td>0.657959</td>\n",
              "      <td>16.0</td>\n",
              "      <td>73.0</td>\n",
              "      <td>57.0</td>\n",
              "      <td>34.921053</td>\n",
              "      <td>...</td>\n",
              "      <td>71.502770</td>\n",
              "      <td>70.0</td>\n",
              "      <td>1.986842</td>\n",
              "      <td>2.631579</td>\n",
              "      <td>1.118421</td>\n",
              "      <td>4.605263</td>\n",
              "      <td>False</td>\n",
              "      <td>0.252933</td>\n",
              "      <td>0.055853</td>\n",
              "      <td>4.20</td>\n",
              "    </tr>\n",
              "    <tr>\n",
              "      <th>Ba40Cu20Hg18O87Re2</th>\n",
              "      <td>5.0</td>\n",
              "      <td>0.595711</td>\n",
              "      <td>0.540726</td>\n",
              "      <td>0.523186</td>\n",
              "      <td>0.521284</td>\n",
              "      <td>0.520980</td>\n",
              "      <td>8.0</td>\n",
              "      <td>80.0</td>\n",
              "      <td>72.0</td>\n",
              "      <td>30.574850</td>\n",
              "      <td>...</td>\n",
              "      <td>100.298469</td>\n",
              "      <td>12.0</td>\n",
              "      <td>1.880240</td>\n",
              "      <td>2.083832</td>\n",
              "      <td>2.335329</td>\n",
              "      <td>1.676647</td>\n",
              "      <td>False</td>\n",
              "      <td>0.803211</td>\n",
              "      <td>0.167618</td>\n",
              "      <td>90.50</td>\n",
              "    </tr>\n",
              "    <tr>\n",
              "      <th>C10Ca30Cu20O71</th>\n",
              "      <td>4.0</td>\n",
              "      <td>0.612640</td>\n",
              "      <td>0.559579</td>\n",
              "      <td>0.543633</td>\n",
              "      <td>0.542182</td>\n",
              "      <td>0.541995</td>\n",
              "      <td>6.0</td>\n",
              "      <td>29.0</td>\n",
              "      <td>23.0</td>\n",
              "      <td>13.801527</td>\n",
              "      <td>...</td>\n",
              "      <td>103.183964</td>\n",
              "      <td>12.0</td>\n",
              "      <td>1.847328</td>\n",
              "      <td>2.320611</td>\n",
              "      <td>1.526718</td>\n",
              "      <td>0.000000</td>\n",
              "      <td>False</td>\n",
              "      <td>0.774266</td>\n",
              "      <td>0.156015</td>\n",
              "      <td>47.00</td>\n",
              "    </tr>\n",
              "    <tr>\n",
              "      <th>As125Fe125O112Pr125</th>\n",
              "      <td>4.0</td>\n",
              "      <td>0.500534</td>\n",
              "      <td>0.397682</td>\n",
              "      <td>0.331205</td>\n",
              "      <td>0.306518</td>\n",
              "      <td>0.289515</td>\n",
              "      <td>8.0</td>\n",
              "      <td>59.0</td>\n",
              "      <td>51.0</td>\n",
              "      <td>32.127310</td>\n",
              "      <td>...</td>\n",
              "      <td>65.286779</td>\n",
              "      <td>166.0</td>\n",
              "      <td>2.000000</td>\n",
              "      <td>1.689938</td>\n",
              "      <td>4.106776</td>\n",
              "      <td>0.770021</td>\n",
              "      <td>False</td>\n",
              "      <td>0.736585</td>\n",
              "      <td>0.116425</td>\n",
              "      <td>44.40</td>\n",
              "    </tr>\n",
              "    <tr>\n",
              "      <th>...</th>\n",
              "      <td>...</td>\n",
              "      <td>...</td>\n",
              "      <td>...</td>\n",
              "      <td>...</td>\n",
              "      <td>...</td>\n",
              "      <td>...</td>\n",
              "      <td>...</td>\n",
              "      <td>...</td>\n",
              "      <td>...</td>\n",
              "      <td>...</td>\n",
              "      <td>...</td>\n",
              "      <td>...</td>\n",
              "      <td>...</td>\n",
              "      <td>...</td>\n",
              "      <td>...</td>\n",
              "      <td>...</td>\n",
              "      <td>...</td>\n",
              "      <td>...</td>\n",
              "      <td>...</td>\n",
              "      <td>...</td>\n",
              "      <td>...</td>\n",
              "    </tr>\n",
              "    <tr>\n",
              "      <th>As50Rh21Ru29</th>\n",
              "      <td>3.0</td>\n",
              "      <td>0.614980</td>\n",
              "      <td>0.541352</td>\n",
              "      <td>0.507634</td>\n",
              "      <td>0.501724</td>\n",
              "      <td>0.500223</td>\n",
              "      <td>33.0</td>\n",
              "      <td>45.0</td>\n",
              "      <td>12.0</td>\n",
              "      <td>38.710000</td>\n",
              "      <td>...</td>\n",
              "      <td>20.510000</td>\n",
              "      <td>166.0</td>\n",
              "      <td>1.500000</td>\n",
              "      <td>1.500000</td>\n",
              "      <td>8.710000</td>\n",
              "      <td>0.000000</td>\n",
              "      <td>True</td>\n",
              "      <td>0.002497</td>\n",
              "      <td>0.000374</td>\n",
              "      <td>0.68</td>\n",
              "    </tr>\n",
              "    <tr>\n",
              "      <th>Ga9SnV30</th>\n",
              "      <td>3.0</td>\n",
              "      <td>0.783422</td>\n",
              "      <td>0.756699</td>\n",
              "      <td>0.750364</td>\n",
              "      <td>0.750023</td>\n",
              "      <td>0.750000</td>\n",
              "      <td>23.0</td>\n",
              "      <td>50.0</td>\n",
              "      <td>27.0</td>\n",
              "      <td>25.475000</td>\n",
              "      <td>...</td>\n",
              "      <td>58.987500</td>\n",
              "      <td>229.0</td>\n",
              "      <td>2.000000</td>\n",
              "      <td>0.275000</td>\n",
              "      <td>4.750000</td>\n",
              "      <td>0.000000</td>\n",
              "      <td>False</td>\n",
              "      <td>0.026858</td>\n",
              "      <td>0.001896</td>\n",
              "      <td>10.70</td>\n",
              "    </tr>\n",
              "    <tr>\n",
              "      <th>Bi2FLaOS4Sm</th>\n",
              "      <td>6.0</td>\n",
              "      <td>0.489898</td>\n",
              "      <td>0.423582</td>\n",
              "      <td>0.402774</td>\n",
              "      <td>0.400459</td>\n",
              "      <td>0.400039</td>\n",
              "      <td>8.0</td>\n",
              "      <td>83.0</td>\n",
              "      <td>75.0</td>\n",
              "      <td>36.600000</td>\n",
              "      <td>...</td>\n",
              "      <td>45.080000</td>\n",
              "      <td>70.0</td>\n",
              "      <td>2.000000</td>\n",
              "      <td>3.100000</td>\n",
              "      <td>2.100000</td>\n",
              "      <td>3.400000</td>\n",
              "      <td>False</td>\n",
              "      <td>0.874268</td>\n",
              "      <td>0.120964</td>\n",
              "      <td>4.05</td>\n",
              "    </tr>\n",
              "    <tr>\n",
              "      <th>Bi10La7O10S20Th3</th>\n",
              "      <td>5.0</td>\n",
              "      <td>0.513030</td>\n",
              "      <td>0.436137</td>\n",
              "      <td>0.405285</td>\n",
              "      <td>0.400923</td>\n",
              "      <td>0.400079</td>\n",
              "      <td>8.0</td>\n",
              "      <td>90.0</td>\n",
              "      <td>82.0</td>\n",
              "      <td>37.980000</td>\n",
              "      <td>...</td>\n",
              "      <td>51.936000</td>\n",
              "      <td>70.0</td>\n",
              "      <td>2.000000</td>\n",
              "      <td>3.000000</td>\n",
              "      <td>2.260000</td>\n",
              "      <td>2.800000</td>\n",
              "      <td>False</td>\n",
              "      <td>0.745613</td>\n",
              "      <td>0.102995</td>\n",
              "      <td>2.04</td>\n",
              "    </tr>\n",
              "    <tr>\n",
              "      <th>Ce3Cu20La20O80Pr17</th>\n",
              "      <td>5.0</td>\n",
              "      <td>0.618507</td>\n",
              "      <td>0.579115</td>\n",
              "      <td>0.571701</td>\n",
              "      <td>0.571440</td>\n",
              "      <td>0.571429</td>\n",
              "      <td>8.0</td>\n",
              "      <td>59.0</td>\n",
              "      <td>51.0</td>\n",
              "      <td>25.264286</td>\n",
              "      <td>...</td>\n",
              "      <td>94.204082</td>\n",
              "      <td>12.0</td>\n",
              "      <td>1.857143</td>\n",
              "      <td>2.285714</td>\n",
              "      <td>1.592857</td>\n",
              "      <td>0.385714</td>\n",
              "      <td>True</td>\n",
              "      <td>0.745613</td>\n",
              "      <td>0.163389</td>\n",
              "      <td>24.00</td>\n",
              "    </tr>\n",
              "  </tbody>\n",
              "</table>\n",
              "<p>2000 rows × 146 columns</p>\n",
              "</div>\n",
              "      <button class=\"colab-df-convert\" onclick=\"convertToInteractive('df-105f9c4b-c3b4-469d-ad23-1e8c2df3a7d1')\"\n",
              "              title=\"Convert this dataframe to an interactive table.\"\n",
              "              style=\"display:none;\">\n",
              "        \n",
              "  <svg xmlns=\"http://www.w3.org/2000/svg\" height=\"24px\"viewBox=\"0 0 24 24\"\n",
              "       width=\"24px\">\n",
              "    <path d=\"M0 0h24v24H0V0z\" fill=\"none\"/>\n",
              "    <path d=\"M18.56 5.44l.94 2.06.94-2.06 2.06-.94-2.06-.94-.94-2.06-.94 2.06-2.06.94zm-11 1L8.5 8.5l.94-2.06 2.06-.94-2.06-.94L8.5 2.5l-.94 2.06-2.06.94zm10 10l.94 2.06.94-2.06 2.06-.94-2.06-.94-.94-2.06-.94 2.06-2.06.94z\"/><path d=\"M17.41 7.96l-1.37-1.37c-.4-.4-.92-.59-1.43-.59-.52 0-1.04.2-1.43.59L10.3 9.45l-7.72 7.72c-.78.78-.78 2.05 0 2.83L4 21.41c.39.39.9.59 1.41.59.51 0 1.02-.2 1.41-.59l7.78-7.78 2.81-2.81c.8-.78.8-2.07 0-2.86zM5.41 20L4 18.59l7.72-7.72 1.47 1.35L5.41 20z\"/>\n",
              "  </svg>\n",
              "      </button>\n",
              "      \n",
              "  <style>\n",
              "    .colab-df-container {\n",
              "      display:flex;\n",
              "      flex-wrap:wrap;\n",
              "      gap: 12px;\n",
              "    }\n",
              "\n",
              "    .colab-df-convert {\n",
              "      background-color: #E8F0FE;\n",
              "      border: none;\n",
              "      border-radius: 50%;\n",
              "      cursor: pointer;\n",
              "      display: none;\n",
              "      fill: #1967D2;\n",
              "      height: 32px;\n",
              "      padding: 0 0 0 0;\n",
              "      width: 32px;\n",
              "    }\n",
              "\n",
              "    .colab-df-convert:hover {\n",
              "      background-color: #E2EBFA;\n",
              "      box-shadow: 0px 1px 2px rgba(60, 64, 67, 0.3), 0px 1px 3px 1px rgba(60, 64, 67, 0.15);\n",
              "      fill: #174EA6;\n",
              "    }\n",
              "\n",
              "    [theme=dark] .colab-df-convert {\n",
              "      background-color: #3B4455;\n",
              "      fill: #D2E3FC;\n",
              "    }\n",
              "\n",
              "    [theme=dark] .colab-df-convert:hover {\n",
              "      background-color: #434B5C;\n",
              "      box-shadow: 0px 1px 3px 1px rgba(0, 0, 0, 0.15);\n",
              "      filter: drop-shadow(0px 1px 2px rgba(0, 0, 0, 0.3));\n",
              "      fill: #FFFFFF;\n",
              "    }\n",
              "  </style>\n",
              "\n",
              "      <script>\n",
              "        const buttonEl =\n",
              "          document.querySelector('#df-105f9c4b-c3b4-469d-ad23-1e8c2df3a7d1 button.colab-df-convert');\n",
              "        buttonEl.style.display =\n",
              "          google.colab.kernel.accessAllowed ? 'block' : 'none';\n",
              "\n",
              "        async function convertToInteractive(key) {\n",
              "          const element = document.querySelector('#df-105f9c4b-c3b4-469d-ad23-1e8c2df3a7d1');\n",
              "          const dataTable =\n",
              "            await google.colab.kernel.invokeFunction('convertToInteractive',\n",
              "                                                     [key], {});\n",
              "          if (!dataTable) return;\n",
              "\n",
              "          const docLinkHtml = 'Like what you see? Visit the ' +\n",
              "            '<a target=\"_blank\" href=https://colab.research.google.com/notebooks/data_table.ipynb>data table notebook</a>'\n",
              "            + ' to learn more about interactive tables.';\n",
              "          element.innerHTML = '';\n",
              "          dataTable['output_type'] = 'display_data';\n",
              "          await google.colab.output.renderOutput(dataTable, element);\n",
              "          const docLink = document.createElement('div');\n",
              "          docLink.innerHTML = docLinkHtml;\n",
              "          element.appendChild(docLink);\n",
              "        }\n",
              "      </script>\n",
              "    </div>\n",
              "  </div>\n",
              "  "
            ],
            "text/plain": [
              "                     0-norm    2-norm    3-norm    5-norm    7-norm   10-norm  \\\n",
              "Components                                                                      \n",
              "CrV49                   2.0  0.980204  0.980003  0.980000  0.980000  0.980000   \n",
              "CuS50Ta25               3.0  0.735666  0.684240  0.661956  0.658627  0.657959   \n",
              "Ba40Cu20Hg18O87Re2      5.0  0.595711  0.540726  0.523186  0.521284  0.520980   \n",
              "C10Ca30Cu20O71          4.0  0.612640  0.559579  0.543633  0.542182  0.541995   \n",
              "As125Fe125O112Pr125     4.0  0.500534  0.397682  0.331205  0.306518  0.289515   \n",
              "...                     ...       ...       ...       ...       ...       ...   \n",
              "As50Rh21Ru29            3.0  0.614980  0.541352  0.507634  0.501724  0.500223   \n",
              "Ga9SnV30                3.0  0.783422  0.756699  0.750364  0.750023  0.750000   \n",
              "Bi2FLaOS4Sm             6.0  0.489898  0.423582  0.402774  0.400459  0.400039   \n",
              "Bi10La7O10S20Th3        5.0  0.513030  0.436137  0.405285  0.400923  0.400079   \n",
              "Ce3Cu20La20O80Pr17      5.0  0.618507  0.579115  0.571701  0.571440  0.571429   \n",
              "\n",
              "                     MagpieData minimum Number  MagpieData maximum Number  \\\n",
              "Components                                                                  \n",
              "CrV49                                     23.0                       24.0   \n",
              "CuS50Ta25                                 16.0                       73.0   \n",
              "Ba40Cu20Hg18O87Re2                         8.0                       80.0   \n",
              "C10Ca30Cu20O71                             6.0                       29.0   \n",
              "As125Fe125O112Pr125                        8.0                       59.0   \n",
              "...                                        ...                        ...   \n",
              "As50Rh21Ru29                              33.0                       45.0   \n",
              "Ga9SnV30                                  23.0                       50.0   \n",
              "Bi2FLaOS4Sm                                8.0                       83.0   \n",
              "Bi10La7O10S20Th3                           8.0                       90.0   \n",
              "Ce3Cu20La20O80Pr17                         8.0                       59.0   \n",
              "\n",
              "                     MagpieData range Number  MagpieData mean Number  ...  \\\n",
              "Components                                                            ...   \n",
              "CrV49                                    1.0               23.020000  ...   \n",
              "CuS50Ta25                               57.0               34.921053  ...   \n",
              "Ba40Cu20Hg18O87Re2                      72.0               30.574850  ...   \n",
              "C10Ca30Cu20O71                          23.0               13.801527  ...   \n",
              "As125Fe125O112Pr125                     51.0               32.127310  ...   \n",
              "...                                      ...                     ...  ...   \n",
              "As50Rh21Ru29                            12.0               38.710000  ...   \n",
              "Ga9SnV30                                27.0               25.475000  ...   \n",
              "Bi2FLaOS4Sm                             75.0               36.600000  ...   \n",
              "Bi10La7O10S20Th3                        82.0               37.980000  ...   \n",
              "Ce3Cu20La20O80Pr17                      51.0               25.264286  ...   \n",
              "\n",
              "                     MagpieData avg_dev SpaceGroupNumber  \\\n",
              "Components                                                 \n",
              "CrV49                                           0.000000   \n",
              "CuS50Ta25                                      71.502770   \n",
              "Ba40Cu20Hg18O87Re2                            100.298469   \n",
              "C10Ca30Cu20O71                                103.183964   \n",
              "As125Fe125O112Pr125                            65.286779   \n",
              "...                                                  ...   \n",
              "As50Rh21Ru29                                   20.510000   \n",
              "Ga9SnV30                                       58.987500   \n",
              "Bi2FLaOS4Sm                                    45.080000   \n",
              "Bi10La7O10S20Th3                               51.936000   \n",
              "Ce3Cu20La20O80Pr17                             94.204082   \n",
              "\n",
              "                     MagpieData mode SpaceGroupNumber  \\\n",
              "Components                                              \n",
              "CrV49                                           229.0   \n",
              "CuS50Ta25                                        70.0   \n",
              "Ba40Cu20Hg18O87Re2                               12.0   \n",
              "C10Ca30Cu20O71                                   12.0   \n",
              "As125Fe125O112Pr125                             166.0   \n",
              "...                                               ...   \n",
              "As50Rh21Ru29                                    166.0   \n",
              "Ga9SnV30                                        229.0   \n",
              "Bi2FLaOS4Sm                                      70.0   \n",
              "Bi10La7O10S20Th3                                 70.0   \n",
              "Ce3Cu20La20O80Pr17                               12.0   \n",
              "\n",
              "                     avg s valence electrons  avg p valence electrons  \\\n",
              "Components                                                              \n",
              "CrV49                               1.980000                 0.000000   \n",
              "CuS50Ta25                           1.986842                 2.631579   \n",
              "Ba40Cu20Hg18O87Re2                  1.880240                 2.083832   \n",
              "C10Ca30Cu20O71                      1.847328                 2.320611   \n",
              "As125Fe125O112Pr125                 2.000000                 1.689938   \n",
              "...                                      ...                      ...   \n",
              "As50Rh21Ru29                        1.500000                 1.500000   \n",
              "Ga9SnV30                            2.000000                 0.275000   \n",
              "Bi2FLaOS4Sm                         2.000000                 3.100000   \n",
              "Bi10La7O10S20Th3                    2.000000                 3.000000   \n",
              "Ce3Cu20La20O80Pr17                  1.857143                 2.285714   \n",
              "\n",
              "                     avg d valence electrons  avg f valence electrons  \\\n",
              "Components                                                              \n",
              "CrV49                               3.040000                 0.000000   \n",
              "CuS50Ta25                           1.118421                 4.605263   \n",
              "Ba40Cu20Hg18O87Re2                  2.335329                 1.676647   \n",
              "C10Ca30Cu20O71                      1.526718                 0.000000   \n",
              "As125Fe125O112Pr125                 4.106776                 0.770021   \n",
              "...                                      ...                      ...   \n",
              "As50Rh21Ru29                        8.710000                 0.000000   \n",
              "Ga9SnV30                            4.750000                 0.000000   \n",
              "Bi2FLaOS4Sm                         2.100000                 3.400000   \n",
              "Bi10La7O10S20Th3                    2.260000                 2.800000   \n",
              "Ce3Cu20La20O80Pr17                  1.592857                 0.385714   \n",
              "\n",
              "                     compound possible  max ionic char  avg ionic char     Tc  \n",
              "Components                                                                     \n",
              "CrV49                            False        0.000225        0.000004   4.08  \n",
              "CuS50Ta25                        False        0.252933        0.055853   4.20  \n",
              "Ba40Cu20Hg18O87Re2               False        0.803211        0.167618  90.50  \n",
              "C10Ca30Cu20O71                   False        0.774266        0.156015  47.00  \n",
              "As125Fe125O112Pr125              False        0.736585        0.116425  44.40  \n",
              "...                                ...             ...             ...    ...  \n",
              "As50Rh21Ru29                      True        0.002497        0.000374   0.68  \n",
              "Ga9SnV30                         False        0.026858        0.001896  10.70  \n",
              "Bi2FLaOS4Sm                      False        0.874268        0.120964   4.05  \n",
              "Bi10La7O10S20Th3                 False        0.745613        0.102995   2.04  \n",
              "Ce3Cu20La20O80Pr17                True        0.745613        0.163389  24.00  \n",
              "\n",
              "[2000 rows x 146 columns]"
            ]
          },
          "execution_count": 136,
          "metadata": {},
          "output_type": "execute_result"
        }
      ],
      "source": [
        "Featurized_data"
      ]
    },
    {
      "cell_type": "markdown",
      "metadata": {
        "id": "lsstDKLoCNaB"
      },
      "source": [
        "## Machine Learning\n",
        "In this section we train and validate a Random Forest Regressor for constructing a model which predicts the critical temperature of materials, on the basis of their chemical composition."
      ]
    },
    {
      "cell_type": "markdown",
      "metadata": {
        "id": "Qcdya8AIC2cW"
      },
      "source": [
        "#### **Training and testing sets**\n",
        "We split the 2000 rows long dataset (obtained in the previous section) in a training set (80% of 2000 rows = 1600 rows) and a testing set (20% of 2000 rows = 400 rows). The split is randomic. To ensure *randomness reproducibility* we set the usual random state. The value of the random state has to be equal to the number of your group."
      ]
    },
    {
      "cell_type": "code",
      "execution_count": null,
      "metadata": {
        "id": "fwavCrnI5dd0"
      },
      "outputs": [],
      "source": [
        "# replace 0 with the number of your group\n",
        "train_df, test_df = train_test_split(\n",
        "    Featurized_data, test_size=0.2, random_state=0\n",
        ")  # split data in training set (80% of the dataset) and testing set (20% of the dataset)"
      ]
    },
    {
      "cell_type": "markdown",
      "metadata": {
        "id": "GWKIEdwRD-Gj"
      },
      "source": [
        "#### **Machine Learning model definition**\n",
        "As Machine Learning model for doing regression we choose a Random Forest Regressor.\n",
        "\n",
        "* Since it is affected by randomness, we set the usual random state (it has to be equal to the number of your group).\n",
        "\n",
        "* The only hyperparameter we consider is the number of estimators (number of trees is the forest). It has to be equal to 100"
      ]
    },
    {
      "cell_type": "code",
      "execution_count": null,
      "metadata": {
        "id": "K81kHs0F76Of"
      },
      "outputs": [],
      "source": [
        "rf = RandomForestRegressor(random_state=0, n_estimators=100)"
      ]
    },
    {
      "cell_type": "markdown",
      "metadata": {
        "id": "JmltcRgsIvBV"
      },
      "source": [
        "#### **Model training**\n",
        "We effectively train the model rf (defined in the previous cell) with the command ```rf.fit(X_training_set, y_training_set)```\n",
        "\n"
      ]
    },
    {
      "cell_type": "code",
      "execution_count": null,
      "metadata": {
        "colab": {
          "base_uri": "https://localhost:8080/"
        },
        "id": "2PhT4LXP8IA6",
        "outputId": "505a26d5-7f99-408f-f824-5a3997dcbe93"
      },
      "outputs": [
        {
          "data": {
            "text/plain": [
              "RandomForestRegressor(bootstrap=True, ccp_alpha=0.0, criterion='mse',\n",
              "                      max_depth=None, max_features='auto', max_leaf_nodes=None,\n",
              "                      max_samples=None, min_impurity_decrease=0.0,\n",
              "                      min_impurity_split=None, min_samples_leaf=1,\n",
              "                      min_samples_split=2, min_weight_fraction_leaf=0.0,\n",
              "                      n_estimators=100, n_jobs=None, oob_score=False,\n",
              "                      random_state=0, verbose=0, warm_start=False)"
            ]
          },
          "execution_count": 139,
          "metadata": {},
          "output_type": "execute_result"
        }
      ],
      "source": [
        "rf.fit(train_df.iloc[:, :-1], train_df.iloc[:, -1])"
      ]
    },
    {
      "cell_type": "markdown",
      "metadata": {
        "id": "HYukv4bMig_c"
      },
      "source": [
        "#### **Model performances**\n",
        "We compare the real critical temperature of the materials in the testing set, with the corresponding values predicted by the trained model.\n",
        "We check those performances by means of three measures:\n",
        "* coefficient of determination $R^2$, defined as\n",
        "\\begin{equation}\n",
        "R^2(\\mathbf{y}, {\\mathbf{\\hat{y}}}) = 1-\\frac{\\sum_{i=1}^k(y_i-\\hat{y_i})^2}{\\sum_{i=1}^k(y_i-\\overline{y})^2}\n",
        "\\end{equation}\n",
        "where $\\mathbf{y}$ is the $k-$dimensional vector of real values, $\\mathbf{\\hat{y}}$ is the $k-$dimensional vector of predicted values, $\\overline{y}=k^{-1}∑_{i=1}^ky_i$ is the average over real values. $R^2= 1$ if the prediction is perfect (i.e., all the red dots are on the blue line, with $y_i=\\hat{y_i}, \\forall i\\in[1,\\dots, k]$).\n",
        "\n",
        "* Mean Absolute Error $\\mathrm{MAE}$, defined as\n",
        "\\begin{equation}\n",
        "\\mathrm{MAE}(\\mathbf{y}, {\\mathbf{\\hat{y}}}) = \\frac{1}{k}\\sum_{i=1}^k|y_i - \\hat{y_i}|\n",
        "\\end{equation}\n",
        "with the same meaning of the notation.\n",
        "\n",
        "* Root Mean Squared Error $\\mathrm{RMSE}$\n",
        "\\begin{equation}\n",
        "\\mathrm{RMSE}(\\mathbf{y}, {\\mathbf{\\hat{y}}}) = \\left(\\frac{1}{k}\\sum_{i=1}^k(y_i - \\hat{y_i})^2 \\right)^{1/2}\n",
        "\\end{equation}\n",
        "with the same meaning of the notation.\n",
        "\n",
        "In our case, $k$ is the length (i.e., the number of materials) of the testing set."
      ]
    },
    {
      "cell_type": "code",
      "execution_count": null,
      "metadata": {
        "colab": {
          "base_uri": "https://localhost:8080/",
          "height": 568
        },
        "id": "CUvMrcvv8Voc",
        "outputId": "e04e5c57-12f0-47b9-e596-f7b22b63a3b4"
      },
      "outputs": [
        {
          "data": {
            "image/png": "[encoded data removed]",
            "text/plain": [
              "<Figure size 570x570 with 1 Axes>"
            ]
          },
          "metadata": {
            "needs_background": "light"
          },
          "output_type": "display_data"
        }
      ],
      "source": [
        "test_predictions = rf.predict(\n",
        "    test_df.iloc[:, :-1]\n",
        ")  # Predicted y over samples of the testing set\n",
        "test_labels = test_df.iloc[:, -1].values  # True y over samples of the testing set\n",
        "\n",
        "r2 = sklearn.metrics.r2_score(\n",
        "    test_labels, test_predictions\n",
        ")  # coefficient of determination\n",
        "mae = mean_absolute_error(test_labels, test_predictions)  # mean absolute error\n",
        "rmse = np.sqrt(\n",
        "    mean_squared_error(test_labels, test_predictions)\n",
        ")  # root mean squared error\n",
        "delta = max(test_labels) - min(test_labels)\n",
        "\n",
        "import matplotlib.pyplot as plt\n",
        "\n",
        "plt.figure(figsize=(3, 3), dpi=190)\n",
        "plt.scatter(test_labels, test_predictions, c=\"crimson\", alpha=0.2)\n",
        "p1 = max(max(test_predictions), max(test_labels))\n",
        "p2 = min(min(test_predictions), min(test_labels))\n",
        "plt.plot([p1, p2], [p1, p2], \"b-\")\n",
        "plt.annotate(\n",
        "    \"$R^2$ = %0.3f\" % r2,\n",
        "    xy=(0.02 * delta, 0.95 * delta),\n",
        "    xytext=(0.02 * delta, 0.95 * delta),\n",
        ")\n",
        "plt.annotate(\n",
        "    \"MAE = %0.2f K\" % mae,\n",
        "    xy=(0.02 * delta, 0.85 * delta),\n",
        "    xytext=(0.02 * delta, 0.85 * delta),\n",
        ")\n",
        "plt.annotate(\n",
        "    \"RMSE = %0.2f K\" % rmse,\n",
        "    xy=(0.02 * delta, 0.75 * delta),\n",
        "    xytext=(0.02 * delta, 0.75 * delta),\n",
        ")\n",
        "plt.xlabel(r\"True $T_\\mathrm{c}$ (K)\")\n",
        "plt.ylabel(r\"Predicted $T_\\mathrm{c}$ (K)\")\n",
        "plt.show()"
      ]
    },
    {
      "cell_type": "markdown",
      "metadata": {
        "id": "aS5lBPy_9oIy"
      },
      "source": [
        "## Interpretability\n",
        "Thanks to the TreeSHAP algorithm, we can find the most relevant features, ranking them in terms of importance with respect to the output."
      ]
    },
    {
      "cell_type": "code",
      "execution_count": null,
      "metadata": {
        "id": "xv7w7oJk9qDN"
      },
      "outputs": [],
      "source": [
        "explainer = shap.TreeExplainer(rf)\n",
        "shap_values = explainer.shap_values(test_df.iloc[:, :-1])"
      ]
    },
    {
      "cell_type": "markdown",
      "metadata": {
        "id": "cnD2_MJdwj7g"
      },
      "source": [
        "#### **Cumulative of normalized feature importances**\n",
        "We produce the cumulative curve of normalized importances. The number of features explaining the 75% of the model is shown. "
      ]
    },
    {
      "cell_type": "code",
      "execution_count": null,
      "metadata": {
        "colab": {
          "base_uri": "https://localhost:8080/",
          "height": 566
        },
        "id": "lD3-Yk7-9xHO",
        "outputId": "ae8d2019-76c7-4f24-9f56-6a20a8d85e2b"
      },
      "outputs": [
        {
          "data": {
            "image/png": "[encoded data removed]",
            "text/plain": [
              "<Figure size 570x570 with 1 Axes>"
            ]
          },
          "metadata": {
            "needs_background": "light"
          },
          "output_type": "display_data"
        }
      ],
      "source": [
        "N = np.shape(test_df.iloc[:, :-1])[1]\n",
        "k = 0.75\n",
        "import matplotlib.pyplot as plt\n",
        "\n",
        "cumsum = np.cumsum(np.sort(np.mean(abs(shap_values), axis=0))[::-1])\n",
        "normalized_cumulative = np.cumsum(np.sort(np.mean(abs(shap_values), axis=0))[::-1]) / (\n",
        "    np.max(np.cumsum(np.sort(np.mean(abs(shap_values), axis=0))[::-1]))\n",
        ")\n",
        "\n",
        "\n",
        "fig, ax = plt.subplots(figsize=(3, 3), dpi=190)\n",
        "ax.plot(np.arange(N), normalized_cumulative)\n",
        "ax.plot(np.arange(N), k * np.ones(N))\n",
        "ind_cross1 = np.argmin(\n",
        "    np.fabs(normalized_cumulative - k * max(normalized_cumulative) * np.ones(N))\n",
        ")\n",
        "# plt.yticks(np.array([0, 0.5, 1]))\n",
        "\n",
        "ax.annotate(\n",
        "    \"%i features\" % (ind_cross1 + 1),\n",
        "    xy=(ind_cross1 + 1, 0.01),\n",
        "    xytext=(ind_cross1 + 10, 0.2),\n",
        "    arrowprops=dict(facecolor=\"black\", shrink=0.000005, width=0.1, headwidth=4),\n",
        ")\n",
        "ax.annotate(\n",
        "    \"75% of\\nthe maximum\",\n",
        "    xy=(70, 0.73),\n",
        "    xytext=(80, 0.45),\n",
        "    arrowprops=dict(facecolor=\"black\", shrink=0.0005, width=0.1, headwidth=4),\n",
        ")\n",
        "plt.scatter(ind_cross1, normalized_cumulative[ind_cross1], color=\"orange\")\n",
        "plt.plot(\n",
        "    (ind_cross1, ind_cross1),\n",
        "    (normalized_cumulative[ind_cross1], 0),\n",
        "    color=\"orange\",\n",
        "    ls=\":\",\n",
        ")\n",
        "plt.ylim(0, 1.04)\n",
        "plt.xlabel(\"Features\")\n",
        "plt.ylabel(\"Normalized\\ncumulative importance\")\n",
        "plt.show()"
      ]
    },
    {
      "cell_type": "markdown",
      "metadata": {
        "id": "k0TVTVPAxga2"
      },
      "source": [
        "#### **Ranking of normalized feature importances**\n",
        "We produce the dataset \"Output_mean_shap\" containing the list of features sorted in terms of the corresponding importance. Sum of importances is 1."
      ]
    },
    {
      "cell_type": "code",
      "execution_count": null,
      "metadata": {
        "id": "H6X_BjiG-SHE"
      },
      "outputs": [],
      "source": [
        "Output_shap = pd.DataFrame(\n",
        "    shap_values, index=test_df.iloc[:, :-1].index, columns=test_df.iloc[:, :-1].columns\n",
        ")\n",
        "Output_mean_shap = pd.DataFrame(\n",
        "    abs(Output_shap).describe().loc[\"mean\"]\n",
        "    / sum(abs(Output_shap).describe().loc[\"mean\"])\n",
        ").sort_values(\"mean\", ascending=False)"
      ]
    },
    {
      "cell_type": "code",
      "execution_count": null,
      "metadata": {
        "id": "TdH63GtL_sQF"
      },
      "outputs": [],
      "source": [
        "Output_mean_shap.to_excel(\n",
        "    \"Output_mean_shap.xlsx\"\n",
        ")  # list of the features ranked in terms of importance (importances sum up to 1)"
      ]
    },
    {
      "cell_type": "markdown",
      "metadata": {
        "id": "cWMR8AtlCQqI"
      },
      "source": [
        "## Sequential Learning\n",
        "We compare three Sequential Learning acquisition functions to choose the next material to be tested, starting from an initial pool of known materials. \n",
        "\n",
        "As regression methodology over the training set, we consider the Random Forest Regressor by lolopy (which has nothing to do with the random forest regressor used for the predictive model in the previous sections)."
      ]
    },
    {
      "cell_type": "code",
      "execution_count": null,
      "metadata": {
        "colab": {
          "base_uri": "https://localhost:8080/"
        },
        "id": "5OU7UAQMCSjv",
        "outputId": "26277508-da08-46ab-d6ab-aaefbfeecc6d"
      },
      "outputs": [
        {
          "name": "stdout",
          "output_type": "stream",
          "text": [
            "Requirement already satisfied: lolopy in /usr/local/lib/python3.7/dist-packages (1.3.0)\n",
            "Requirement already satisfied: scikit-learn in /usr/local/lib/python3.7/dist-packages (from lolopy) (0.22.2)\n",
            "Requirement already satisfied: py4j in /usr/local/lib/python3.7/dist-packages (from lolopy) (0.10.9.5)\n",
            "Requirement already satisfied: joblib>=0.11 in /usr/local/lib/python3.7/dist-packages (from scikit-learn->lolopy) (1.1.0)\n",
            "Requirement already satisfied: numpy>=1.11.0 in /usr/local/lib/python3.7/dist-packages (from scikit-learn->lolopy) (1.21.6)\n",
            "Requirement already satisfied: scipy>=0.17.0 in /usr/local/lib/python3.7/dist-packages (from scikit-learn->lolopy) (1.4.1)\n"
          ]
        }
      ],
      "source": [
        "%pip install lolopy"
      ]
    },
    {
      "cell_type": "code",
      "execution_count": null,
      "metadata": {
        "id": "9stSxxOVCWLz"
      },
      "outputs": [],
      "source": [
        "import tqdm\n",
        "from lolopy.learners import RandomForestRegressor"
      ]
    },
    {
      "cell_type": "code",
      "execution_count": null,
      "metadata": {
        "id": "Tb8wRb_qCavy"
      },
      "outputs": [],
      "source": [
        "def MEI(X: np.ndarray, y: np.ndarray, n_steps: int) -> int:\n",
        "    \"\"\"Acquisition functions MEI.\n",
        "\n",
        "    Args:\n",
        "        X (numpy.ndarray): matrix with n rows (number of total materials for\n",
        "            which doing the SL, in our case 100) and d columns (number of features\n",
        "            taken into account for the optimization)\n",
        "        y (numpy.ndarray): vector with n rows (target property)\n",
        "        n_steps (int): number of steps allowed for doing SL (in our case,\n",
        "            100 total materials - 50 materials in the initial training set\n",
        "            = maximum 50 steps to find the optimum)\n",
        "\n",
        "    Returns:\n",
        "        int: the index of the chosen material\n",
        "    \"\"\"\n",
        "\n",
        "    arr = y\n",
        "    minima = arr.argsort()[0:50]\n",
        "    in_train = np.zeros(len(X), dtype=np.bool)\n",
        "    in_train[minima] = True\n",
        "\n",
        "    all_inds = set(range(len(y)))\n",
        "    F = np.zeros(n_steps)\n",
        "    G = np.zeros(n_steps)\n",
        "    mei_train = [list(set(np.where(in_train)[0].tolist()))]\n",
        "    mei_train_inds = []\n",
        "\n",
        "    T = 10\n",
        "\n",
        "    for i in tqdm.tqdm(range(n_steps)):\n",
        "        mei_train_inds = mei_train[-1].copy()\n",
        "        mei_search_inds = list(all_inds.difference(mei_train_inds))\n",
        "\n",
        "        mei_selection_index = []\n",
        "        for j in range(T):\n",
        "            model.fit(X[mei_train_inds], y[mei_train_inds])\n",
        "            mei_y_pred_prov = model.predict(X[mei_search_inds])\n",
        "            mei_selection_index.append(np.argmax(mei_y_pred_prov))\n",
        "\n",
        "        mei_index_G = max(set(mei_selection_index), key=mei_selection_index.count)\n",
        "        mei_index = mei_search_inds[mei_index_G]  # Pick the most preferred entry\n",
        "        mei_train_inds.append(mei_search_inds[mei_index_G])\n",
        "        mei_train.append(mei_train_inds)\n",
        "        G[i] = mei_index\n",
        "        F[i] = mei_train_inds[-1]\n",
        "        if mei_train_inds[-1] == np.argmax(y):\n",
        "            break\n",
        "\n",
        "    return F\n",
        "\n",
        "\n",
        "def MLI(X: np.ndarray, y: np.ndarray, n_steps: int) -> int:\n",
        "    \"\"\"Acquisition functions MLI.\n",
        "\n",
        "    Args:\n",
        "        X (numpy.ndarray): matrix with n rows (number of total materials for\n",
        "            which doing the SL, in our case 100) and d columns (number of features\n",
        "            taken into account for the optimization)\n",
        "        y (numpy.ndarray): vector with n rows (target property)\n",
        "        n_steps (int): number of steps allowed for doing SL (in our case,\n",
        "            100 total materials - 50 materials in the initial training set\n",
        "            = maximum 50 steps to find the optimum)\n",
        "\n",
        "    Returns:\n",
        "        int: the index of the chosen material\n",
        "    \"\"\"\n",
        "    arr = y\n",
        "    minima = arr.argsort()[0:50]\n",
        "    in_train = np.zeros(len(X), dtype=np.bool)\n",
        "    in_train[minima] = True\n",
        "\n",
        "    all_inds = set(range(len(y)))\n",
        "    K = np.zeros(n_steps)\n",
        "    L = np.zeros(n_steps)\n",
        "    mli_train = [list(set(np.where(in_train)[0].tolist()))]\n",
        "    mli_train_inds = []\n",
        "\n",
        "    T = 10\n",
        "\n",
        "    for i in tqdm.tqdm(range(n_steps)):\n",
        "        mli_train_inds = mli_train[-1].copy()\n",
        "        mli_search_inds = list(all_inds.difference(mli_train_inds))\n",
        "\n",
        "        mli_selection_index = []\n",
        "        for j in range(T):\n",
        "            model.fit(X[mli_train_inds], y[mli_train_inds])\n",
        "            mli_y_pred_prov, mli_y_std_prov = model.predict(\n",
        "                X[mli_search_inds], return_std=True\n",
        "            )\n",
        "            mli_selection_index.append(\n",
        "                np.argmax(\n",
        "                    np.divide(\n",
        "                        mli_y_pred_prov - np.max(y[mli_train_inds]), mli_y_std_prov\n",
        "                    )\n",
        "                )\n",
        "            )\n",
        "\n",
        "        mli_index_L = max(set(mli_selection_index), key=mli_selection_index.count)\n",
        "        mli_index = mli_search_inds[mli_index_L]  # Pick the most preferred entry\n",
        "\n",
        "        mli_train_inds.append(mli_search_inds[mli_index_L])\n",
        "        mli_train.append(mli_train_inds)\n",
        "        L[i] = mli_index\n",
        "        K[i] = mli_train_inds[-1]\n",
        "        if mli_train_inds[-1] == np.argmax(y):\n",
        "            break\n",
        "\n",
        "    return K\n",
        "\n",
        "\n",
        "def MU(X: np.ndarray, y: np.ndarray, n_steps: int) -> int:\n",
        "    \"\"\"Acquisition functions MU.\n",
        "\n",
        "    Args:\n",
        "        X (numpy.ndarray): matrix with n rows (number of total materials for\n",
        "            which doing the SL, in our case 100) and d columns (number of features\n",
        "            taken into account for the optimization)\n",
        "        y (numpy.ndarray): vector with n rows (target property)\n",
        "        n_steps (int): number of steps allowed for doing SL (in our case,\n",
        "            100 total materials - 50 materials in the initial training set\n",
        "            = maximum 50 steps to find the optimum)\n",
        "\n",
        "    Returns:\n",
        "        int: the index of the chosen material\n",
        "    \"\"\"\n",
        "\n",
        "    arr = y\n",
        "    minima = arr.argsort()[0:50]\n",
        "    in_train = np.zeros(len(X), dtype=np.bool)\n",
        "    in_train[minima] = True\n",
        "\n",
        "    all_inds = set(range(len(y)))\n",
        "    R = np.zeros(n_steps)\n",
        "    S = np.zeros(n_steps)\n",
        "    mu_train = [list(set(np.where(in_train)[0].tolist()))]\n",
        "    mu_train_inds = []\n",
        "\n",
        "    T = 10\n",
        "\n",
        "    for i in tqdm.tqdm(range(n_steps)):\n",
        "        mu_train_inds = mu_train[-1].copy()\n",
        "        mu_search_inds = list(all_inds.difference(mu_train_inds))\n",
        "\n",
        "        mu_selection_index = []\n",
        "        for j in range(T):\n",
        "            model.fit(X[mu_train_inds], y[mu_train_inds])\n",
        "            mu_y_pred_prov, mu_y_std_prov = model.predict(\n",
        "                X[mu_search_inds], return_std=True\n",
        "            )\n",
        "            mu_selection_index.append(np.argmax(mu_y_std_prov))\n",
        "\n",
        "        mu_index_R = max(set(mu_selection_index), key=mu_selection_index.count)\n",
        "        mu_index = mu_search_inds[mu_index_R]\n",
        "\n",
        "        mu_train_inds.append(mu_search_inds[mu_index_R])\n",
        "        mu_train.append(mu_train_inds)  # Pick the most preferred entry\n",
        "        R[i] = mu_index\n",
        "        S[i] = mu_train_inds[-1]\n",
        "        if mu_train_inds[-1] == np.argmax(y):\n",
        "            break\n",
        "\n",
        "    return S"
      ]
    },
    {
      "cell_type": "markdown",
      "metadata": {
        "id": "Pfa4kJXRDJ2Q"
      },
      "source": [
        "Replace your group number in the random_state below"
      ]
    },
    {
      "cell_type": "code",
      "execution_count": null,
      "metadata": {
        "id": "NpTfDvBdCleP"
      },
      "outputs": [],
      "source": [
        "def produce_Data_SL(\n",
        "    Data: pd.DataFrame,\n",
        "    Output_mean_shap: pd.DataFrame,\n",
        "    n_relevant: int,\n",
        "    target_property: str,\n",
        ") -> tuple:\n",
        "    \"\"\"Function to produce datasets for SL starting from the complete database (Featurized_data).\n",
        "\n",
        "    Args:\n",
        "        Data (pandas.DataFrame): complete database (Featureized_data)\n",
        "        Output_mean_shap (pandas.DataFrame): ranking of features used in terms of importance\n",
        "        n_relevant (int): number of relevant features\n",
        "        target_property (str): name of the target property in the complete database\n",
        "\n",
        "    Returns:\n",
        "        tuple: containing:\n",
        "            -  pandas.DataFrame: dataset with only the relevant features + the target property\n",
        "            -  pandas.DataFrame: dataset with relevant features + set of unrelevant features\n",
        "                (summing up to 30 columns) + the target property\n",
        "    \"\"\"\n",
        "\n",
        "    relevant_features = list(Output_mean_shap.iloc[:n_relevant].index)\n",
        "    unrelevant_features = list(\n",
        "        Output_mean_shap.sort_values(\"mean\").iloc[: int(30 - n_relevant)].index\n",
        "    )\n",
        "    all_features = relevant_features + unrelevant_features\n",
        "\n",
        "    relevant_features.append(target_property)\n",
        "    all_features.append(target_property)\n",
        "\n",
        "    Data_sampled = Data.sample(\n",
        "        n=100, random_state=0\n",
        "    )  # replace the random_state with your group number\n",
        "\n",
        "    Data_relevant_features = pd.DataFrame(Data_sampled, columns=relevant_features)\n",
        "    Data_all_features = pd.DataFrame(Data_sampled, columns=all_features)\n",
        "\n",
        "    return (Data_relevant_features, Data_all_features)"
      ]
    },
    {
      "cell_type": "markdown",
      "metadata": {
        "id": "5_mmmDpG6du0"
      },
      "source": [
        "### **Definition of the SL predictor**\n",
        "The SL predictor is constructed on the basis of the Random Forest Regressor by lolopy."
      ]
    },
    {
      "cell_type": "code",
      "execution_count": null,
      "metadata": {
        "id": "Ng-hmO_ODcvC"
      },
      "outputs": [],
      "source": [
        "model = RandomForestRegressor()"
      ]
    },
    {
      "cell_type": "markdown",
      "metadata": {
        "id": "WX6MDlyD61kc"
      },
      "source": [
        "### **Datasets production for SL**\n",
        "We produce two datasets:\n",
        "* Data_relevant_features, with 100 random rows and the relevant features explaining the 75% of the predictive model (see section Interpretability) + target property column\n",
        "* Data_all_features, with 100 random rows and 30 features, given by the relevant features (above point) + set of unrelevant features + target property column"
      ]
    },
    {
      "cell_type": "code",
      "execution_count": null,
      "metadata": {
        "id": "jibeNvi3DiDq"
      },
      "outputs": [],
      "source": [
        "Data_relevant_features, Data_all_features = produce_Data_SL(\n",
        "    Featurized_data, Output_mean_shap, ind_cross1 + 1, \"Tc\"\n",
        ")"
      ]
    },
    {
      "cell_type": "code",
      "execution_count": null,
      "metadata": {
        "colab": {
          "base_uri": "https://localhost:8080/"
        },
        "id": "jZkCC5ouKAR1",
        "outputId": "23390235-fb94-4bb6-883a-8b1d0405b38e"
      },
      "outputs": [
        {
          "data": {
            "text/plain": [
              "Index(['MagpieData avg_dev SpaceGroupNumber', 'MagpieData avg_dev GSvolume_pa',\n",
              "       'MagpieData mean NUnfilled', 'MagpieData avg_dev Column',\n",
              "       'MagpieData mean MeltingT', 'MagpieData mode GSvolume_pa',\n",
              "       'avg ionic char', 'MagpieData range Column',\n",
              "       'MagpieData avg_dev Electronegativity', 'MagpieData range NValence',\n",
              "       'MagpieData avg_dev NUnfilled', 'max ionic char',\n",
              "       'MagpieData avg_dev GSmagmom', 'MagpieData avg_dev NdValence',\n",
              "       'MagpieData mean NValence', 'MagpieData mean GSvolume_pa', 'Tc'],\n",
              "      dtype='object')"
            ]
          },
          "execution_count": 151,
          "metadata": {},
          "output_type": "execute_result"
        }
      ],
      "source": [
        "Data_relevant_features.columns"
      ]
    },
    {
      "cell_type": "code",
      "execution_count": null,
      "metadata": {
        "colab": {
          "base_uri": "https://localhost:8080/"
        },
        "id": "VTRCRt0xKCb5",
        "outputId": "ec73ec6d-e2ba-4f0f-800a-0d26a35693a7"
      },
      "outputs": [
        {
          "data": {
            "text/plain": [
              "Index(['MagpieData avg_dev SpaceGroupNumber', 'MagpieData avg_dev GSvolume_pa',\n",
              "       'MagpieData mean NUnfilled', 'MagpieData avg_dev Column',\n",
              "       'MagpieData mean MeltingT', 'MagpieData mode GSvolume_pa',\n",
              "       'avg ionic char', 'MagpieData range Column',\n",
              "       'MagpieData avg_dev Electronegativity', 'MagpieData range NValence',\n",
              "       'MagpieData avg_dev NUnfilled', 'max ionic char',\n",
              "       'MagpieData avg_dev GSmagmom', 'MagpieData avg_dev NdValence',\n",
              "       'MagpieData mean NValence', 'MagpieData mean GSvolume_pa',\n",
              "       'MagpieData minimum NfUnfilled', 'MagpieData minimum GSbandgap',\n",
              "       'MagpieData mode NfUnfilled', 'MagpieData minimum GSmagmom',\n",
              "       'MagpieData minimum NfValence', 'MagpieData minimum NsUnfilled',\n",
              "       'MagpieData maximum NsValence', 'MagpieData minimum NpValence',\n",
              "       'MagpieData mode NfValence', 'MagpieData minimum NdValence',\n",
              "       'MagpieData minimum Row', 'MagpieData range NsValence',\n",
              "       'MagpieData minimum NsValence', 'MagpieData mode NdUnfilled', 'Tc'],\n",
              "      dtype='object')"
            ]
          },
          "execution_count": 152,
          "metadata": {},
          "output_type": "execute_result"
        }
      ],
      "source": [
        "Data_all_features.columns"
      ]
    },
    {
      "cell_type": "markdown",
      "metadata": {
        "id": "KGseQBYpFNOJ",
        "outputId": "667c13a1-3f02-417c-dd0a-0273dfdebdc6"
      },
      "source": [
        "![https://raw.githubusercontent.com/paolodeangelis/AEM/main/img/Image_Data.png](https://raw.githubusercontent.com/paolodeangelis/AEM/main/img/Image_Data.png)"
      ]
    },
    {
      "cell_type": "markdown",
      "metadata": {
        "id": "SDGlsl1RFOMz"
      },
      "source": [
        "#### **Sequential Learning relevant features**\n",
        "Start with the pool of the 50 worst samples in terms of the target $y$ (critical Temperature); SL strategies suggest the next material to be evaluated. The objective is to find the optimum among the other 50 materials with as few evaluations as possible. Search stops when the material with the maximum $y$ (among those remaining 50) is chosen. \n",
        "\n",
        "Three strategies are compared: Maximum Expected Improvement (MEI), Maximum Likelihood Improvement (MLI), Maximum Uncertainty (MU)."
      ]
    },
    {
      "cell_type": "markdown",
      "metadata": {
        "id": "OQYCshEHCtDq"
      },
      "source": [
        "<div class=\"alert alert-block alert-warning\">\n",
        "<b>WARNING: </b> \n",
        "\n",
        "Since also the Random Forest Regressor by lolopy for SL is not deterministic, if you run the code more times, you will end up with different *trajectories* of evaluations.\n",
        "</div>"
      ]
    },
    {
      "cell_type": "markdown",
      "metadata": {
        "id": "qWuoV0hjIKyR",
        "outputId": "a3d10649-501b-4f6c-ceff-846fb2a82410"
      },
      "source": [
        "![https://raw.githubusercontent.com/paolodeangelis/AEM/main/img/Image_SL.png](https://raw.githubusercontent.com/paolodeangelis/AEM/main/img/Image_SL.png)"
      ]
    },
    {
      "cell_type": "code",
      "execution_count": null,
      "metadata": {
        "colab": {
          "base_uri": "https://localhost:8080/"
        },
        "id": "-fhmSGpOD2x5",
        "outputId": "b33f8003-cb06-4302-a67a-0f8a4a49869d"
      },
      "outputs": [
        {
          "name": "stderr",
          "output_type": "stream",
          "text": [
            "`np.bool` is a deprecated alias for the builtin `bool`. To silence this warning, use `bool` by itself. Doing this will not modify any behavior and is safe. If you specifically wanted the numpy scalar type, use `np.bool_` here.\n",
            "Deprecated in NumPy 1.20; for more details and guidance: https://numpy.org/devdocs/release/1.20.0-notes.html#deprecations\n",
            " 10%|█         | 5/50 [00:07<01:05,  1.45s/it]\n"
          ]
        }
      ],
      "source": [
        "MEI_index_relevant = MEI(\n",
        "    Data_relevant_features.iloc[:, :-1].values,\n",
        "    Data_relevant_features.iloc[:, -1].values,\n",
        "    50,\n",
        ")"
      ]
    },
    {
      "cell_type": "code",
      "execution_count": null,
      "metadata": {
        "colab": {
          "base_uri": "https://localhost:8080/"
        },
        "id": "OLg1tkkrECfi",
        "outputId": "48f66a28-5b1e-42be-b250-187d719497de"
      },
      "outputs": [
        {
          "name": "stderr",
          "output_type": "stream",
          "text": [
            "`np.bool` is a deprecated alias for the builtin `bool`. To silence this warning, use `bool` by itself. Doing this will not modify any behavior and is safe. If you specifically wanted the numpy scalar type, use `np.bool_` here.\n",
            "Deprecated in NumPy 1.20; for more details and guidance: https://numpy.org/devdocs/release/1.20.0-notes.html#deprecations\n",
            " 20%|██        | 10/50 [00:07<00:28,  1.38it/s]\n"
          ]
        }
      ],
      "source": [
        "MLI_index_relevant = MLI(\n",
        "    Data_relevant_features.iloc[:, :-1].values,\n",
        "    Data_relevant_features.iloc[:, -1].values,\n",
        "    50,\n",
        ")"
      ]
    },
    {
      "cell_type": "code",
      "execution_count": null,
      "metadata": {
        "colab": {
          "base_uri": "https://localhost:8080/"
        },
        "id": "5MooOKyfEw8U",
        "outputId": "284ff41f-a40b-4012-abbc-56b2ac0a04e3"
      },
      "outputs": [
        {
          "name": "stderr",
          "output_type": "stream",
          "text": [
            "`np.bool` is a deprecated alias for the builtin `bool`. To silence this warning, use `bool` by itself. Doing this will not modify any behavior and is safe. If you specifically wanted the numpy scalar type, use `np.bool_` here.\n",
            "Deprecated in NumPy 1.20; for more details and guidance: https://numpy.org/devdocs/release/1.20.0-notes.html#deprecations\n",
            " 14%|█▍        | 7/50 [00:04<00:25,  1.68it/s]\n"
          ]
        }
      ],
      "source": [
        "MU_index_relevant = MU(\n",
        "    Data_relevant_features.iloc[:, :-1].values,\n",
        "    Data_relevant_features.iloc[:, -1].values,\n",
        "    50,\n",
        ")"
      ]
    },
    {
      "cell_type": "markdown",
      "metadata": {
        "id": "5ZVm3m4mFSjT"
      },
      "source": [
        "#### **Sequential Learning relevant + unrelevant features**\n",
        "Start with the pool of the 50 worst samples in terms of the target $y$ (critical Temperature); SL strategies suggest the next material to be evaluated. The objective is to find the optimum among the other 50 materials with as few evaluations as possible. Search stops when the material with the maximum $y$ (among those remaining 50) is chosen. \n",
        "\n",
        "Three strategies are compared: Maximum Expected Improvement (MEI), Maximum Likelihood Improvement (MLI), Maximum Uncertainty (MU)."
      ]
    },
    {
      "cell_type": "markdown",
      "metadata": {
        "id": "fRSu2AL_CtDu"
      },
      "source": [
        "<div class=\"alert alert-block alert-warning\">\n",
        "<b>WARNING: </b> \n",
        "\n",
        "Since also the Random Forest Regressor by lolopy for SL is not deterministic, if you run the code more times, you will end up with different *trajectories* of evaluations. \n",
        "</div>"
      ]
    },
    {
      "cell_type": "code",
      "execution_count": null,
      "metadata": {
        "colab": {
          "base_uri": "https://localhost:8080/"
        },
        "id": "6ruq1WZ7FVdd",
        "outputId": "e482c9dc-3a52-4b6b-c71e-694487d370ac"
      },
      "outputs": [
        {
          "name": "stderr",
          "output_type": "stream",
          "text": [
            "`np.bool` is a deprecated alias for the builtin `bool`. To silence this warning, use `bool` by itself. Doing this will not modify any behavior and is safe. If you specifically wanted the numpy scalar type, use `np.bool_` here.\n",
            "Deprecated in NumPy 1.20; for more details and guidance: https://numpy.org/devdocs/release/1.20.0-notes.html#deprecations\n",
            " 20%|██        | 10/50 [00:08<00:33,  1.18it/s]\n"
          ]
        }
      ],
      "source": [
        "MEI_index_all = MEI(\n",
        "    Data_all_features.iloc[:, :-1].values, Data_all_features.iloc[:, -1].values, 50\n",
        ")"
      ]
    },
    {
      "cell_type": "code",
      "execution_count": null,
      "metadata": {
        "colab": {
          "base_uri": "https://localhost:8080/"
        },
        "id": "psfm-u6UFkAt",
        "outputId": "572673e0-e0e2-45d7-e0e9-a80443273259"
      },
      "outputs": [
        {
          "name": "stderr",
          "output_type": "stream",
          "text": [
            "`np.bool` is a deprecated alias for the builtin `bool`. To silence this warning, use `bool` by itself. Doing this will not modify any behavior and is safe. If you specifically wanted the numpy scalar type, use `np.bool_` here.\n",
            "Deprecated in NumPy 1.20; for more details and guidance: https://numpy.org/devdocs/release/1.20.0-notes.html#deprecations\n",
            " 18%|█▊        | 9/50 [00:08<00:36,  1.11it/s]\n"
          ]
        }
      ],
      "source": [
        "MLI_index_all = MLI(\n",
        "    Data_all_features.iloc[:, :-1].values, Data_all_features.iloc[:, -1].values, 50\n",
        ")"
      ]
    },
    {
      "cell_type": "code",
      "execution_count": null,
      "metadata": {
        "colab": {
          "base_uri": "https://localhost:8080/"
        },
        "id": "5LhovgrNFpH4",
        "outputId": "bfe14677-ac1d-4f77-cf4f-d65b24afc670"
      },
      "outputs": [
        {
          "name": "stderr",
          "output_type": "stream",
          "text": [
            "`np.bool` is a deprecated alias for the builtin `bool`. To silence this warning, use `bool` by itself. Doing this will not modify any behavior and is safe. If you specifically wanted the numpy scalar type, use `np.bool_` here.\n",
            "Deprecated in NumPy 1.20; for more details and guidance: https://numpy.org/devdocs/release/1.20.0-notes.html#deprecations\n",
            " 14%|█▍        | 7/50 [00:05<00:33,  1.27it/s]\n"
          ]
        }
      ],
      "source": [
        "MU_index_all = MU(\n",
        "    Data_all_features.iloc[:, :-1].values, Data_all_features.iloc[:, -1].values, 50\n",
        ")"
      ]
    },
    {
      "cell_type": "markdown",
      "metadata": {
        "id": "EbvwqG20Od3B"
      },
      "source": [
        "#### **Comprehensive comparison between more strategies and different sets of features**\n",
        "We plot the performances of the SL in terms of the number of evaluations needed to find the optimum normalized with respect to the average number of evaluations needed with a *naive* random choice.\n",
        "\n",
        "Replace the numbers 19, 12, ..., with the numbers of evaluations performed by SL in your runs."
      ]
    },
    {
      "cell_type": "code",
      "execution_count": null,
      "metadata": {
        "colab": {
          "base_uri": "https://localhost:8080/",
          "height": 568
        },
        "id": "EG9-xWdiFt0b",
        "outputId": "4f89d01a-c10e-4621-9afe-54a143d377d7"
      },
      "outputs": [
        {
          "data": {
            "image/png": "[encoded data removed]",
            "text/plain": [
              "<Figure size 950x570 with 1 Axes>"
            ]
          },
          "metadata": {
            "needs_background": "light"
          },
          "output_type": "display_data"
        }
      ],
      "source": [
        "N = 50 / 2  # number of evaluations in random choice\n",
        "labels = [\"MEI\", \"MLI\", \"MU\"]\n",
        "relevant = [\n",
        "    19 / N,\n",
        "    12 / N,\n",
        "    8 / N,\n",
        "]  # replace numbers with the numbers of evaluations performed by SL for MEI, MLI, MU with only relevant features\n",
        "all = [\n",
        "    15 / N,\n",
        "    12 / N,\n",
        "    31 / N,\n",
        "]  # replace numbers with the numbers of evaluations performed by SL for MEI, MLI, MU with also unrelevant features\n",
        "\n",
        "x = np.arange(len(labels))  # the label locations\n",
        "width = 0.2  # the width of the bars\n",
        "\n",
        "import matplotlib.pyplot as plt\n",
        "\n",
        "fig, ax = plt.subplots(figsize=(5, 3), dpi=190)\n",
        "\n",
        "rects1 = ax.bar(x - width / 2, relevant, width, label=\"%i features\" % (ind_cross1 + 1))\n",
        "rects2 = ax.bar(x + width / 2, all, width, label=\"30 features\")\n",
        "plt.axhline(y=1, color=\"k\", linewidth=1, linestyle=\"--\")\n",
        "\n",
        "\n",
        "# Add some text for labels, title and custom x-axis tick labels, etc.\n",
        "ax.set_ylabel(\"Number of experiments/\\n number of random experiments\")\n",
        "ax.set_xticks(x)\n",
        "ax.set_xticklabels(labels)\n",
        "ax.legend()\n",
        "\n",
        "ax.annotate(\n",
        "    \"random choice\",\n",
        "    xy=(1, 1),\n",
        "    xytext=(1.3, 1.2),\n",
        "    arrowprops=dict(facecolor=\"black\", width=0.1, headwidth=4),\n",
        ")\n",
        "\n",
        "\n",
        "fig.tight_layout()\n",
        "\n",
        "plt.show()"
      ]
    },
    {
      "cell_type": "markdown",
      "metadata": {
        "id": "XKFm_Nm5k7tG"
      },
      "source": [
        "## Assignment \n",
        "### Notebook\n",
        "* In this notebook, whenever you see ```random_state = 0```, please replace 0 with the number of your group.\n",
        "* In this notebook, after the SL runs, in the subsection \"Comprehensive comparison between more strategies and different sets of features\", please replace the number of evaluations (19, 12, 8, ...) with the ones that you obtain in your runs. Please notice that, since the code is not deterministic, if you run the same code more times, in general you will end up with different results. Don't worry: just report the number of evaluations of one run for each of the 6 cases (3 methodologies with 2 different sets of features).\n",
        "\n",
        "### Report\n",
        "* **First part**: with this notebook modified as prescribed above, obtain main results (model performances, relevant features, Sequential Learning performances).\n",
        "* **Second part**: redo the *Machine Learning* section and the *Interpretability* section modifying the number of materials in the dataset and the number of estimators in the Random Forest Regressor (for the predictive model). Combinations of those parameters are provided for each group in the document \"Assignments for the machine learning lab\". For each combination, please, re-run the code from the SuperCon database import.\n",
        "\n",
        "\n",
        "\n"
      ]
    }
  ],
  "metadata": {
    "colab": {
      "collapsed_sections": [],
      "name": "2-Hands_on_ML_SL.ipynb",
      "provenance": []
    },
    "kernelspec": {
      "display_name": "Python 3",
      "name": "python3"
    },
    "language_info": {
      "name": "python"
    }
  },
  "nbformat": 4,
  "nbformat_minor": 0
}
